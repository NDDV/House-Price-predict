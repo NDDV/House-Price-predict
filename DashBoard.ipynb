{
 "cells": [
  {
   "cell_type": "code",
   "execution_count": 1,
   "id": "cc3796a2",
   "metadata": {},
   "outputs": [
    {
     "data": {
      "application/javascript": [
       "(function(root) {\n",
       "  function now() {\n",
       "    return new Date();\n",
       "  }\n",
       "\n",
       "  var force = true;\n",
       "\n",
       "  if (typeof root._bokeh_onload_callbacks === \"undefined\" || force === true) {\n",
       "    root._bokeh_onload_callbacks = [];\n",
       "    root._bokeh_is_loading = undefined;\n",
       "  }\n",
       "\n",
       "  if (typeof (root._bokeh_timeout) === \"undefined\" || force === true) {\n",
       "    root._bokeh_timeout = Date.now() + 5000;\n",
       "    root._bokeh_failed_load = false;\n",
       "  }\n",
       "\n",
       "  function run_callbacks() {\n",
       "    try {\n",
       "      root._bokeh_onload_callbacks.forEach(function(callback) {\n",
       "        if (callback != null)\n",
       "          callback();\n",
       "      });\n",
       "    } finally {\n",
       "      delete root._bokeh_onload_callbacks\n",
       "    }\n",
       "    console.debug(\"Bokeh: all callbacks have finished\");\n",
       "  }\n",
       "\n",
       "  function load_libs(css_urls, js_urls, js_modules, callback) {\n",
       "    if (css_urls == null) css_urls = [];\n",
       "    if (js_urls == null) js_urls = [];\n",
       "    if (js_modules == null) js_modules = [];\n",
       "\n",
       "    root._bokeh_onload_callbacks.push(callback);\n",
       "    if (root._bokeh_is_loading > 0) {\n",
       "      console.debug(\"Bokeh: BokehJS is being loaded, scheduling callback at\", now());\n",
       "      return null;\n",
       "    }\n",
       "    if (js_urls.length === 0 && js_modules.length === 0) {\n",
       "      run_callbacks();\n",
       "      return null;\n",
       "    }\n",
       "    console.debug(\"Bokeh: BokehJS not loaded, scheduling load and callback at\", now());\n",
       "\n",
       "    function on_load() {\n",
       "      root._bokeh_is_loading--;\n",
       "      if (root._bokeh_is_loading === 0) {\n",
       "        console.debug(\"Bokeh: all BokehJS libraries/stylesheets loaded\");\n",
       "        run_callbacks()\n",
       "      }\n",
       "    }\n",
       "\n",
       "    function on_error() {\n",
       "      console.error(\"failed to load \" + url);\n",
       "    }\n",
       "\n",
       "    for (var i = 0; i < css_urls.length; i++) {\n",
       "      var url = css_urls[i];\n",
       "      const element = document.createElement(\"link\");\n",
       "      element.onload = on_load;\n",
       "      element.onerror = on_error;\n",
       "      element.rel = \"stylesheet\";\n",
       "      element.type = \"text/css\";\n",
       "      element.href = url;\n",
       "      console.debug(\"Bokeh: injecting link tag for BokehJS stylesheet: \", url);\n",
       "      document.body.appendChild(element);\n",
       "    }\n",
       "\n",
       "    var skip = [];\n",
       "    if (window.requirejs) {\n",
       "      window.requirejs.config({'packages': {}, 'paths': {'tabulator': 'https://unpkg.com/tabulator-tables@4.9.3/dist/js/tabulator', 'moment': 'https://cdn.jsdelivr.net/npm/luxon/build/global/luxon.min', 'gridstack': 'https://cdn.jsdelivr.net/npm/gridstack@4.2.5/dist/gridstack-h5', 'notyf': 'https://cdn.jsdelivr.net/npm/notyf@3/notyf.min'}, 'shim': {'gridstack': {'exports': 'GridStack'}}});\n",
       "      require([\"tabulator\"], function(Tabulator) {\n",
       "\twindow.Tabulator = Tabulator\n",
       "\ton_load()\n",
       "      })\n",
       "      require([\"moment\"], function(moment) {\n",
       "\twindow.moment = moment\n",
       "\ton_load()\n",
       "      })\n",
       "      require([\"gridstack\"], function(GridStack) {\n",
       "\twindow.GridStack = GridStack\n",
       "\ton_load()\n",
       "      })\n",
       "      require([\"notyf\"], function() {\n",
       "\ton_load()\n",
       "      })\n",
       "      root._bokeh_is_loading = css_urls.length + 4;\n",
       "    } else {\n",
       "      root._bokeh_is_loading = css_urls.length + js_urls.length + js_modules.length;\n",
       "    }    if (((window['Tabulator'] !== undefined) && (!(window['Tabulator'] instanceof HTMLElement))) || window.requirejs) {\n",
       "      var urls = ['https://unpkg.com/tabulator-tables@4.9.3/dist/js/tabulator.js'];\n",
       "      for (var i = 0; i < urls.length; i++) {\n",
       "        skip.push(urls[i])\n",
       "      }\n",
       "    }    if (((window['moment'] !== undefined) && (!(window['moment'] instanceof HTMLElement))) || window.requirejs) {\n",
       "      var urls = ['https://cdn.jsdelivr.net/npm/luxon/build/global/luxon.min.js'];\n",
       "      for (var i = 0; i < urls.length; i++) {\n",
       "        skip.push(urls[i])\n",
       "      }\n",
       "    }    if (((window['GridStack'] !== undefined) && (!(window['GridStack'] instanceof HTMLElement))) || window.requirejs) {\n",
       "      var urls = ['https://cdn.jsdelivr.net/npm/gridstack@4.2.5/dist/gridstack-h5.js'];\n",
       "      for (var i = 0; i < urls.length; i++) {\n",
       "        skip.push(urls[i])\n",
       "      }\n",
       "    }    if (((window['Notyf'] !== undefined) && (!(window['Notyf'] instanceof HTMLElement))) || window.requirejs) {\n",
       "      var urls = ['https://cdn.jsdelivr.net/npm/notyf@3/notyf.min.js'];\n",
       "      for (var i = 0; i < urls.length; i++) {\n",
       "        skip.push(urls[i])\n",
       "      }\n",
       "    }    for (var i = 0; i < js_urls.length; i++) {\n",
       "      var url = js_urls[i];\n",
       "      if (skip.indexOf(url) >= 0) {\n",
       "\tif (!window.requirejs) {\n",
       "\t  on_load();\n",
       "\t}\n",
       "\tcontinue;\n",
       "      }\n",
       "      var element = document.createElement('script');\n",
       "      element.onload = on_load;\n",
       "      element.onerror = on_error;\n",
       "      element.async = false;\n",
       "      element.src = url;\n",
       "      console.debug(\"Bokeh: injecting script tag for BokehJS library: \", url);\n",
       "      document.head.appendChild(element);\n",
       "    }\n",
       "    for (var i = 0; i < js_modules.length; i++) {\n",
       "      var url = js_modules[i];\n",
       "      if (skip.indexOf(url) >= 0) {\n",
       "\tif (!window.requirejs) {\n",
       "\t  on_load();\n",
       "\t}\n",
       "\tcontinue;\n",
       "      }\n",
       "      var element = document.createElement('script');\n",
       "      element.onload = on_load;\n",
       "      element.onerror = on_error;\n",
       "      element.async = false;\n",
       "      element.src = url;\n",
       "      element.type = \"module\";\n",
       "      console.debug(\"Bokeh: injecting script tag for BokehJS library: \", url);\n",
       "      document.head.appendChild(element);\n",
       "    }\n",
       "    if (!js_urls.length && !js_modules.length) {\n",
       "      on_load()\n",
       "    }\n",
       "  };\n",
       "\n",
       "  function inject_raw_css(css) {\n",
       "    const element = document.createElement(\"style\");\n",
       "    element.appendChild(document.createTextNode(css));\n",
       "    document.body.appendChild(element);\n",
       "  }\n",
       "\n",
       "  var js_urls = [\"https://unpkg.com/tabulator-tables@4.9.3/dist/js/tabulator.js\", \"https://cdn.jsdelivr.net/npm/luxon/build/global/luxon.min.js\", \"https://cdn.bokeh.org/bokeh/release/bokeh-2.4.3.min.js\", \"https://cdn.bokeh.org/bokeh/release/bokeh-gl-2.4.3.min.js\", \"https://cdn.bokeh.org/bokeh/release/bokeh-widgets-2.4.3.min.js\", \"https://cdn.bokeh.org/bokeh/release/bokeh-tables-2.4.3.min.js\", \"https://cdn.bokeh.org/bokeh/release/bokeh-mathjax-2.4.3.min.js\", \"https://cdn.jsdelivr.net/npm/notyf@3/notyf.min.js\", \"https://unpkg.com/@holoviz/panel@0.13.1/dist/panel.min.js\"];\n",
       "  var js_modules = [];\n",
       "  var css_urls = [\"https://unpkg.com/tabulator-tables@4.9.3/dist/css/tabulator_simple.min.css\", \"https://cdn.jsdelivr.net/npm/notyf@3/notyf.min.css\", \"https://cdnjs.cloudflare.com/ajax/libs/font-awesome/5.15.1/css/all.min.css\", \"https://unpkg.com/@holoviz/panel@0.13.1/dist/css/alerts.css\", \"https://unpkg.com/@holoviz/panel@0.13.1/dist/css/card.css\", \"https://unpkg.com/@holoviz/panel@0.13.1/dist/css/dataframe.css\", \"https://unpkg.com/@holoviz/panel@0.13.1/dist/css/debugger.css\", \"https://unpkg.com/@holoviz/panel@0.13.1/dist/css/json.css\", \"https://unpkg.com/@holoviz/panel@0.13.1/dist/css/loading.css\", \"https://unpkg.com/@holoviz/panel@0.13.1/dist/css/markdown.css\", \"https://unpkg.com/@holoviz/panel@0.13.1/dist/css/widgets.css\"];\n",
       "  var inline_js = [    function(Bokeh) {\n",
       "      inject_raw_css(\"\\n    .bk.pn-loading.arcs:before {\\n      background-image: url(\\\"data:image/svg+xml;base64,PHN2ZyB4bWxucz0iaHR0cDovL3d3dy53My5vcmcvMjAwMC9zdmciIHhtbG5zOnhsaW5rPSJodHRwOi8vd3d3LnczLm9yZy8xOTk5L3hsaW5rIiBzdHlsZT0ibWFyZ2luOiBhdXRvOyBiYWNrZ3JvdW5kOiBub25lOyBkaXNwbGF5OiBibG9jazsgc2hhcGUtcmVuZGVyaW5nOiBhdXRvOyIgdmlld0JveD0iMCAwIDEwMCAxMDAiIHByZXNlcnZlQXNwZWN0UmF0aW89InhNaWRZTWlkIj4gIDxjaXJjbGUgY3g9IjUwIiBjeT0iNTAiIHI9IjMyIiBzdHJva2Utd2lkdGg9IjgiIHN0cm9rZT0iI2MzYzNjMyIgc3Ryb2tlLWRhc2hhcnJheT0iNTAuMjY1NDgyNDU3NDM2NjkgNTAuMjY1NDgyNDU3NDM2NjkiIGZpbGw9Im5vbmUiIHN0cm9rZS1saW5lY2FwPSJyb3VuZCI+ICAgIDxhbmltYXRlVHJhbnNmb3JtIGF0dHJpYnV0ZU5hbWU9InRyYW5zZm9ybSIgdHlwZT0icm90YXRlIiByZXBlYXRDb3VudD0iaW5kZWZpbml0ZSIgZHVyPSIxcyIga2V5VGltZXM9IjA7MSIgdmFsdWVzPSIwIDUwIDUwOzM2MCA1MCA1MCI+PC9hbmltYXRlVHJhbnNmb3JtPiAgPC9jaXJjbGU+PC9zdmc+\\\");\\n      background-size: auto calc(min(50%, 400px));\\n    }\\n    \");\n",
       "    },    function(Bokeh) {\n",
       "      Bokeh.set_log_level(\"info\");\n",
       "    },\n",
       "function(Bokeh) {} // ensure no trailing comma for IE\n",
       "  ];\n",
       "\n",
       "  function run_inline_js() {\n",
       "    if ((root.Bokeh !== undefined) || (force === true)) {\n",
       "      for (var i = 0; i < inline_js.length; i++) {\n",
       "        inline_js[i].call(root, root.Bokeh);\n",
       "      }} else if (Date.now() < root._bokeh_timeout) {\n",
       "      setTimeout(run_inline_js, 100);\n",
       "    } else if (!root._bokeh_failed_load) {\n",
       "      console.log(\"Bokeh: BokehJS failed to load within specified timeout.\");\n",
       "      root._bokeh_failed_load = true;\n",
       "    }\n",
       "  }\n",
       "\n",
       "  if (root._bokeh_is_loading === 0) {\n",
       "    console.debug(\"Bokeh: BokehJS loaded, going straight to plotting\");\n",
       "    run_inline_js();\n",
       "  } else {\n",
       "    load_libs(css_urls, js_urls, js_modules, function() {\n",
       "      console.debug(\"Bokeh: BokehJS plotting callback run at\", now());\n",
       "      run_inline_js();\n",
       "    });\n",
       "  }\n",
       "}(window));"
      ],
      "application/vnd.holoviews_load.v0+json": "(function(root) {\n  function now() {\n    return new Date();\n  }\n\n  var force = true;\n\n  if (typeof root._bokeh_onload_callbacks === \"undefined\" || force === true) {\n    root._bokeh_onload_callbacks = [];\n    root._bokeh_is_loading = undefined;\n  }\n\n  if (typeof (root._bokeh_timeout) === \"undefined\" || force === true) {\n    root._bokeh_timeout = Date.now() + 5000;\n    root._bokeh_failed_load = false;\n  }\n\n  function run_callbacks() {\n    try {\n      root._bokeh_onload_callbacks.forEach(function(callback) {\n        if (callback != null)\n          callback();\n      });\n    } finally {\n      delete root._bokeh_onload_callbacks\n    }\n    console.debug(\"Bokeh: all callbacks have finished\");\n  }\n\n  function load_libs(css_urls, js_urls, js_modules, callback) {\n    if (css_urls == null) css_urls = [];\n    if (js_urls == null) js_urls = [];\n    if (js_modules == null) js_modules = [];\n\n    root._bokeh_onload_callbacks.push(callback);\n    if (root._bokeh_is_loading > 0) {\n      console.debug(\"Bokeh: BokehJS is being loaded, scheduling callback at\", now());\n      return null;\n    }\n    if (js_urls.length === 0 && js_modules.length === 0) {\n      run_callbacks();\n      return null;\n    }\n    console.debug(\"Bokeh: BokehJS not loaded, scheduling load and callback at\", now());\n\n    function on_load() {\n      root._bokeh_is_loading--;\n      if (root._bokeh_is_loading === 0) {\n        console.debug(\"Bokeh: all BokehJS libraries/stylesheets loaded\");\n        run_callbacks()\n      }\n    }\n\n    function on_error() {\n      console.error(\"failed to load \" + url);\n    }\n\n    for (var i = 0; i < css_urls.length; i++) {\n      var url = css_urls[i];\n      const element = document.createElement(\"link\");\n      element.onload = on_load;\n      element.onerror = on_error;\n      element.rel = \"stylesheet\";\n      element.type = \"text/css\";\n      element.href = url;\n      console.debug(\"Bokeh: injecting link tag for BokehJS stylesheet: \", url);\n      document.body.appendChild(element);\n    }\n\n    var skip = [];\n    if (window.requirejs) {\n      window.requirejs.config({'packages': {}, 'paths': {'tabulator': 'https://unpkg.com/tabulator-tables@4.9.3/dist/js/tabulator', 'moment': 'https://cdn.jsdelivr.net/npm/luxon/build/global/luxon.min', 'gridstack': 'https://cdn.jsdelivr.net/npm/gridstack@4.2.5/dist/gridstack-h5', 'notyf': 'https://cdn.jsdelivr.net/npm/notyf@3/notyf.min'}, 'shim': {'gridstack': {'exports': 'GridStack'}}});\n      require([\"tabulator\"], function(Tabulator) {\n\twindow.Tabulator = Tabulator\n\ton_load()\n      })\n      require([\"moment\"], function(moment) {\n\twindow.moment = moment\n\ton_load()\n      })\n      require([\"gridstack\"], function(GridStack) {\n\twindow.GridStack = GridStack\n\ton_load()\n      })\n      require([\"notyf\"], function() {\n\ton_load()\n      })\n      root._bokeh_is_loading = css_urls.length + 4;\n    } else {\n      root._bokeh_is_loading = css_urls.length + js_urls.length + js_modules.length;\n    }    if (((window['Tabulator'] !== undefined) && (!(window['Tabulator'] instanceof HTMLElement))) || window.requirejs) {\n      var urls = ['https://unpkg.com/tabulator-tables@4.9.3/dist/js/tabulator.js'];\n      for (var i = 0; i < urls.length; i++) {\n        skip.push(urls[i])\n      }\n    }    if (((window['moment'] !== undefined) && (!(window['moment'] instanceof HTMLElement))) || window.requirejs) {\n      var urls = ['https://cdn.jsdelivr.net/npm/luxon/build/global/luxon.min.js'];\n      for (var i = 0; i < urls.length; i++) {\n        skip.push(urls[i])\n      }\n    }    if (((window['GridStack'] !== undefined) && (!(window['GridStack'] instanceof HTMLElement))) || window.requirejs) {\n      var urls = ['https://cdn.jsdelivr.net/npm/gridstack@4.2.5/dist/gridstack-h5.js'];\n      for (var i = 0; i < urls.length; i++) {\n        skip.push(urls[i])\n      }\n    }    if (((window['Notyf'] !== undefined) && (!(window['Notyf'] instanceof HTMLElement))) || window.requirejs) {\n      var urls = ['https://cdn.jsdelivr.net/npm/notyf@3/notyf.min.js'];\n      for (var i = 0; i < urls.length; i++) {\n        skip.push(urls[i])\n      }\n    }    for (var i = 0; i < js_urls.length; i++) {\n      var url = js_urls[i];\n      if (skip.indexOf(url) >= 0) {\n\tif (!window.requirejs) {\n\t  on_load();\n\t}\n\tcontinue;\n      }\n      var element = document.createElement('script');\n      element.onload = on_load;\n      element.onerror = on_error;\n      element.async = false;\n      element.src = url;\n      console.debug(\"Bokeh: injecting script tag for BokehJS library: \", url);\n      document.head.appendChild(element);\n    }\n    for (var i = 0; i < js_modules.length; i++) {\n      var url = js_modules[i];\n      if (skip.indexOf(url) >= 0) {\n\tif (!window.requirejs) {\n\t  on_load();\n\t}\n\tcontinue;\n      }\n      var element = document.createElement('script');\n      element.onload = on_load;\n      element.onerror = on_error;\n      element.async = false;\n      element.src = url;\n      element.type = \"module\";\n      console.debug(\"Bokeh: injecting script tag for BokehJS library: \", url);\n      document.head.appendChild(element);\n    }\n    if (!js_urls.length && !js_modules.length) {\n      on_load()\n    }\n  };\n\n  function inject_raw_css(css) {\n    const element = document.createElement(\"style\");\n    element.appendChild(document.createTextNode(css));\n    document.body.appendChild(element);\n  }\n\n  var js_urls = [\"https://unpkg.com/tabulator-tables@4.9.3/dist/js/tabulator.js\", \"https://cdn.jsdelivr.net/npm/luxon/build/global/luxon.min.js\", \"https://cdn.bokeh.org/bokeh/release/bokeh-2.4.3.min.js\", \"https://cdn.bokeh.org/bokeh/release/bokeh-gl-2.4.3.min.js\", \"https://cdn.bokeh.org/bokeh/release/bokeh-widgets-2.4.3.min.js\", \"https://cdn.bokeh.org/bokeh/release/bokeh-tables-2.4.3.min.js\", \"https://cdn.bokeh.org/bokeh/release/bokeh-mathjax-2.4.3.min.js\", \"https://cdn.jsdelivr.net/npm/notyf@3/notyf.min.js\", \"https://unpkg.com/@holoviz/panel@0.13.1/dist/panel.min.js\"];\n  var js_modules = [];\n  var css_urls = [\"https://unpkg.com/tabulator-tables@4.9.3/dist/css/tabulator_simple.min.css\", \"https://cdn.jsdelivr.net/npm/notyf@3/notyf.min.css\", \"https://cdnjs.cloudflare.com/ajax/libs/font-awesome/5.15.1/css/all.min.css\", \"https://unpkg.com/@holoviz/panel@0.13.1/dist/css/alerts.css\", \"https://unpkg.com/@holoviz/panel@0.13.1/dist/css/card.css\", \"https://unpkg.com/@holoviz/panel@0.13.1/dist/css/dataframe.css\", \"https://unpkg.com/@holoviz/panel@0.13.1/dist/css/debugger.css\", \"https://unpkg.com/@holoviz/panel@0.13.1/dist/css/json.css\", \"https://unpkg.com/@holoviz/panel@0.13.1/dist/css/loading.css\", \"https://unpkg.com/@holoviz/panel@0.13.1/dist/css/markdown.css\", \"https://unpkg.com/@holoviz/panel@0.13.1/dist/css/widgets.css\"];\n  var inline_js = [    function(Bokeh) {\n      inject_raw_css(\"\\n    .bk.pn-loading.arcs:before {\\n      background-image: url(\\\"data:image/svg+xml;base64,PHN2ZyB4bWxucz0iaHR0cDovL3d3dy53My5vcmcvMjAwMC9zdmciIHhtbG5zOnhsaW5rPSJodHRwOi8vd3d3LnczLm9yZy8xOTk5L3hsaW5rIiBzdHlsZT0ibWFyZ2luOiBhdXRvOyBiYWNrZ3JvdW5kOiBub25lOyBkaXNwbGF5OiBibG9jazsgc2hhcGUtcmVuZGVyaW5nOiBhdXRvOyIgdmlld0JveD0iMCAwIDEwMCAxMDAiIHByZXNlcnZlQXNwZWN0UmF0aW89InhNaWRZTWlkIj4gIDxjaXJjbGUgY3g9IjUwIiBjeT0iNTAiIHI9IjMyIiBzdHJva2Utd2lkdGg9IjgiIHN0cm9rZT0iI2MzYzNjMyIgc3Ryb2tlLWRhc2hhcnJheT0iNTAuMjY1NDgyNDU3NDM2NjkgNTAuMjY1NDgyNDU3NDM2NjkiIGZpbGw9Im5vbmUiIHN0cm9rZS1saW5lY2FwPSJyb3VuZCI+ICAgIDxhbmltYXRlVHJhbnNmb3JtIGF0dHJpYnV0ZU5hbWU9InRyYW5zZm9ybSIgdHlwZT0icm90YXRlIiByZXBlYXRDb3VudD0iaW5kZWZpbml0ZSIgZHVyPSIxcyIga2V5VGltZXM9IjA7MSIgdmFsdWVzPSIwIDUwIDUwOzM2MCA1MCA1MCI+PC9hbmltYXRlVHJhbnNmb3JtPiAgPC9jaXJjbGU+PC9zdmc+\\\");\\n      background-size: auto calc(min(50%, 400px));\\n    }\\n    \");\n    },    function(Bokeh) {\n      Bokeh.set_log_level(\"info\");\n    },\nfunction(Bokeh) {} // ensure no trailing comma for IE\n  ];\n\n  function run_inline_js() {\n    if ((root.Bokeh !== undefined) || (force === true)) {\n      for (var i = 0; i < inline_js.length; i++) {\n        inline_js[i].call(root, root.Bokeh);\n      }} else if (Date.now() < root._bokeh_timeout) {\n      setTimeout(run_inline_js, 100);\n    } else if (!root._bokeh_failed_load) {\n      console.log(\"Bokeh: BokehJS failed to load within specified timeout.\");\n      root._bokeh_failed_load = true;\n    }\n  }\n\n  if (root._bokeh_is_loading === 0) {\n    console.debug(\"Bokeh: BokehJS loaded, going straight to plotting\");\n    run_inline_js();\n  } else {\n    load_libs(css_urls, js_urls, js_modules, function() {\n      console.debug(\"Bokeh: BokehJS plotting callback run at\", now());\n      run_inline_js();\n    });\n  }\n}(window));"
     },
     "metadata": {},
     "output_type": "display_data"
    },
    {
     "data": {
      "application/javascript": [
       "\n",
       "if ((window.PyViz === undefined) || (window.PyViz instanceof HTMLElement)) {\n",
       "  window.PyViz = {comms: {}, comm_status:{}, kernels:{}, receivers: {}, plot_index: []}\n",
       "}\n",
       "\n",
       "\n",
       "    function JupyterCommManager() {\n",
       "    }\n",
       "\n",
       "    JupyterCommManager.prototype.register_target = function(plot_id, comm_id, msg_handler) {\n",
       "      if (window.comm_manager || ((window.Jupyter !== undefined) && (Jupyter.notebook.kernel != null))) {\n",
       "        var comm_manager = window.comm_manager || Jupyter.notebook.kernel.comm_manager;\n",
       "        comm_manager.register_target(comm_id, function(comm) {\n",
       "          comm.on_msg(msg_handler);\n",
       "        });\n",
       "      } else if ((plot_id in window.PyViz.kernels) && (window.PyViz.kernels[plot_id])) {\n",
       "        window.PyViz.kernels[plot_id].registerCommTarget(comm_id, function(comm) {\n",
       "          comm.onMsg = msg_handler;\n",
       "        });\n",
       "      } else if (typeof google != 'undefined' && google.colab.kernel != null) {\n",
       "        google.colab.kernel.comms.registerTarget(comm_id, (comm) => {\n",
       "          var messages = comm.messages[Symbol.asyncIterator]();\n",
       "          function processIteratorResult(result) {\n",
       "            var message = result.value;\n",
       "            console.log(message)\n",
       "            var content = {data: message.data, comm_id};\n",
       "            var buffers = []\n",
       "            for (var buffer of message.buffers || []) {\n",
       "              buffers.push(new DataView(buffer))\n",
       "            }\n",
       "            var metadata = message.metadata || {};\n",
       "            var msg = {content, buffers, metadata}\n",
       "            msg_handler(msg);\n",
       "            return messages.next().then(processIteratorResult);\n",
       "          }\n",
       "          return messages.next().then(processIteratorResult);\n",
       "        })\n",
       "      }\n",
       "    }\n",
       "\n",
       "    JupyterCommManager.prototype.get_client_comm = function(plot_id, comm_id, msg_handler) {\n",
       "      if (comm_id in window.PyViz.comms) {\n",
       "        return window.PyViz.comms[comm_id];\n",
       "      } else if (window.comm_manager || ((window.Jupyter !== undefined) && (Jupyter.notebook.kernel != null))) {\n",
       "        var comm_manager = window.comm_manager || Jupyter.notebook.kernel.comm_manager;\n",
       "        var comm = comm_manager.new_comm(comm_id, {}, {}, {}, comm_id);\n",
       "        if (msg_handler) {\n",
       "          comm.on_msg(msg_handler);\n",
       "        }\n",
       "      } else if ((plot_id in window.PyViz.kernels) && (window.PyViz.kernels[plot_id])) {\n",
       "        var comm = window.PyViz.kernels[plot_id].connectToComm(comm_id);\n",
       "        comm.open();\n",
       "        if (msg_handler) {\n",
       "          comm.onMsg = msg_handler;\n",
       "        }\n",
       "      } else if (typeof google != 'undefined' && google.colab.kernel != null) {\n",
       "        var comm_promise = google.colab.kernel.comms.open(comm_id)\n",
       "        comm_promise.then((comm) => {\n",
       "          window.PyViz.comms[comm_id] = comm;\n",
       "          if (msg_handler) {\n",
       "            var messages = comm.messages[Symbol.asyncIterator]();\n",
       "            function processIteratorResult(result) {\n",
       "              var message = result.value;\n",
       "              var content = {data: message.data};\n",
       "              var metadata = message.metadata || {comm_id};\n",
       "              var msg = {content, metadata}\n",
       "              msg_handler(msg);\n",
       "              return messages.next().then(processIteratorResult);\n",
       "            }\n",
       "            return messages.next().then(processIteratorResult);\n",
       "          }\n",
       "        }) \n",
       "        var sendClosure = (data, metadata, buffers, disposeOnDone) => {\n",
       "          return comm_promise.then((comm) => {\n",
       "            comm.send(data, metadata, buffers, disposeOnDone);\n",
       "          });\n",
       "        };\n",
       "        var comm = {\n",
       "          send: sendClosure\n",
       "        };\n",
       "      }\n",
       "      window.PyViz.comms[comm_id] = comm;\n",
       "      return comm;\n",
       "    }\n",
       "    window.PyViz.comm_manager = new JupyterCommManager();\n",
       "    \n",
       "\n",
       "\n",
       "var JS_MIME_TYPE = 'application/javascript';\n",
       "var HTML_MIME_TYPE = 'text/html';\n",
       "var EXEC_MIME_TYPE = 'application/vnd.holoviews_exec.v0+json';\n",
       "var CLASS_NAME = 'output';\n",
       "\n",
       "/**\n",
       " * Render data to the DOM node\n",
       " */\n",
       "function render(props, node) {\n",
       "  var div = document.createElement(\"div\");\n",
       "  var script = document.createElement(\"script\");\n",
       "  node.appendChild(div);\n",
       "  node.appendChild(script);\n",
       "}\n",
       "\n",
       "/**\n",
       " * Handle when a new output is added\n",
       " */\n",
       "function handle_add_output(event, handle) {\n",
       "  var output_area = handle.output_area;\n",
       "  var output = handle.output;\n",
       "  if ((output.data == undefined) || (!output.data.hasOwnProperty(EXEC_MIME_TYPE))) {\n",
       "    return\n",
       "  }\n",
       "  var id = output.metadata[EXEC_MIME_TYPE][\"id\"];\n",
       "  var toinsert = output_area.element.find(\".\" + CLASS_NAME.split(' ')[0]);\n",
       "  if (id !== undefined) {\n",
       "    var nchildren = toinsert.length;\n",
       "    var html_node = toinsert[nchildren-1].children[0];\n",
       "    html_node.innerHTML = output.data[HTML_MIME_TYPE];\n",
       "    var scripts = [];\n",
       "    var nodelist = html_node.querySelectorAll(\"script\");\n",
       "    for (var i in nodelist) {\n",
       "      if (nodelist.hasOwnProperty(i)) {\n",
       "        scripts.push(nodelist[i])\n",
       "      }\n",
       "    }\n",
       "\n",
       "    scripts.forEach( function (oldScript) {\n",
       "      var newScript = document.createElement(\"script\");\n",
       "      var attrs = [];\n",
       "      var nodemap = oldScript.attributes;\n",
       "      for (var j in nodemap) {\n",
       "        if (nodemap.hasOwnProperty(j)) {\n",
       "          attrs.push(nodemap[j])\n",
       "        }\n",
       "      }\n",
       "      attrs.forEach(function(attr) { newScript.setAttribute(attr.name, attr.value) });\n",
       "      newScript.appendChild(document.createTextNode(oldScript.innerHTML));\n",
       "      oldScript.parentNode.replaceChild(newScript, oldScript);\n",
       "    });\n",
       "    if (JS_MIME_TYPE in output.data) {\n",
       "      toinsert[nchildren-1].children[1].textContent = output.data[JS_MIME_TYPE];\n",
       "    }\n",
       "    output_area._hv_plot_id = id;\n",
       "    if ((window.Bokeh !== undefined) && (id in Bokeh.index)) {\n",
       "      window.PyViz.plot_index[id] = Bokeh.index[id];\n",
       "    } else {\n",
       "      window.PyViz.plot_index[id] = null;\n",
       "    }\n",
       "  } else if (output.metadata[EXEC_MIME_TYPE][\"server_id\"] !== undefined) {\n",
       "    var bk_div = document.createElement(\"div\");\n",
       "    bk_div.innerHTML = output.data[HTML_MIME_TYPE];\n",
       "    var script_attrs = bk_div.children[0].attributes;\n",
       "    for (var i = 0; i < script_attrs.length; i++) {\n",
       "      toinsert[toinsert.length - 1].childNodes[1].setAttribute(script_attrs[i].name, script_attrs[i].value);\n",
       "    }\n",
       "    // store reference to server id on output_area\n",
       "    output_area._bokeh_server_id = output.metadata[EXEC_MIME_TYPE][\"server_id\"];\n",
       "  }\n",
       "}\n",
       "\n",
       "/**\n",
       " * Handle when an output is cleared or removed\n",
       " */\n",
       "function handle_clear_output(event, handle) {\n",
       "  var id = handle.cell.output_area._hv_plot_id;\n",
       "  var server_id = handle.cell.output_area._bokeh_server_id;\n",
       "  if (((id === undefined) || !(id in PyViz.plot_index)) && (server_id !== undefined)) { return; }\n",
       "  var comm = window.PyViz.comm_manager.get_client_comm(\"hv-extension-comm\", \"hv-extension-comm\", function () {});\n",
       "  if (server_id !== null) {\n",
       "    comm.send({event_type: 'server_delete', 'id': server_id});\n",
       "    return;\n",
       "  } else if (comm !== null) {\n",
       "    comm.send({event_type: 'delete', 'id': id});\n",
       "  }\n",
       "  delete PyViz.plot_index[id];\n",
       "  if ((window.Bokeh !== undefined) & (id in window.Bokeh.index)) {\n",
       "    var doc = window.Bokeh.index[id].model.document\n",
       "    doc.clear();\n",
       "    const i = window.Bokeh.documents.indexOf(doc);\n",
       "    if (i > -1) {\n",
       "      window.Bokeh.documents.splice(i, 1);\n",
       "    }\n",
       "  }\n",
       "}\n",
       "\n",
       "/**\n",
       " * Handle kernel restart event\n",
       " */\n",
       "function handle_kernel_cleanup(event, handle) {\n",
       "  delete PyViz.comms[\"hv-extension-comm\"];\n",
       "  window.PyViz.plot_index = {}\n",
       "}\n",
       "\n",
       "/**\n",
       " * Handle update_display_data messages\n",
       " */\n",
       "function handle_update_output(event, handle) {\n",
       "  handle_clear_output(event, {cell: {output_area: handle.output_area}})\n",
       "  handle_add_output(event, handle)\n",
       "}\n",
       "\n",
       "function register_renderer(events, OutputArea) {\n",
       "  function append_mime(data, metadata, element) {\n",
       "    // create a DOM node to render to\n",
       "    var toinsert = this.create_output_subarea(\n",
       "    metadata,\n",
       "    CLASS_NAME,\n",
       "    EXEC_MIME_TYPE\n",
       "    );\n",
       "    this.keyboard_manager.register_events(toinsert);\n",
       "    // Render to node\n",
       "    var props = {data: data, metadata: metadata[EXEC_MIME_TYPE]};\n",
       "    render(props, toinsert[0]);\n",
       "    element.append(toinsert);\n",
       "    return toinsert\n",
       "  }\n",
       "\n",
       "  events.on('output_added.OutputArea', handle_add_output);\n",
       "  events.on('output_updated.OutputArea', handle_update_output);\n",
       "  events.on('clear_output.CodeCell', handle_clear_output);\n",
       "  events.on('delete.Cell', handle_clear_output);\n",
       "  events.on('kernel_ready.Kernel', handle_kernel_cleanup);\n",
       "\n",
       "  OutputArea.prototype.register_mime_type(EXEC_MIME_TYPE, append_mime, {\n",
       "    safe: true,\n",
       "    index: 0\n",
       "  });\n",
       "}\n",
       "\n",
       "if (window.Jupyter !== undefined) {\n",
       "  try {\n",
       "    var events = require('base/js/events');\n",
       "    var OutputArea = require('notebook/js/outputarea').OutputArea;\n",
       "    if (OutputArea.prototype.mime_types().indexOf(EXEC_MIME_TYPE) == -1) {\n",
       "      register_renderer(events, OutputArea);\n",
       "    }\n",
       "  } catch(err) {\n",
       "  }\n",
       "}\n"
      ],
      "application/vnd.holoviews_load.v0+json": "\nif ((window.PyViz === undefined) || (window.PyViz instanceof HTMLElement)) {\n  window.PyViz = {comms: {}, comm_status:{}, kernels:{}, receivers: {}, plot_index: []}\n}\n\n\n    function JupyterCommManager() {\n    }\n\n    JupyterCommManager.prototype.register_target = function(plot_id, comm_id, msg_handler) {\n      if (window.comm_manager || ((window.Jupyter !== undefined) && (Jupyter.notebook.kernel != null))) {\n        var comm_manager = window.comm_manager || Jupyter.notebook.kernel.comm_manager;\n        comm_manager.register_target(comm_id, function(comm) {\n          comm.on_msg(msg_handler);\n        });\n      } else if ((plot_id in window.PyViz.kernels) && (window.PyViz.kernels[plot_id])) {\n        window.PyViz.kernels[plot_id].registerCommTarget(comm_id, function(comm) {\n          comm.onMsg = msg_handler;\n        });\n      } else if (typeof google != 'undefined' && google.colab.kernel != null) {\n        google.colab.kernel.comms.registerTarget(comm_id, (comm) => {\n          var messages = comm.messages[Symbol.asyncIterator]();\n          function processIteratorResult(result) {\n            var message = result.value;\n            console.log(message)\n            var content = {data: message.data, comm_id};\n            var buffers = []\n            for (var buffer of message.buffers || []) {\n              buffers.push(new DataView(buffer))\n            }\n            var metadata = message.metadata || {};\n            var msg = {content, buffers, metadata}\n            msg_handler(msg);\n            return messages.next().then(processIteratorResult);\n          }\n          return messages.next().then(processIteratorResult);\n        })\n      }\n    }\n\n    JupyterCommManager.prototype.get_client_comm = function(plot_id, comm_id, msg_handler) {\n      if (comm_id in window.PyViz.comms) {\n        return window.PyViz.comms[comm_id];\n      } else if (window.comm_manager || ((window.Jupyter !== undefined) && (Jupyter.notebook.kernel != null))) {\n        var comm_manager = window.comm_manager || Jupyter.notebook.kernel.comm_manager;\n        var comm = comm_manager.new_comm(comm_id, {}, {}, {}, comm_id);\n        if (msg_handler) {\n          comm.on_msg(msg_handler);\n        }\n      } else if ((plot_id in window.PyViz.kernels) && (window.PyViz.kernels[plot_id])) {\n        var comm = window.PyViz.kernels[plot_id].connectToComm(comm_id);\n        comm.open();\n        if (msg_handler) {\n          comm.onMsg = msg_handler;\n        }\n      } else if (typeof google != 'undefined' && google.colab.kernel != null) {\n        var comm_promise = google.colab.kernel.comms.open(comm_id)\n        comm_promise.then((comm) => {\n          window.PyViz.comms[comm_id] = comm;\n          if (msg_handler) {\n            var messages = comm.messages[Symbol.asyncIterator]();\n            function processIteratorResult(result) {\n              var message = result.value;\n              var content = {data: message.data};\n              var metadata = message.metadata || {comm_id};\n              var msg = {content, metadata}\n              msg_handler(msg);\n              return messages.next().then(processIteratorResult);\n            }\n            return messages.next().then(processIteratorResult);\n          }\n        }) \n        var sendClosure = (data, metadata, buffers, disposeOnDone) => {\n          return comm_promise.then((comm) => {\n            comm.send(data, metadata, buffers, disposeOnDone);\n          });\n        };\n        var comm = {\n          send: sendClosure\n        };\n      }\n      window.PyViz.comms[comm_id] = comm;\n      return comm;\n    }\n    window.PyViz.comm_manager = new JupyterCommManager();\n    \n\n\nvar JS_MIME_TYPE = 'application/javascript';\nvar HTML_MIME_TYPE = 'text/html';\nvar EXEC_MIME_TYPE = 'application/vnd.holoviews_exec.v0+json';\nvar CLASS_NAME = 'output';\n\n/**\n * Render data to the DOM node\n */\nfunction render(props, node) {\n  var div = document.createElement(\"div\");\n  var script = document.createElement(\"script\");\n  node.appendChild(div);\n  node.appendChild(script);\n}\n\n/**\n * Handle when a new output is added\n */\nfunction handle_add_output(event, handle) {\n  var output_area = handle.output_area;\n  var output = handle.output;\n  if ((output.data == undefined) || (!output.data.hasOwnProperty(EXEC_MIME_TYPE))) {\n    return\n  }\n  var id = output.metadata[EXEC_MIME_TYPE][\"id\"];\n  var toinsert = output_area.element.find(\".\" + CLASS_NAME.split(' ')[0]);\n  if (id !== undefined) {\n    var nchildren = toinsert.length;\n    var html_node = toinsert[nchildren-1].children[0];\n    html_node.innerHTML = output.data[HTML_MIME_TYPE];\n    var scripts = [];\n    var nodelist = html_node.querySelectorAll(\"script\");\n    for (var i in nodelist) {\n      if (nodelist.hasOwnProperty(i)) {\n        scripts.push(nodelist[i])\n      }\n    }\n\n    scripts.forEach( function (oldScript) {\n      var newScript = document.createElement(\"script\");\n      var attrs = [];\n      var nodemap = oldScript.attributes;\n      for (var j in nodemap) {\n        if (nodemap.hasOwnProperty(j)) {\n          attrs.push(nodemap[j])\n        }\n      }\n      attrs.forEach(function(attr) { newScript.setAttribute(attr.name, attr.value) });\n      newScript.appendChild(document.createTextNode(oldScript.innerHTML));\n      oldScript.parentNode.replaceChild(newScript, oldScript);\n    });\n    if (JS_MIME_TYPE in output.data) {\n      toinsert[nchildren-1].children[1].textContent = output.data[JS_MIME_TYPE];\n    }\n    output_area._hv_plot_id = id;\n    if ((window.Bokeh !== undefined) && (id in Bokeh.index)) {\n      window.PyViz.plot_index[id] = Bokeh.index[id];\n    } else {\n      window.PyViz.plot_index[id] = null;\n    }\n  } else if (output.metadata[EXEC_MIME_TYPE][\"server_id\"] !== undefined) {\n    var bk_div = document.createElement(\"div\");\n    bk_div.innerHTML = output.data[HTML_MIME_TYPE];\n    var script_attrs = bk_div.children[0].attributes;\n    for (var i = 0; i < script_attrs.length; i++) {\n      toinsert[toinsert.length - 1].childNodes[1].setAttribute(script_attrs[i].name, script_attrs[i].value);\n    }\n    // store reference to server id on output_area\n    output_area._bokeh_server_id = output.metadata[EXEC_MIME_TYPE][\"server_id\"];\n  }\n}\n\n/**\n * Handle when an output is cleared or removed\n */\nfunction handle_clear_output(event, handle) {\n  var id = handle.cell.output_area._hv_plot_id;\n  var server_id = handle.cell.output_area._bokeh_server_id;\n  if (((id === undefined) || !(id in PyViz.plot_index)) && (server_id !== undefined)) { return; }\n  var comm = window.PyViz.comm_manager.get_client_comm(\"hv-extension-comm\", \"hv-extension-comm\", function () {});\n  if (server_id !== null) {\n    comm.send({event_type: 'server_delete', 'id': server_id});\n    return;\n  } else if (comm !== null) {\n    comm.send({event_type: 'delete', 'id': id});\n  }\n  delete PyViz.plot_index[id];\n  if ((window.Bokeh !== undefined) & (id in window.Bokeh.index)) {\n    var doc = window.Bokeh.index[id].model.document\n    doc.clear();\n    const i = window.Bokeh.documents.indexOf(doc);\n    if (i > -1) {\n      window.Bokeh.documents.splice(i, 1);\n    }\n  }\n}\n\n/**\n * Handle kernel restart event\n */\nfunction handle_kernel_cleanup(event, handle) {\n  delete PyViz.comms[\"hv-extension-comm\"];\n  window.PyViz.plot_index = {}\n}\n\n/**\n * Handle update_display_data messages\n */\nfunction handle_update_output(event, handle) {\n  handle_clear_output(event, {cell: {output_area: handle.output_area}})\n  handle_add_output(event, handle)\n}\n\nfunction register_renderer(events, OutputArea) {\n  function append_mime(data, metadata, element) {\n    // create a DOM node to render to\n    var toinsert = this.create_output_subarea(\n    metadata,\n    CLASS_NAME,\n    EXEC_MIME_TYPE\n    );\n    this.keyboard_manager.register_events(toinsert);\n    // Render to node\n    var props = {data: data, metadata: metadata[EXEC_MIME_TYPE]};\n    render(props, toinsert[0]);\n    element.append(toinsert);\n    return toinsert\n  }\n\n  events.on('output_added.OutputArea', handle_add_output);\n  events.on('output_updated.OutputArea', handle_update_output);\n  events.on('clear_output.CodeCell', handle_clear_output);\n  events.on('delete.Cell', handle_clear_output);\n  events.on('kernel_ready.Kernel', handle_kernel_cleanup);\n\n  OutputArea.prototype.register_mime_type(EXEC_MIME_TYPE, append_mime, {\n    safe: true,\n    index: 0\n  });\n}\n\nif (window.Jupyter !== undefined) {\n  try {\n    var events = require('base/js/events');\n    var OutputArea = require('notebook/js/outputarea').OutputArea;\n    if (OutputArea.prototype.mime_types().indexOf(EXEC_MIME_TYPE) == -1) {\n      register_renderer(events, OutputArea);\n    }\n  } catch(err) {\n  }\n}\n"
     },
     "metadata": {},
     "output_type": "display_data"
    },
    {
     "data": {
      "text/html": [
       "<style>.bk-root, .bk-root .bk:before, .bk-root .bk:after {\n",
       "  font-family: var(--jp-ui-font-size1);\n",
       "  font-size: var(--jp-ui-font-size1);\n",
       "  color: var(--jp-ui-font-color1);\n",
       "}\n",
       "</style>"
      ]
     },
     "metadata": {},
     "output_type": "display_data"
    }
   ],
   "source": [
    "import matplotlib.pyplot as plt\n",
    "import seaborn as sns\n",
    "import pandas as pd\n",
    "import numpy as np\n",
    "import panel as pn\n",
    "pn.extension('tabulator')\n",
    "import hvplot.pandas"
   ]
  },
  {
   "cell_type": "code",
   "execution_count": 2,
   "id": "340c70f0",
   "metadata": {},
   "outputs": [
    {
     "data": {
      "text/html": [
       "<div>\n",
       "<style scoped>\n",
       "    .dataframe tbody tr th:only-of-type {\n",
       "        vertical-align: middle;\n",
       "    }\n",
       "\n",
       "    .dataframe tbody tr th {\n",
       "        vertical-align: top;\n",
       "    }\n",
       "\n",
       "    .dataframe thead th {\n",
       "        text-align: right;\n",
       "    }\n",
       "</style>\n",
       "<table border=\"1\" class=\"dataframe\">\n",
       "  <thead>\n",
       "    <tr style=\"text-align: right;\">\n",
       "      <th></th>\n",
       "      <th>dien_tich</th>\n",
       "      <th>phong_ngu</th>\n",
       "      <th>so_tang</th>\n",
       "      <th>so_do</th>\n",
       "      <th>ten_quan</th>\n",
       "      <th>huong_nha</th>\n",
       "      <th>do_rong_duong</th>\n",
       "      <th>do_rong_duong_ml</th>\n",
       "      <th>noi_that</th>\n",
       "      <th>gia</th>\n",
       "      <th>the_loai</th>\n",
       "    </tr>\n",
       "  </thead>\n",
       "  <tbody>\n",
       "    <tr>\n",
       "      <th>0</th>\n",
       "      <td>75.0</td>\n",
       "      <td>2.0</td>\n",
       "      <td>1.0</td>\n",
       "      <td>có</td>\n",
       "      <td>Quận Ba Đình</td>\n",
       "      <td>KXĐ</td>\n",
       "      <td>0.0</td>\n",
       "      <td>không</td>\n",
       "      <td>trống</td>\n",
       "      <td>6300</td>\n",
       "      <td>Apartment</td>\n",
       "    </tr>\n",
       "    <tr>\n",
       "      <th>1</th>\n",
       "      <td>115.0</td>\n",
       "      <td>3.0</td>\n",
       "      <td>1.0</td>\n",
       "      <td>có</td>\n",
       "      <td>Quận Ba Đình</td>\n",
       "      <td>Tây Bắc</td>\n",
       "      <td>0.0</td>\n",
       "      <td>không</td>\n",
       "      <td>trống</td>\n",
       "      <td>10250</td>\n",
       "      <td>Apartment</td>\n",
       "    </tr>\n",
       "    <tr>\n",
       "      <th>2</th>\n",
       "      <td>100.0</td>\n",
       "      <td>2.0</td>\n",
       "      <td>1.0</td>\n",
       "      <td>có</td>\n",
       "      <td>Quận Ba Đình</td>\n",
       "      <td>Nam</td>\n",
       "      <td>0.0</td>\n",
       "      <td>không</td>\n",
       "      <td>trống</td>\n",
       "      <td>2600</td>\n",
       "      <td>Apartment</td>\n",
       "    </tr>\n",
       "    <tr>\n",
       "      <th>3</th>\n",
       "      <td>30.0</td>\n",
       "      <td>2.0</td>\n",
       "      <td>2.0</td>\n",
       "      <td>có</td>\n",
       "      <td>Quận Ba Đình</td>\n",
       "      <td>KXĐ</td>\n",
       "      <td>0.0</td>\n",
       "      <td>không</td>\n",
       "      <td>trống</td>\n",
       "      <td>3500</td>\n",
       "      <td>Apartment</td>\n",
       "    </tr>\n",
       "    <tr>\n",
       "      <th>4</th>\n",
       "      <td>72.0</td>\n",
       "      <td>2.0</td>\n",
       "      <td>3.0</td>\n",
       "      <td>có</td>\n",
       "      <td>Quận Ba Đình</td>\n",
       "      <td>Đông</td>\n",
       "      <td>0.0</td>\n",
       "      <td>không</td>\n",
       "      <td>trống</td>\n",
       "      <td>1750</td>\n",
       "      <td>Apartment</td>\n",
       "    </tr>\n",
       "    <tr>\n",
       "      <th>...</th>\n",
       "      <td>...</td>\n",
       "      <td>...</td>\n",
       "      <td>...</td>\n",
       "      <td>...</td>\n",
       "      <td>...</td>\n",
       "      <td>...</td>\n",
       "      <td>...</td>\n",
       "      <td>...</td>\n",
       "      <td>...</td>\n",
       "      <td>...</td>\n",
       "      <td>...</td>\n",
       "    </tr>\n",
       "    <tr>\n",
       "      <th>93940</th>\n",
       "      <td>80.0</td>\n",
       "      <td>3.0</td>\n",
       "      <td>3.0</td>\n",
       "      <td>có</td>\n",
       "      <td>Huyện Mê Linh</td>\n",
       "      <td>KXĐ</td>\n",
       "      <td>0.0</td>\n",
       "      <td>Mặt phố - Mặt đường</td>\n",
       "      <td>trống</td>\n",
       "      <td>4500</td>\n",
       "      <td>Road</td>\n",
       "    </tr>\n",
       "    <tr>\n",
       "      <th>93941</th>\n",
       "      <td>80.0</td>\n",
       "      <td>3.0</td>\n",
       "      <td>3.0</td>\n",
       "      <td>có</td>\n",
       "      <td>Huyện Mê Linh</td>\n",
       "      <td>KXĐ</td>\n",
       "      <td>0.0</td>\n",
       "      <td>Mặt phố - Mặt đường</td>\n",
       "      <td>trống</td>\n",
       "      <td>4500</td>\n",
       "      <td>Road</td>\n",
       "    </tr>\n",
       "    <tr>\n",
       "      <th>93942</th>\n",
       "      <td>80.0</td>\n",
       "      <td>3.0</td>\n",
       "      <td>3.0</td>\n",
       "      <td>có</td>\n",
       "      <td>Huyện Mê Linh</td>\n",
       "      <td>KXĐ</td>\n",
       "      <td>10.0</td>\n",
       "      <td>Mặt phố - Mặt đường</td>\n",
       "      <td>trống</td>\n",
       "      <td>4950</td>\n",
       "      <td>Road</td>\n",
       "    </tr>\n",
       "    <tr>\n",
       "      <th>93943</th>\n",
       "      <td>70.0</td>\n",
       "      <td>1.0</td>\n",
       "      <td>1.0</td>\n",
       "      <td>có</td>\n",
       "      <td>Huyện Mê Linh</td>\n",
       "      <td>KXĐ</td>\n",
       "      <td>0.0</td>\n",
       "      <td>Mặt phố - Mặt đường</td>\n",
       "      <td>trống</td>\n",
       "      <td>2400</td>\n",
       "      <td>Road</td>\n",
       "    </tr>\n",
       "    <tr>\n",
       "      <th>93944</th>\n",
       "      <td>70.0</td>\n",
       "      <td>2.0</td>\n",
       "      <td>1.0</td>\n",
       "      <td>có</td>\n",
       "      <td>Huyện Mê Linh</td>\n",
       "      <td>KXĐ</td>\n",
       "      <td>5.0</td>\n",
       "      <td>Mặt phố - Mặt đường</td>\n",
       "      <td>trống</td>\n",
       "      <td>4000</td>\n",
       "      <td>Road</td>\n",
       "    </tr>\n",
       "  </tbody>\n",
       "</table>\n",
       "<p>93945 rows × 11 columns</p>\n",
       "</div>"
      ],
      "text/plain": [
       "       dien_tich  phong_ngu  so_tang so_do       ten_quan huong_nha  \\\n",
       "0           75.0        2.0      1.0    có   Quận Ba Đình       KXĐ   \n",
       "1          115.0        3.0      1.0    có   Quận Ba Đình   Tây Bắc   \n",
       "2          100.0        2.0      1.0    có   Quận Ba Đình       Nam   \n",
       "3           30.0        2.0      2.0    có   Quận Ba Đình       KXĐ   \n",
       "4           72.0        2.0      3.0    có   Quận Ba Đình      Đông   \n",
       "...          ...        ...      ...   ...            ...       ...   \n",
       "93940       80.0        3.0      3.0    có  Huyện Mê Linh       KXĐ   \n",
       "93941       80.0        3.0      3.0    có  Huyện Mê Linh       KXĐ   \n",
       "93942       80.0        3.0      3.0    có  Huyện Mê Linh       KXĐ   \n",
       "93943       70.0        1.0      1.0    có  Huyện Mê Linh       KXĐ   \n",
       "93944       70.0        2.0      1.0    có  Huyện Mê Linh       KXĐ   \n",
       "\n",
       "       do_rong_duong     do_rong_duong_ml noi_that    gia   the_loai  \n",
       "0                0.0                không    trống   6300  Apartment  \n",
       "1                0.0                không    trống  10250  Apartment  \n",
       "2                0.0                không    trống   2600  Apartment  \n",
       "3                0.0                không    trống   3500  Apartment  \n",
       "4                0.0                không    trống   1750  Apartment  \n",
       "...              ...                  ...      ...    ...        ...  \n",
       "93940            0.0  Mặt phố - Mặt đường    trống   4500       Road  \n",
       "93941            0.0  Mặt phố - Mặt đường    trống   4500       Road  \n",
       "93942           10.0  Mặt phố - Mặt đường    trống   4950       Road  \n",
       "93943            0.0  Mặt phố - Mặt đường    trống   2400       Road  \n",
       "93944            5.0  Mặt phố - Mặt đường    trống   4000       Road  \n",
       "\n",
       "[93945 rows x 11 columns]"
      ]
     },
     "execution_count": 2,
     "metadata": {},
     "output_type": "execute_result"
    }
   ],
   "source": [
    "data = pd.read_csv(\"data_final.csv\", encoding='utf8').iloc[:, 1:]\n",
    "data"
   ]
  },
  {
   "cell_type": "code",
   "execution_count": 3,
   "id": "b96a2ddf",
   "metadata": {},
   "outputs": [
    {
     "name": "stdout",
     "output_type": "stream",
     "text": [
      "<class 'pandas.core.frame.DataFrame'>\n",
      "RangeIndex: 93945 entries, 0 to 93944\n",
      "Data columns (total 11 columns):\n",
      " #   Column            Non-Null Count  Dtype  \n",
      "---  ------            --------------  -----  \n",
      " 0   dien_tich         93945 non-null  float64\n",
      " 1   phong_ngu         93945 non-null  float64\n",
      " 2   so_tang           93945 non-null  float64\n",
      " 3   so_do             93945 non-null  object \n",
      " 4   ten_quan          93945 non-null  object \n",
      " 5   huong_nha         93945 non-null  object \n",
      " 6   do_rong_duong     93945 non-null  float64\n",
      " 7   do_rong_duong_ml  93945 non-null  object \n",
      " 8   noi_that          93945 non-null  object \n",
      " 9   gia               93945 non-null  int64  \n",
      " 10  the_loai          93945 non-null  object \n",
      "dtypes: float64(4), int64(1), object(6)\n",
      "memory usage: 7.9+ MB\n"
     ]
    }
   ],
   "source": [
    "data.info()"
   ]
  },
  {
   "cell_type": "code",
   "execution_count": 4,
   "id": "fe580edf",
   "metadata": {},
   "outputs": [],
   "source": [
    "# Make DataFrame Pipeline Interactive\n",
    "idf = data.interactive()"
   ]
  },
  {
   "cell_type": "code",
   "execution_count": 5,
   "id": "4f889259",
   "metadata": {},
   "outputs": [
    {
     "name": "stdout",
     "output_type": "stream",
     "text": [
      "gia_nho_nhat: 1  gia_lon_nhat: 33600\n"
     ]
    }
   ],
   "source": [
    "gia_nho_nhat = int(data.gia.min())\n",
    "gia_lon_nhat = int(data.gia.max())\n",
    "print(\"gia_nho_nhat:\", gia_nho_nhat, \" gia_lon_nhat:\", gia_lon_nhat)"
   ]
  },
  {
   "cell_type": "code",
   "execution_count": 8,
   "id": "14ea46c6",
   "metadata": {},
   "outputs": [
    {
     "data": {},
     "metadata": {},
     "output_type": "display_data"
    },
    {
     "data": {
      "application/vnd.holoviews_exec.v0+json": "",
      "text/html": [
       "<div id='1007'>\n",
       "  <div class=\"bk-root\" id=\"2a4b695d-0fff-4fc4-8424-e4a59b8a179a\" data-root-id=\"1007\"></div>\n",
       "</div>\n",
       "<script type=\"application/javascript\">(function(root) {\n",
       "  function embed_document(root) {\n",
       "    var docs_json = {\"3482060c-bb80-4d03-87e2-733d90473947\":{\"defs\":[{\"extends\":null,\"module\":null,\"name\":\"ReactiveHTML1\",\"overrides\":[],\"properties\":[]},{\"extends\":null,\"module\":null,\"name\":\"FlexBox1\",\"overrides\":[],\"properties\":[{\"default\":\"flex-start\",\"kind\":null,\"name\":\"align_content\"},{\"default\":\"flex-start\",\"kind\":null,\"name\":\"align_items\"},{\"default\":\"row\",\"kind\":null,\"name\":\"flex_direction\"},{\"default\":\"wrap\",\"kind\":null,\"name\":\"flex_wrap\"},{\"default\":\"flex-start\",\"kind\":null,\"name\":\"justify_content\"}]},{\"extends\":null,\"module\":null,\"name\":\"GridStack1\",\"overrides\":[],\"properties\":[{\"default\":\"warn\",\"kind\":null,\"name\":\"mode\"},{\"default\":null,\"kind\":null,\"name\":\"ncols\"},{\"default\":null,\"kind\":null,\"name\":\"nrows\"},{\"default\":true,\"kind\":null,\"name\":\"allow_resize\"},{\"default\":true,\"kind\":null,\"name\":\"allow_drag\"},{\"default\":[],\"kind\":null,\"name\":\"state\"}]},{\"extends\":null,\"module\":null,\"name\":\"click1\",\"overrides\":[],\"properties\":[{\"default\":\"\",\"kind\":null,\"name\":\"terminal_output\"},{\"default\":\"\",\"kind\":null,\"name\":\"debug_name\"},{\"default\":0,\"kind\":null,\"name\":\"clears\"}]},{\"extends\":null,\"module\":null,\"name\":\"NotificationAreaBase1\",\"overrides\":[],\"properties\":[{\"default\":\"bottom-right\",\"kind\":null,\"name\":\"position\"},{\"default\":0,\"kind\":null,\"name\":\"_clear\"}]},{\"extends\":null,\"module\":null,\"name\":\"NotificationArea1\",\"overrides\":[],\"properties\":[{\"default\":[],\"kind\":null,\"name\":\"notifications\"},{\"default\":\"bottom-right\",\"kind\":null,\"name\":\"position\"},{\"default\":0,\"kind\":null,\"name\":\"_clear\"},{\"default\":[{\"background\":\"#ffc107\",\"icon\":{\"className\":\"fas fa-exclamation-triangle\",\"color\":\"white\",\"tagName\":\"i\"},\"type\":\"warning\"},{\"background\":\"#007bff\",\"icon\":{\"className\":\"fas fa-info-circle\",\"color\":\"white\",\"tagName\":\"i\"},\"type\":\"info\"}],\"kind\":null,\"name\":\"types\"}]},{\"extends\":null,\"module\":null,\"name\":\"Notification\",\"overrides\":[],\"properties\":[{\"default\":null,\"kind\":null,\"name\":\"background\"},{\"default\":3000,\"kind\":null,\"name\":\"duration\"},{\"default\":null,\"kind\":null,\"name\":\"icon\"},{\"default\":\"\",\"kind\":null,\"name\":\"message\"},{\"default\":null,\"kind\":null,\"name\":\"notification_type\"},{\"default\":false,\"kind\":null,\"name\":\"_destroyed\"}]},{\"extends\":null,\"module\":null,\"name\":\"TemplateActions1\",\"overrides\":[],\"properties\":[{\"default\":0,\"kind\":null,\"name\":\"open_modal\"},{\"default\":0,\"kind\":null,\"name\":\"close_modal\"}]},{\"extends\":null,\"module\":null,\"name\":\"MaterialTemplateActions1\",\"overrides\":[],\"properties\":[{\"default\":0,\"kind\":null,\"name\":\"open_modal\"},{\"default\":0,\"kind\":null,\"name\":\"close_modal\"}]}],\"roots\":{\"references\":[{\"attributes\":{\"client_comm_id\":\"6c8e809374844aa38a4f8719e90492e6\",\"comm_id\":\"2336d529e35f41abb6823678d3b96a4a\",\"plot_id\":\"1007\"},\"id\":\"1008\",\"type\":\"panel.models.comm_manager.CommManager\"},{\"attributes\":{\"end\":33600,\"margin\":[5,10,5,10],\"start\":1,\"step\":5,\"title\":\"Gi\\u00e1 nh\\u1ecf nh\\u1ea5t slider\",\"value\":1},\"id\":\"1007\",\"type\":\"Slider\"}],\"root_ids\":[\"1007\",\"1008\"]},\"title\":\"Bokeh Application\",\"version\":\"2.4.3\"}};\n",
       "    var render_items = [{\"docid\":\"3482060c-bb80-4d03-87e2-733d90473947\",\"root_ids\":[\"1007\"],\"roots\":{\"1007\":\"2a4b695d-0fff-4fc4-8424-e4a59b8a179a\"}}];\n",
       "    root.Bokeh.embed.embed_items_notebook(docs_json, render_items);\n",
       "  }\n",
       "  if (root.Bokeh !== undefined && root.Bokeh.Panel !== undefined && ( root['Tabulator'] !== undefined)) {\n",
       "    embed_document(root);\n",
       "  } else {\n",
       "    var attempts = 0;\n",
       "    var timer = setInterval(function(root) {\n",
       "      if (root.Bokeh !== undefined && root.Bokeh.Panel !== undefined && (root['Tabulator'] !== undefined)) {\n",
       "        clearInterval(timer);\n",
       "        embed_document(root);\n",
       "      } else if (document.readyState == \"complete\") {\n",
       "        attempts++;\n",
       "        if (attempts > 200) {\n",
       "          clearInterval(timer);\n",
       "          console.log(\"Bokeh: ERROR: Unable to run BokehJS code because BokehJS library is missing\");\n",
       "        }\n",
       "      }\n",
       "    }, 25, root)\n",
       "  }\n",
       "})(window);</script>"
      ],
      "text/plain": [
       "IntSlider(end=33600, name='Giá nhỏ nhất slider', start=1, step=5, value=1)"
      ]
     },
     "execution_count": 8,
     "metadata": {
      "application/vnd.holoviews_exec.v0+json": {
       "id": "1007"
      }
     },
     "output_type": "execute_result"
    }
   ],
   "source": [
    "# Define Panel widgets\n",
    "gia_nho_nhat_slider = pn.widgets.IntSlider(name='Giá nhỏ nhất slider', start=gia_nho_nhat, end=gia_lon_nhat, step=5, value=gia_nho_nhat)\n",
    "gia_nho_nhat_slider"
   ]
  },
  {
   "cell_type": "code",
   "execution_count": 9,
   "id": "20a8936e",
   "metadata": {},
   "outputs": [
    {
     "data": {},
     "metadata": {},
     "output_type": "display_data"
    },
    {
     "data": {
      "application/vnd.holoviews_exec.v0+json": "",
      "text/html": [
       "<div id='1009'>\n",
       "  <div class=\"bk-root\" id=\"d68ac096-8889-42b2-8b68-be7d92c3fb9c\" data-root-id=\"1009\"></div>\n",
       "</div>\n",
       "<script type=\"application/javascript\">(function(root) {\n",
       "  function embed_document(root) {\n",
       "    var docs_json = {\"482b7d68-9d00-44de-9135-a7627af6da8c\":{\"defs\":[{\"extends\":null,\"module\":null,\"name\":\"ReactiveHTML1\",\"overrides\":[],\"properties\":[]},{\"extends\":null,\"module\":null,\"name\":\"FlexBox1\",\"overrides\":[],\"properties\":[{\"default\":\"flex-start\",\"kind\":null,\"name\":\"align_content\"},{\"default\":\"flex-start\",\"kind\":null,\"name\":\"align_items\"},{\"default\":\"row\",\"kind\":null,\"name\":\"flex_direction\"},{\"default\":\"wrap\",\"kind\":null,\"name\":\"flex_wrap\"},{\"default\":\"flex-start\",\"kind\":null,\"name\":\"justify_content\"}]},{\"extends\":null,\"module\":null,\"name\":\"GridStack1\",\"overrides\":[],\"properties\":[{\"default\":\"warn\",\"kind\":null,\"name\":\"mode\"},{\"default\":null,\"kind\":null,\"name\":\"ncols\"},{\"default\":null,\"kind\":null,\"name\":\"nrows\"},{\"default\":true,\"kind\":null,\"name\":\"allow_resize\"},{\"default\":true,\"kind\":null,\"name\":\"allow_drag\"},{\"default\":[],\"kind\":null,\"name\":\"state\"}]},{\"extends\":null,\"module\":null,\"name\":\"click1\",\"overrides\":[],\"properties\":[{\"default\":\"\",\"kind\":null,\"name\":\"terminal_output\"},{\"default\":\"\",\"kind\":null,\"name\":\"debug_name\"},{\"default\":0,\"kind\":null,\"name\":\"clears\"}]},{\"extends\":null,\"module\":null,\"name\":\"NotificationAreaBase1\",\"overrides\":[],\"properties\":[{\"default\":\"bottom-right\",\"kind\":null,\"name\":\"position\"},{\"default\":0,\"kind\":null,\"name\":\"_clear\"}]},{\"extends\":null,\"module\":null,\"name\":\"NotificationArea1\",\"overrides\":[],\"properties\":[{\"default\":[],\"kind\":null,\"name\":\"notifications\"},{\"default\":\"bottom-right\",\"kind\":null,\"name\":\"position\"},{\"default\":0,\"kind\":null,\"name\":\"_clear\"},{\"default\":[{\"background\":\"#ffc107\",\"icon\":{\"className\":\"fas fa-exclamation-triangle\",\"color\":\"white\",\"tagName\":\"i\"},\"type\":\"warning\"},{\"background\":\"#007bff\",\"icon\":{\"className\":\"fas fa-info-circle\",\"color\":\"white\",\"tagName\":\"i\"},\"type\":\"info\"}],\"kind\":null,\"name\":\"types\"}]},{\"extends\":null,\"module\":null,\"name\":\"Notification\",\"overrides\":[],\"properties\":[{\"default\":null,\"kind\":null,\"name\":\"background\"},{\"default\":3000,\"kind\":null,\"name\":\"duration\"},{\"default\":null,\"kind\":null,\"name\":\"icon\"},{\"default\":\"\",\"kind\":null,\"name\":\"message\"},{\"default\":null,\"kind\":null,\"name\":\"notification_type\"},{\"default\":false,\"kind\":null,\"name\":\"_destroyed\"}]},{\"extends\":null,\"module\":null,\"name\":\"TemplateActions1\",\"overrides\":[],\"properties\":[{\"default\":0,\"kind\":null,\"name\":\"open_modal\"},{\"default\":0,\"kind\":null,\"name\":\"close_modal\"}]},{\"extends\":null,\"module\":null,\"name\":\"MaterialTemplateActions1\",\"overrides\":[],\"properties\":[{\"default\":0,\"kind\":null,\"name\":\"open_modal\"},{\"default\":0,\"kind\":null,\"name\":\"close_modal\"}]}],\"roots\":{\"references\":[{\"attributes\":{\"end\":33600,\"margin\":[5,10,5,10],\"start\":1,\"step\":5,\"title\":\"Gi\\u00e1 nh\\u1ecf nh\\u1ea5t slider\",\"value\":33600},\"id\":\"1009\",\"type\":\"Slider\"},{\"attributes\":{\"client_comm_id\":\"a019eea479a34a84912b4ff397653d32\",\"comm_id\":\"dbc10b8649ed4551887235c9970bce5e\",\"plot_id\":\"1009\"},\"id\":\"1010\",\"type\":\"panel.models.comm_manager.CommManager\"}],\"root_ids\":[\"1009\",\"1010\"]},\"title\":\"Bokeh Application\",\"version\":\"2.4.3\"}};\n",
       "    var render_items = [{\"docid\":\"482b7d68-9d00-44de-9135-a7627af6da8c\",\"root_ids\":[\"1009\"],\"roots\":{\"1009\":\"d68ac096-8889-42b2-8b68-be7d92c3fb9c\"}}];\n",
       "    root.Bokeh.embed.embed_items_notebook(docs_json, render_items);\n",
       "  }\n",
       "  if (root.Bokeh !== undefined && root.Bokeh.Panel !== undefined && ( root['Tabulator'] !== undefined)) {\n",
       "    embed_document(root);\n",
       "  } else {\n",
       "    var attempts = 0;\n",
       "    var timer = setInterval(function(root) {\n",
       "      if (root.Bokeh !== undefined && root.Bokeh.Panel !== undefined && (root['Tabulator'] !== undefined)) {\n",
       "        clearInterval(timer);\n",
       "        embed_document(root);\n",
       "      } else if (document.readyState == \"complete\") {\n",
       "        attempts++;\n",
       "        if (attempts > 200) {\n",
       "          clearInterval(timer);\n",
       "          console.log(\"Bokeh: ERROR: Unable to run BokehJS code because BokehJS library is missing\");\n",
       "        }\n",
       "      }\n",
       "    }, 25, root)\n",
       "  }\n",
       "})(window);</script>"
      ],
      "text/plain": [
       "IntSlider(end=33600, name='Giá nhỏ nhất slider', start=1, step=5, value=33600)"
      ]
     },
     "execution_count": 9,
     "metadata": {
      "application/vnd.holoviews_exec.v0+json": {
       "id": "1009"
      }
     },
     "output_type": "execute_result"
    }
   ],
   "source": [
    "# Define Panel widgets\n",
    "gia_lon_nhat_slider = pn.widgets.IntSlider(name='Giá nhỏ nhất slider', start=gia_nho_nhat, end=gia_lon_nhat, step=5, value=gia_lon_nhat)\n",
    "gia_lon_nhat_slider"
   ]
  },
  {
   "cell_type": "code",
   "execution_count": 10,
   "id": "20eebc97",
   "metadata": {},
   "outputs": [
    {
     "data": {},
     "metadata": {},
     "output_type": "display_data"
    },
    {
     "data": {
      "application/vnd.holoviews_exec.v0+json": "",
      "text/html": [
       "<div id='1011'>\n",
       "  <div class=\"bk-root\" id=\"643ca9bb-3fbd-4192-9d69-559ffb7bd550\" data-root-id=\"1011\"></div>\n",
       "</div>\n",
       "<script type=\"application/javascript\">(function(root) {\n",
       "  function embed_document(root) {\n",
       "    var docs_json = {\"987c57a9-e2f8-4bda-ab87-e7da13f45f07\":{\"defs\":[{\"extends\":null,\"module\":null,\"name\":\"ReactiveHTML1\",\"overrides\":[],\"properties\":[]},{\"extends\":null,\"module\":null,\"name\":\"FlexBox1\",\"overrides\":[],\"properties\":[{\"default\":\"flex-start\",\"kind\":null,\"name\":\"align_content\"},{\"default\":\"flex-start\",\"kind\":null,\"name\":\"align_items\"},{\"default\":\"row\",\"kind\":null,\"name\":\"flex_direction\"},{\"default\":\"wrap\",\"kind\":null,\"name\":\"flex_wrap\"},{\"default\":\"flex-start\",\"kind\":null,\"name\":\"justify_content\"}]},{\"extends\":null,\"module\":null,\"name\":\"GridStack1\",\"overrides\":[],\"properties\":[{\"default\":\"warn\",\"kind\":null,\"name\":\"mode\"},{\"default\":null,\"kind\":null,\"name\":\"ncols\"},{\"default\":null,\"kind\":null,\"name\":\"nrows\"},{\"default\":true,\"kind\":null,\"name\":\"allow_resize\"},{\"default\":true,\"kind\":null,\"name\":\"allow_drag\"},{\"default\":[],\"kind\":null,\"name\":\"state\"}]},{\"extends\":null,\"module\":null,\"name\":\"click1\",\"overrides\":[],\"properties\":[{\"default\":\"\",\"kind\":null,\"name\":\"terminal_output\"},{\"default\":\"\",\"kind\":null,\"name\":\"debug_name\"},{\"default\":0,\"kind\":null,\"name\":\"clears\"}]},{\"extends\":null,\"module\":null,\"name\":\"NotificationAreaBase1\",\"overrides\":[],\"properties\":[{\"default\":\"bottom-right\",\"kind\":null,\"name\":\"position\"},{\"default\":0,\"kind\":null,\"name\":\"_clear\"}]},{\"extends\":null,\"module\":null,\"name\":\"NotificationArea1\",\"overrides\":[],\"properties\":[{\"default\":[],\"kind\":null,\"name\":\"notifications\"},{\"default\":\"bottom-right\",\"kind\":null,\"name\":\"position\"},{\"default\":0,\"kind\":null,\"name\":\"_clear\"},{\"default\":[{\"background\":\"#ffc107\",\"icon\":{\"className\":\"fas fa-exclamation-triangle\",\"color\":\"white\",\"tagName\":\"i\"},\"type\":\"warning\"},{\"background\":\"#007bff\",\"icon\":{\"className\":\"fas fa-info-circle\",\"color\":\"white\",\"tagName\":\"i\"},\"type\":\"info\"}],\"kind\":null,\"name\":\"types\"}]},{\"extends\":null,\"module\":null,\"name\":\"Notification\",\"overrides\":[],\"properties\":[{\"default\":null,\"kind\":null,\"name\":\"background\"},{\"default\":3000,\"kind\":null,\"name\":\"duration\"},{\"default\":null,\"kind\":null,\"name\":\"icon\"},{\"default\":\"\",\"kind\":null,\"name\":\"message\"},{\"default\":null,\"kind\":null,\"name\":\"notification_type\"},{\"default\":false,\"kind\":null,\"name\":\"_destroyed\"}]},{\"extends\":null,\"module\":null,\"name\":\"TemplateActions1\",\"overrides\":[],\"properties\":[{\"default\":0,\"kind\":null,\"name\":\"open_modal\"},{\"default\":0,\"kind\":null,\"name\":\"close_modal\"}]},{\"extends\":null,\"module\":null,\"name\":\"MaterialTemplateActions1\",\"overrides\":[],\"properties\":[{\"default\":0,\"kind\":null,\"name\":\"open_modal\"},{\"default\":0,\"kind\":null,\"name\":\"close_modal\"}]}],\"roots\":{\"references\":[{\"attributes\":{\"client_comm_id\":\"4bc16d2062ec44c1a6006a41b44b2a30\",\"comm_id\":\"d7af026f73dd4027ab667c0d568ea342\",\"plot_id\":\"1011\"},\"id\":\"1012\",\"type\":\"panel.models.comm_manager.CommManager\"},{\"attributes\":{\"active\":0,\"button_type\":\"success\",\"labels\":[\"Apartment\",\"Land\",\"Road\"],\"margin\":[5,10,5,10]},\"id\":\"1011\",\"type\":\"RadioButtonGroup\"}],\"root_ids\":[\"1011\",\"1012\"]},\"title\":\"Bokeh Application\",\"version\":\"2.4.3\"}};\n",
       "    var render_items = [{\"docid\":\"987c57a9-e2f8-4bda-ab87-e7da13f45f07\",\"root_ids\":[\"1011\"],\"roots\":{\"1011\":\"643ca9bb-3fbd-4192-9d69-559ffb7bd550\"}}];\n",
       "    root.Bokeh.embed.embed_items_notebook(docs_json, render_items);\n",
       "  }\n",
       "  if (root.Bokeh !== undefined && root.Bokeh.Panel !== undefined && ( root['Tabulator'] !== undefined)) {\n",
       "    embed_document(root);\n",
       "  } else {\n",
       "    var attempts = 0;\n",
       "    var timer = setInterval(function(root) {\n",
       "      if (root.Bokeh !== undefined && root.Bokeh.Panel !== undefined && (root['Tabulator'] !== undefined)) {\n",
       "        clearInterval(timer);\n",
       "        embed_document(root);\n",
       "      } else if (document.readyState == \"complete\") {\n",
       "        attempts++;\n",
       "        if (attempts > 200) {\n",
       "          clearInterval(timer);\n",
       "          console.log(\"Bokeh: ERROR: Unable to run BokehJS code because BokehJS library is missing\");\n",
       "        }\n",
       "      }\n",
       "    }, 25, root)\n",
       "  }\n",
       "})(window);</script>"
      ],
      "text/plain": [
       "RadioButtonGroup(button_type='success', name='the_loai', options=['Apartment', ...], value='Apartment')"
      ]
     },
     "execution_count": 10,
     "metadata": {
      "application/vnd.holoviews_exec.v0+json": {
       "id": "1011"
      }
     },
     "output_type": "execute_result"
    }
   ],
   "source": [
    "# Thể loại nhà \n",
    "the_loai_co2 = pn.widgets.RadioButtonGroup(\n",
    "    name='the_loai', \n",
    "    options=list(data.the_loai.unique()),\n",
    "    button_type='success'\n",
    ")\n",
    "the_loai_co2"
   ]
  },
  {
   "cell_type": "code",
   "execution_count": 11,
   "id": "f1adee00",
   "metadata": {},
   "outputs": [
    {
     "data": {
      "text/plain": [
       "array(['không', 'Ngõ 4 ô tô trở lên', 'Ngõ 2 ô tô tránh', 'Ngõ 1 ô tô',\n",
       "       'Ngõ ngách', 'Ngõ 3 ô tô tránh', 'Ngõ 4 ô tô tránh',\n",
       "       'Mặt phố - Mặt đường'], dtype=object)"
      ]
     },
     "execution_count": 11,
     "metadata": {},
     "output_type": "execute_result"
    }
   ],
   "source": [
    "data.do_rong_duong_ml.unique()"
   ]
  },
  {
   "cell_type": "code",
   "execution_count": 12,
   "id": "96b1349b",
   "metadata": {},
   "outputs": [
    {
     "data": {},
     "metadata": {},
     "output_type": "display_data"
    },
    {
     "data": {
      "application/vnd.holoviews_exec.v0+json": "",
      "text/html": [
       "<div id='1013'>\n",
       "  <div class=\"bk-root\" id=\"b644f86e-4854-4ab8-add1-f2f1a7c3e7de\" data-root-id=\"1013\"></div>\n",
       "</div>\n",
       "<script type=\"application/javascript\">(function(root) {\n",
       "  function embed_document(root) {\n",
       "    var docs_json = {\"e855526f-982d-4144-9de5-e498ee5f98d4\":{\"defs\":[{\"extends\":null,\"module\":null,\"name\":\"ReactiveHTML1\",\"overrides\":[],\"properties\":[]},{\"extends\":null,\"module\":null,\"name\":\"FlexBox1\",\"overrides\":[],\"properties\":[{\"default\":\"flex-start\",\"kind\":null,\"name\":\"align_content\"},{\"default\":\"flex-start\",\"kind\":null,\"name\":\"align_items\"},{\"default\":\"row\",\"kind\":null,\"name\":\"flex_direction\"},{\"default\":\"wrap\",\"kind\":null,\"name\":\"flex_wrap\"},{\"default\":\"flex-start\",\"kind\":null,\"name\":\"justify_content\"}]},{\"extends\":null,\"module\":null,\"name\":\"GridStack1\",\"overrides\":[],\"properties\":[{\"default\":\"warn\",\"kind\":null,\"name\":\"mode\"},{\"default\":null,\"kind\":null,\"name\":\"ncols\"},{\"default\":null,\"kind\":null,\"name\":\"nrows\"},{\"default\":true,\"kind\":null,\"name\":\"allow_resize\"},{\"default\":true,\"kind\":null,\"name\":\"allow_drag\"},{\"default\":[],\"kind\":null,\"name\":\"state\"}]},{\"extends\":null,\"module\":null,\"name\":\"click1\",\"overrides\":[],\"properties\":[{\"default\":\"\",\"kind\":null,\"name\":\"terminal_output\"},{\"default\":\"\",\"kind\":null,\"name\":\"debug_name\"},{\"default\":0,\"kind\":null,\"name\":\"clears\"}]},{\"extends\":null,\"module\":null,\"name\":\"NotificationAreaBase1\",\"overrides\":[],\"properties\":[{\"default\":\"bottom-right\",\"kind\":null,\"name\":\"position\"},{\"default\":0,\"kind\":null,\"name\":\"_clear\"}]},{\"extends\":null,\"module\":null,\"name\":\"NotificationArea1\",\"overrides\":[],\"properties\":[{\"default\":[],\"kind\":null,\"name\":\"notifications\"},{\"default\":\"bottom-right\",\"kind\":null,\"name\":\"position\"},{\"default\":0,\"kind\":null,\"name\":\"_clear\"},{\"default\":[{\"background\":\"#ffc107\",\"icon\":{\"className\":\"fas fa-exclamation-triangle\",\"color\":\"white\",\"tagName\":\"i\"},\"type\":\"warning\"},{\"background\":\"#007bff\",\"icon\":{\"className\":\"fas fa-info-circle\",\"color\":\"white\",\"tagName\":\"i\"},\"type\":\"info\"}],\"kind\":null,\"name\":\"types\"}]},{\"extends\":null,\"module\":null,\"name\":\"Notification\",\"overrides\":[],\"properties\":[{\"default\":null,\"kind\":null,\"name\":\"background\"},{\"default\":3000,\"kind\":null,\"name\":\"duration\"},{\"default\":null,\"kind\":null,\"name\":\"icon\"},{\"default\":\"\",\"kind\":null,\"name\":\"message\"},{\"default\":null,\"kind\":null,\"name\":\"notification_type\"},{\"default\":false,\"kind\":null,\"name\":\"_destroyed\"}]},{\"extends\":null,\"module\":null,\"name\":\"TemplateActions1\",\"overrides\":[],\"properties\":[{\"default\":0,\"kind\":null,\"name\":\"open_modal\"},{\"default\":0,\"kind\":null,\"name\":\"close_modal\"}]},{\"extends\":null,\"module\":null,\"name\":\"MaterialTemplateActions1\",\"overrides\":[],\"properties\":[{\"default\":0,\"kind\":null,\"name\":\"open_modal\"},{\"default\":0,\"kind\":null,\"name\":\"close_modal\"}]}],\"roots\":{\"references\":[{\"attributes\":{\"margin\":[5,10,5,10],\"options\":[\"kh\\u00f4ng\",\"Ng\\u00f5 4 \\u00f4 t\\u00f4 tr\\u1edf l\\u00ean\",\"Ng\\u00f5 2 \\u00f4 t\\u00f4 tr\\u00e1nh\",\"Ng\\u00f5 1 \\u00f4 t\\u00f4\",\"Ng\\u00f5 ng\\u00e1ch\",\"Ng\\u00f5 3 \\u00f4 t\\u00f4 tr\\u00e1nh\",\"Ng\\u00f5 4 \\u00f4 t\\u00f4 tr\\u00e1nh\",\"M\\u1eb7t ph\\u1ed1 - M\\u1eb7t \\u0111\\u01b0\\u1eddng\"],\"value\":\"kh\\u00f4ng\"},\"id\":\"1013\",\"type\":\"panel.models.widgets.CustomSelect\"},{\"attributes\":{\"client_comm_id\":\"5892c294e86c4498b32014e4a9a6e22f\",\"comm_id\":\"0d20c01af8ad46b49db657193a98555b\",\"plot_id\":\"1013\"},\"id\":\"1014\",\"type\":\"panel.models.comm_manager.CommManager\"}],\"root_ids\":[\"1013\",\"1014\"]},\"title\":\"Bokeh Application\",\"version\":\"2.4.3\"}};\n",
       "    var render_items = [{\"docid\":\"e855526f-982d-4144-9de5-e498ee5f98d4\",\"root_ids\":[\"1013\"],\"roots\":{\"1013\":\"b644f86e-4854-4ab8-add1-f2f1a7c3e7de\"}}];\n",
       "    root.Bokeh.embed.embed_items_notebook(docs_json, render_items);\n",
       "  }\n",
       "  if (root.Bokeh !== undefined && root.Bokeh.Panel !== undefined && ( root['Tabulator'] !== undefined)) {\n",
       "    embed_document(root);\n",
       "  } else {\n",
       "    var attempts = 0;\n",
       "    var timer = setInterval(function(root) {\n",
       "      if (root.Bokeh !== undefined && root.Bokeh.Panel !== undefined && (root['Tabulator'] !== undefined)) {\n",
       "        clearInterval(timer);\n",
       "        embed_document(root);\n",
       "      } else if (document.readyState == \"complete\") {\n",
       "        attempts++;\n",
       "        if (attempts > 200) {\n",
       "          clearInterval(timer);\n",
       "          console.log(\"Bokeh: ERROR: Unable to run BokehJS code because BokehJS library is missing\");\n",
       "        }\n",
       "      }\n",
       "    }, 25, root)\n",
       "  }\n",
       "})(window);</script>"
      ],
      "text/plain": [
       "Select(options=['không', 'Ngõ 4 ô tô trở ...], value='không')"
      ]
     },
     "execution_count": 12,
     "metadata": {
      "application/vnd.holoviews_exec.v0+json": {
       "id": "1013"
      }
     },
     "output_type": "execute_result"
    }
   ],
   "source": [
    "# loại độ rộng đường\n",
    "duong_channel = ['không', 'Ngõ 4 ô tô trở lên', 'Ngõ 2 ô tô tránh', 'Ngõ 1 ô tô',\n",
    "       'Ngõ ngách', 'Ngõ 3 ô tô tránh', 'Ngõ 4 ô tô tránh',\n",
    "       'Mặt phố - Mặt đường']\n",
    "duong_combobox = pn.widgets.Select(options=duong_channel)\n",
    "\n",
    "duong_combobox"
   ]
  },
  {
   "cell_type": "code",
   "execution_count": 13,
   "id": "08ef810f",
   "metadata": {},
   "outputs": [
    {
     "data": {
      "text/plain": [
       "array(['trống', 'cao cấp', 'đầy đủ', 'tặng'], dtype=object)"
      ]
     },
     "execution_count": 13,
     "metadata": {},
     "output_type": "execute_result"
    }
   ],
   "source": [
    "noithat = data.noi_that.unique()\n",
    "noithat"
   ]
  },
  {
   "cell_type": "code",
   "execution_count": 14,
   "id": "038b6f00",
   "metadata": {},
   "outputs": [
    {
     "data": {},
     "metadata": {},
     "output_type": "display_data"
    },
    {
     "data": {
      "application/vnd.holoviews_exec.v0+json": "",
      "text/html": [
       "<div id='1015'>\n",
       "  <div class=\"bk-root\" id=\"c1df5a9b-49f8-4533-987b-d0cf806e05dc\" data-root-id=\"1015\"></div>\n",
       "</div>\n",
       "<script type=\"application/javascript\">(function(root) {\n",
       "  function embed_document(root) {\n",
       "    var docs_json = {\"42e982a6-4712-4025-954d-83ec0a47d34e\":{\"defs\":[{\"extends\":null,\"module\":null,\"name\":\"ReactiveHTML1\",\"overrides\":[],\"properties\":[]},{\"extends\":null,\"module\":null,\"name\":\"FlexBox1\",\"overrides\":[],\"properties\":[{\"default\":\"flex-start\",\"kind\":null,\"name\":\"align_content\"},{\"default\":\"flex-start\",\"kind\":null,\"name\":\"align_items\"},{\"default\":\"row\",\"kind\":null,\"name\":\"flex_direction\"},{\"default\":\"wrap\",\"kind\":null,\"name\":\"flex_wrap\"},{\"default\":\"flex-start\",\"kind\":null,\"name\":\"justify_content\"}]},{\"extends\":null,\"module\":null,\"name\":\"GridStack1\",\"overrides\":[],\"properties\":[{\"default\":\"warn\",\"kind\":null,\"name\":\"mode\"},{\"default\":null,\"kind\":null,\"name\":\"ncols\"},{\"default\":null,\"kind\":null,\"name\":\"nrows\"},{\"default\":true,\"kind\":null,\"name\":\"allow_resize\"},{\"default\":true,\"kind\":null,\"name\":\"allow_drag\"},{\"default\":[],\"kind\":null,\"name\":\"state\"}]},{\"extends\":null,\"module\":null,\"name\":\"click1\",\"overrides\":[],\"properties\":[{\"default\":\"\",\"kind\":null,\"name\":\"terminal_output\"},{\"default\":\"\",\"kind\":null,\"name\":\"debug_name\"},{\"default\":0,\"kind\":null,\"name\":\"clears\"}]},{\"extends\":null,\"module\":null,\"name\":\"NotificationAreaBase1\",\"overrides\":[],\"properties\":[{\"default\":\"bottom-right\",\"kind\":null,\"name\":\"position\"},{\"default\":0,\"kind\":null,\"name\":\"_clear\"}]},{\"extends\":null,\"module\":null,\"name\":\"NotificationArea1\",\"overrides\":[],\"properties\":[{\"default\":[],\"kind\":null,\"name\":\"notifications\"},{\"default\":\"bottom-right\",\"kind\":null,\"name\":\"position\"},{\"default\":0,\"kind\":null,\"name\":\"_clear\"},{\"default\":[{\"background\":\"#ffc107\",\"icon\":{\"className\":\"fas fa-exclamation-triangle\",\"color\":\"white\",\"tagName\":\"i\"},\"type\":\"warning\"},{\"background\":\"#007bff\",\"icon\":{\"className\":\"fas fa-info-circle\",\"color\":\"white\",\"tagName\":\"i\"},\"type\":\"info\"}],\"kind\":null,\"name\":\"types\"}]},{\"extends\":null,\"module\":null,\"name\":\"Notification\",\"overrides\":[],\"properties\":[{\"default\":null,\"kind\":null,\"name\":\"background\"},{\"default\":3000,\"kind\":null,\"name\":\"duration\"},{\"default\":null,\"kind\":null,\"name\":\"icon\"},{\"default\":\"\",\"kind\":null,\"name\":\"message\"},{\"default\":null,\"kind\":null,\"name\":\"notification_type\"},{\"default\":false,\"kind\":null,\"name\":\"_destroyed\"}]},{\"extends\":null,\"module\":null,\"name\":\"TemplateActions1\",\"overrides\":[],\"properties\":[{\"default\":0,\"kind\":null,\"name\":\"open_modal\"},{\"default\":0,\"kind\":null,\"name\":\"close_modal\"}]},{\"extends\":null,\"module\":null,\"name\":\"MaterialTemplateActions1\",\"overrides\":[],\"properties\":[{\"default\":0,\"kind\":null,\"name\":\"open_modal\"},{\"default\":0,\"kind\":null,\"name\":\"close_modal\"}]}],\"roots\":{\"references\":[{\"attributes\":{\"active\":0,\"button_type\":\"success\",\"labels\":[\"tr\\u1ed1ng\",\"cao c\\u1ea5p\",\"\\u0111\\u1ea7y \\u0111\\u1ee7\",\"t\\u1eb7ng\"],\"margin\":[5,10,5,10]},\"id\":\"1015\",\"type\":\"RadioButtonGroup\"},{\"attributes\":{\"client_comm_id\":\"80d1153e275f4128bd110523597f1f1a\",\"comm_id\":\"b63f7b182d3b463d91e910a5833362dd\",\"plot_id\":\"1015\"},\"id\":\"1016\",\"type\":\"panel.models.comm_manager.CommManager\"}],\"root_ids\":[\"1015\",\"1016\"]},\"title\":\"Bokeh Application\",\"version\":\"2.4.3\"}};\n",
       "    var render_items = [{\"docid\":\"42e982a6-4712-4025-954d-83ec0a47d34e\",\"root_ids\":[\"1015\"],\"roots\":{\"1015\":\"c1df5a9b-49f8-4533-987b-d0cf806e05dc\"}}];\n",
       "    root.Bokeh.embed.embed_items_notebook(docs_json, render_items);\n",
       "  }\n",
       "  if (root.Bokeh !== undefined && root.Bokeh.Panel !== undefined && ( root['Tabulator'] !== undefined)) {\n",
       "    embed_document(root);\n",
       "  } else {\n",
       "    var attempts = 0;\n",
       "    var timer = setInterval(function(root) {\n",
       "      if (root.Bokeh !== undefined && root.Bokeh.Panel !== undefined && (root['Tabulator'] !== undefined)) {\n",
       "        clearInterval(timer);\n",
       "        embed_document(root);\n",
       "      } else if (document.readyState == \"complete\") {\n",
       "        attempts++;\n",
       "        if (attempts > 200) {\n",
       "          clearInterval(timer);\n",
       "          console.log(\"Bokeh: ERROR: Unable to run BokehJS code because BokehJS library is missing\");\n",
       "        }\n",
       "      }\n",
       "    }, 25, root)\n",
       "  }\n",
       "})(window);</script>"
      ],
      "text/plain": [
       "RadioButtonGroup(button_type='success', name='noi_that', options=['trống', 'cao cấp', ...], value='trống')"
      ]
     },
     "execution_count": 14,
     "metadata": {
      "application/vnd.holoviews_exec.v0+json": {
       "id": "1015"
      }
     },
     "output_type": "execute_result"
    }
   ],
   "source": [
    "# Nội thất\n",
    "noi_that_radio = pn.widgets.RadioButtonGroup(\n",
    "    name='noi_that', options=list(noithat), button_type='success')\n",
    "noi_that_radio"
   ]
  },
  {
   "cell_type": "code",
   "execution_count": 15,
   "id": "f8c0386c",
   "metadata": {},
   "outputs": [
    {
     "data": {
      "text/plain": [
       "array(['có', 'không'], dtype=object)"
      ]
     },
     "execution_count": 15,
     "metadata": {},
     "output_type": "execute_result"
    }
   ],
   "source": [
    "sodo = data.so_do.unique()\n",
    "sodo"
   ]
  },
  {
   "cell_type": "code",
   "execution_count": 16,
   "id": "07d79a78",
   "metadata": {},
   "outputs": [
    {
     "data": {},
     "metadata": {},
     "output_type": "display_data"
    },
    {
     "data": {
      "application/vnd.holoviews_exec.v0+json": "",
      "text/html": [
       "<div id='1017'>\n",
       "  <div class=\"bk-root\" id=\"aadea9dd-1e34-401a-a995-534294b19f0d\" data-root-id=\"1017\"></div>\n",
       "</div>\n",
       "<script type=\"application/javascript\">(function(root) {\n",
       "  function embed_document(root) {\n",
       "    var docs_json = {\"e80bf34d-95bb-41e9-bd26-07658be91a98\":{\"defs\":[{\"extends\":null,\"module\":null,\"name\":\"ReactiveHTML1\",\"overrides\":[],\"properties\":[]},{\"extends\":null,\"module\":null,\"name\":\"FlexBox1\",\"overrides\":[],\"properties\":[{\"default\":\"flex-start\",\"kind\":null,\"name\":\"align_content\"},{\"default\":\"flex-start\",\"kind\":null,\"name\":\"align_items\"},{\"default\":\"row\",\"kind\":null,\"name\":\"flex_direction\"},{\"default\":\"wrap\",\"kind\":null,\"name\":\"flex_wrap\"},{\"default\":\"flex-start\",\"kind\":null,\"name\":\"justify_content\"}]},{\"extends\":null,\"module\":null,\"name\":\"GridStack1\",\"overrides\":[],\"properties\":[{\"default\":\"warn\",\"kind\":null,\"name\":\"mode\"},{\"default\":null,\"kind\":null,\"name\":\"ncols\"},{\"default\":null,\"kind\":null,\"name\":\"nrows\"},{\"default\":true,\"kind\":null,\"name\":\"allow_resize\"},{\"default\":true,\"kind\":null,\"name\":\"allow_drag\"},{\"default\":[],\"kind\":null,\"name\":\"state\"}]},{\"extends\":null,\"module\":null,\"name\":\"click1\",\"overrides\":[],\"properties\":[{\"default\":\"\",\"kind\":null,\"name\":\"terminal_output\"},{\"default\":\"\",\"kind\":null,\"name\":\"debug_name\"},{\"default\":0,\"kind\":null,\"name\":\"clears\"}]},{\"extends\":null,\"module\":null,\"name\":\"NotificationAreaBase1\",\"overrides\":[],\"properties\":[{\"default\":\"bottom-right\",\"kind\":null,\"name\":\"position\"},{\"default\":0,\"kind\":null,\"name\":\"_clear\"}]},{\"extends\":null,\"module\":null,\"name\":\"NotificationArea1\",\"overrides\":[],\"properties\":[{\"default\":[],\"kind\":null,\"name\":\"notifications\"},{\"default\":\"bottom-right\",\"kind\":null,\"name\":\"position\"},{\"default\":0,\"kind\":null,\"name\":\"_clear\"},{\"default\":[{\"background\":\"#ffc107\",\"icon\":{\"className\":\"fas fa-exclamation-triangle\",\"color\":\"white\",\"tagName\":\"i\"},\"type\":\"warning\"},{\"background\":\"#007bff\",\"icon\":{\"className\":\"fas fa-info-circle\",\"color\":\"white\",\"tagName\":\"i\"},\"type\":\"info\"}],\"kind\":null,\"name\":\"types\"}]},{\"extends\":null,\"module\":null,\"name\":\"Notification\",\"overrides\":[],\"properties\":[{\"default\":null,\"kind\":null,\"name\":\"background\"},{\"default\":3000,\"kind\":null,\"name\":\"duration\"},{\"default\":null,\"kind\":null,\"name\":\"icon\"},{\"default\":\"\",\"kind\":null,\"name\":\"message\"},{\"default\":null,\"kind\":null,\"name\":\"notification_type\"},{\"default\":false,\"kind\":null,\"name\":\"_destroyed\"}]},{\"extends\":null,\"module\":null,\"name\":\"TemplateActions1\",\"overrides\":[],\"properties\":[{\"default\":0,\"kind\":null,\"name\":\"open_modal\"},{\"default\":0,\"kind\":null,\"name\":\"close_modal\"}]},{\"extends\":null,\"module\":null,\"name\":\"MaterialTemplateActions1\",\"overrides\":[],\"properties\":[{\"default\":0,\"kind\":null,\"name\":\"open_modal\"},{\"default\":0,\"kind\":null,\"name\":\"close_modal\"}]}],\"roots\":{\"references\":[{\"attributes\":{\"client_comm_id\":\"5016a5957c4e404682e74f3466bb71ef\",\"comm_id\":\"6777c77aeec04f12bb07cafacc6dcb22\",\"plot_id\":\"1017\"},\"id\":\"1018\",\"type\":\"panel.models.comm_manager.CommManager\"},{\"attributes\":{\"active\":0,\"button_type\":\"success\",\"labels\":[\"c\\u00f3\",\"kh\\u00f4ng\"],\"margin\":[5,10,5,10]},\"id\":\"1017\",\"type\":\"RadioButtonGroup\"}],\"root_ids\":[\"1017\",\"1018\"]},\"title\":\"Bokeh Application\",\"version\":\"2.4.3\"}};\n",
       "    var render_items = [{\"docid\":\"e80bf34d-95bb-41e9-bd26-07658be91a98\",\"root_ids\":[\"1017\"],\"roots\":{\"1017\":\"aadea9dd-1e34-401a-a995-534294b19f0d\"}}];\n",
       "    root.Bokeh.embed.embed_items_notebook(docs_json, render_items);\n",
       "  }\n",
       "  if (root.Bokeh !== undefined && root.Bokeh.Panel !== undefined && ( root['Tabulator'] !== undefined)) {\n",
       "    embed_document(root);\n",
       "  } else {\n",
       "    var attempts = 0;\n",
       "    var timer = setInterval(function(root) {\n",
       "      if (root.Bokeh !== undefined && root.Bokeh.Panel !== undefined && (root['Tabulator'] !== undefined)) {\n",
       "        clearInterval(timer);\n",
       "        embed_document(root);\n",
       "      } else if (document.readyState == \"complete\") {\n",
       "        attempts++;\n",
       "        if (attempts > 200) {\n",
       "          clearInterval(timer);\n",
       "          console.log(\"Bokeh: ERROR: Unable to run BokehJS code because BokehJS library is missing\");\n",
       "        }\n",
       "      }\n",
       "    }, 25, root)\n",
       "  }\n",
       "})(window);</script>"
      ],
      "text/plain": [
       "RadioButtonGroup(button_type='success', name='so_do', options=['có', 'không'], value='có')"
      ]
     },
     "execution_count": 16,
     "metadata": {
      "application/vnd.holoviews_exec.v0+json": {
       "id": "1017"
      }
     },
     "output_type": "execute_result"
    }
   ],
   "source": [
    "# Sổ đỏ\n",
    "so_do_radio = pn.widgets.RadioButtonGroup(\n",
    "    name='so_do', options=list(sodo), button_type='success')\n",
    "so_do_radio"
   ]
  },
  {
   "cell_type": "code",
   "execution_count": 17,
   "id": "11c436c5",
   "metadata": {},
   "outputs": [
    {
     "data": {
      "text/plain": [
       "array(['KXĐ', 'Tây Bắc', 'Nam', 'Đông', 'Đông Nam', 'Tây', 'Bắc',\n",
       "       'Đông nam', 'Đông Bắc', 'Tây Nam'], dtype=object)"
      ]
     },
     "execution_count": 17,
     "metadata": {},
     "output_type": "execute_result"
    }
   ],
   "source": [
    "data.huong_nha.unique()"
   ]
  },
  {
   "cell_type": "code",
   "execution_count": 18,
   "id": "02349a80",
   "metadata": {},
   "outputs": [
    {
     "data": {},
     "metadata": {},
     "output_type": "display_data"
    },
    {
     "data": {
      "application/vnd.holoviews_exec.v0+json": "",
      "text/html": [
       "<div id='1019'>\n",
       "  <div class=\"bk-root\" id=\"a5548c3e-f34f-4312-9e5a-46037627b966\" data-root-id=\"1019\"></div>\n",
       "</div>\n",
       "<script type=\"application/javascript\">(function(root) {\n",
       "  function embed_document(root) {\n",
       "    var docs_json = {\"cf08f47f-92d4-479a-93ea-98ba0a9fa6f2\":{\"defs\":[{\"extends\":null,\"module\":null,\"name\":\"ReactiveHTML1\",\"overrides\":[],\"properties\":[]},{\"extends\":null,\"module\":null,\"name\":\"FlexBox1\",\"overrides\":[],\"properties\":[{\"default\":\"flex-start\",\"kind\":null,\"name\":\"align_content\"},{\"default\":\"flex-start\",\"kind\":null,\"name\":\"align_items\"},{\"default\":\"row\",\"kind\":null,\"name\":\"flex_direction\"},{\"default\":\"wrap\",\"kind\":null,\"name\":\"flex_wrap\"},{\"default\":\"flex-start\",\"kind\":null,\"name\":\"justify_content\"}]},{\"extends\":null,\"module\":null,\"name\":\"GridStack1\",\"overrides\":[],\"properties\":[{\"default\":\"warn\",\"kind\":null,\"name\":\"mode\"},{\"default\":null,\"kind\":null,\"name\":\"ncols\"},{\"default\":null,\"kind\":null,\"name\":\"nrows\"},{\"default\":true,\"kind\":null,\"name\":\"allow_resize\"},{\"default\":true,\"kind\":null,\"name\":\"allow_drag\"},{\"default\":[],\"kind\":null,\"name\":\"state\"}]},{\"extends\":null,\"module\":null,\"name\":\"click1\",\"overrides\":[],\"properties\":[{\"default\":\"\",\"kind\":null,\"name\":\"terminal_output\"},{\"default\":\"\",\"kind\":null,\"name\":\"debug_name\"},{\"default\":0,\"kind\":null,\"name\":\"clears\"}]},{\"extends\":null,\"module\":null,\"name\":\"NotificationAreaBase1\",\"overrides\":[],\"properties\":[{\"default\":\"bottom-right\",\"kind\":null,\"name\":\"position\"},{\"default\":0,\"kind\":null,\"name\":\"_clear\"}]},{\"extends\":null,\"module\":null,\"name\":\"NotificationArea1\",\"overrides\":[],\"properties\":[{\"default\":[],\"kind\":null,\"name\":\"notifications\"},{\"default\":\"bottom-right\",\"kind\":null,\"name\":\"position\"},{\"default\":0,\"kind\":null,\"name\":\"_clear\"},{\"default\":[{\"background\":\"#ffc107\",\"icon\":{\"className\":\"fas fa-exclamation-triangle\",\"color\":\"white\",\"tagName\":\"i\"},\"type\":\"warning\"},{\"background\":\"#007bff\",\"icon\":{\"className\":\"fas fa-info-circle\",\"color\":\"white\",\"tagName\":\"i\"},\"type\":\"info\"}],\"kind\":null,\"name\":\"types\"}]},{\"extends\":null,\"module\":null,\"name\":\"Notification\",\"overrides\":[],\"properties\":[{\"default\":null,\"kind\":null,\"name\":\"background\"},{\"default\":3000,\"kind\":null,\"name\":\"duration\"},{\"default\":null,\"kind\":null,\"name\":\"icon\"},{\"default\":\"\",\"kind\":null,\"name\":\"message\"},{\"default\":null,\"kind\":null,\"name\":\"notification_type\"},{\"default\":false,\"kind\":null,\"name\":\"_destroyed\"}]},{\"extends\":null,\"module\":null,\"name\":\"TemplateActions1\",\"overrides\":[],\"properties\":[{\"default\":0,\"kind\":null,\"name\":\"open_modal\"},{\"default\":0,\"kind\":null,\"name\":\"close_modal\"}]},{\"extends\":null,\"module\":null,\"name\":\"MaterialTemplateActions1\",\"overrides\":[],\"properties\":[{\"default\":0,\"kind\":null,\"name\":\"open_modal\"},{\"default\":0,\"kind\":null,\"name\":\"close_modal\"}]}],\"roots\":{\"references\":[{\"attributes\":{\"client_comm_id\":\"179fa35fc6724ffcaadb89ebc9a61e9d\",\"comm_id\":\"69f2a16f572d4c35b0f1029590601c2c\",\"plot_id\":\"1019\"},\"id\":\"1020\",\"type\":\"panel.models.comm_manager.CommManager\"},{\"attributes\":{\"margin\":[5,10,5,10],\"options\":[\"KX\\u0110\",\"T\\u00e2y B\\u1eafc\",\"Nam\",\"\\u0110\\u00f4ng\",\"\\u0110\\u00f4ng Nam\",\"T\\u00e2y\",\"B\\u1eafc\",\"\\u0110\\u00f4ng nam\",\"\\u0110\\u00f4ng B\\u1eafc\",\"T\\u00e2y Nam\"],\"value\":\"KX\\u0110\"},\"id\":\"1019\",\"type\":\"panel.models.widgets.CustomSelect\"}],\"root_ids\":[\"1019\",\"1020\"]},\"title\":\"Bokeh Application\",\"version\":\"2.4.3\"}};\n",
       "    var render_items = [{\"docid\":\"cf08f47f-92d4-479a-93ea-98ba0a9fa6f2\",\"root_ids\":[\"1019\"],\"roots\":{\"1019\":\"a5548c3e-f34f-4312-9e5a-46037627b966\"}}];\n",
       "    root.Bokeh.embed.embed_items_notebook(docs_json, render_items);\n",
       "  }\n",
       "  if (root.Bokeh !== undefined && root.Bokeh.Panel !== undefined && ( root['Tabulator'] !== undefined)) {\n",
       "    embed_document(root);\n",
       "  } else {\n",
       "    var attempts = 0;\n",
       "    var timer = setInterval(function(root) {\n",
       "      if (root.Bokeh !== undefined && root.Bokeh.Panel !== undefined && (root['Tabulator'] !== undefined)) {\n",
       "        clearInterval(timer);\n",
       "        embed_document(root);\n",
       "      } else if (document.readyState == \"complete\") {\n",
       "        attempts++;\n",
       "        if (attempts > 200) {\n",
       "          clearInterval(timer);\n",
       "          console.log(\"Bokeh: ERROR: Unable to run BokehJS code because BokehJS library is missing\");\n",
       "        }\n",
       "      }\n",
       "    }, 25, root)\n",
       "  }\n",
       "})(window);</script>"
      ],
      "text/plain": [
       "Select(options=['KXĐ', 'Tây Bắc', ...], value='KXĐ')"
      ]
     },
     "execution_count": 18,
     "metadata": {
      "application/vnd.holoviews_exec.v0+json": {
       "id": "1019"
      }
     },
     "output_type": "execute_result"
    }
   ],
   "source": [
    "# Hướng nhà\n",
    "huongnha_channel = ['KXĐ', 'Tây Bắc', 'Nam', 'Đông', 'Đông Nam', 'Tây', 'Bắc',\n",
    "       'Đông nam', 'Đông Bắc', 'Tây Nam']\n",
    "huongnha_combobox = pn.widgets.Select(options=huongnha_channel)\n",
    "\n",
    "huongnha_combobox"
   ]
  },
  {
   "cell_type": "code",
   "execution_count": 19,
   "id": "de3c560b",
   "metadata": {},
   "outputs": [
    {
     "data": {},
     "metadata": {},
     "output_type": "display_data"
    },
    {
     "data": {
      "application/vnd.holoviews_exec.v0+json": "",
      "text/html": [
       "<div id='1021'>\n",
       "  <div class=\"bk-root\" id=\"d5985b79-4a25-41f2-a1d9-01062cd5703d\" data-root-id=\"1021\"></div>\n",
       "</div>\n",
       "<script type=\"application/javascript\">(function(root) {\n",
       "  function embed_document(root) {\n",
       "    var docs_json = {\"cc446a6f-5518-4e2f-8082-30eea694a7fa\":{\"defs\":[{\"extends\":null,\"module\":null,\"name\":\"ReactiveHTML1\",\"overrides\":[],\"properties\":[]},{\"extends\":null,\"module\":null,\"name\":\"FlexBox1\",\"overrides\":[],\"properties\":[{\"default\":\"flex-start\",\"kind\":null,\"name\":\"align_content\"},{\"default\":\"flex-start\",\"kind\":null,\"name\":\"align_items\"},{\"default\":\"row\",\"kind\":null,\"name\":\"flex_direction\"},{\"default\":\"wrap\",\"kind\":null,\"name\":\"flex_wrap\"},{\"default\":\"flex-start\",\"kind\":null,\"name\":\"justify_content\"}]},{\"extends\":null,\"module\":null,\"name\":\"GridStack1\",\"overrides\":[],\"properties\":[{\"default\":\"warn\",\"kind\":null,\"name\":\"mode\"},{\"default\":null,\"kind\":null,\"name\":\"ncols\"},{\"default\":null,\"kind\":null,\"name\":\"nrows\"},{\"default\":true,\"kind\":null,\"name\":\"allow_resize\"},{\"default\":true,\"kind\":null,\"name\":\"allow_drag\"},{\"default\":[],\"kind\":null,\"name\":\"state\"}]},{\"extends\":null,\"module\":null,\"name\":\"click1\",\"overrides\":[],\"properties\":[{\"default\":\"\",\"kind\":null,\"name\":\"terminal_output\"},{\"default\":\"\",\"kind\":null,\"name\":\"debug_name\"},{\"default\":0,\"kind\":null,\"name\":\"clears\"}]},{\"extends\":null,\"module\":null,\"name\":\"NotificationAreaBase1\",\"overrides\":[],\"properties\":[{\"default\":\"bottom-right\",\"kind\":null,\"name\":\"position\"},{\"default\":0,\"kind\":null,\"name\":\"_clear\"}]},{\"extends\":null,\"module\":null,\"name\":\"NotificationArea1\",\"overrides\":[],\"properties\":[{\"default\":[],\"kind\":null,\"name\":\"notifications\"},{\"default\":\"bottom-right\",\"kind\":null,\"name\":\"position\"},{\"default\":0,\"kind\":null,\"name\":\"_clear\"},{\"default\":[{\"background\":\"#ffc107\",\"icon\":{\"className\":\"fas fa-exclamation-triangle\",\"color\":\"white\",\"tagName\":\"i\"},\"type\":\"warning\"},{\"background\":\"#007bff\",\"icon\":{\"className\":\"fas fa-info-circle\",\"color\":\"white\",\"tagName\":\"i\"},\"type\":\"info\"}],\"kind\":null,\"name\":\"types\"}]},{\"extends\":null,\"module\":null,\"name\":\"Notification\",\"overrides\":[],\"properties\":[{\"default\":null,\"kind\":null,\"name\":\"background\"},{\"default\":3000,\"kind\":null,\"name\":\"duration\"},{\"default\":null,\"kind\":null,\"name\":\"icon\"},{\"default\":\"\",\"kind\":null,\"name\":\"message\"},{\"default\":null,\"kind\":null,\"name\":\"notification_type\"},{\"default\":false,\"kind\":null,\"name\":\"_destroyed\"}]},{\"extends\":null,\"module\":null,\"name\":\"TemplateActions1\",\"overrides\":[],\"properties\":[{\"default\":0,\"kind\":null,\"name\":\"open_modal\"},{\"default\":0,\"kind\":null,\"name\":\"close_modal\"}]},{\"extends\":null,\"module\":null,\"name\":\"MaterialTemplateActions1\",\"overrides\":[],\"properties\":[{\"default\":0,\"kind\":null,\"name\":\"open_modal\"},{\"default\":0,\"kind\":null,\"name\":\"close_modal\"}]}],\"roots\":{\"references\":[{\"attributes\":{\"children\":[{\"id\":\"1029\"}],\"margin\":[0,0,0,0],\"name\":\"Row02218\"},\"id\":\"1028\",\"type\":\"Row\"},{\"attributes\":{\"children\":[{\"id\":\"1024\"},{\"id\":\"1027\"}],\"margin\":[0,0,0,0],\"name\":\"Row02246\"},\"id\":\"1023\",\"type\":\"Row\"},{\"attributes\":{\"children\":[{\"id\":\"1025\"},{\"id\":\"1026\"}],\"margin\":[0,0,0,0],\"name\":\"Column02213\"},\"id\":\"1024\",\"type\":\"Column\"},{\"attributes\":{\"margin\":[5,5,5,5],\"name\":\"DataFrame02243\",\"text\":\"&lt;table border=&quot;0&quot; class=&quot;dataframe panel-df&quot;&gt;\\n  &lt;thead&gt;\\n    &lt;tr style=&quot;text-align: right;&quot;&gt;\\n      &lt;th&gt;&lt;/th&gt;\\n      &lt;th&gt;the_loai&lt;/th&gt;\\n      &lt;th&gt;gia&lt;/th&gt;\\n    &lt;/tr&gt;\\n  &lt;/thead&gt;\\n  &lt;tbody&gt;\\n    &lt;tr&gt;\\n      &lt;th&gt;0&lt;/th&gt;\\n      &lt;td&gt;Apartment&lt;/td&gt;\\n      &lt;td&gt;2677.726222&lt;/td&gt;\\n    &lt;/tr&gt;\\n    &lt;tr&gt;\\n      &lt;th&gt;1&lt;/th&gt;\\n      &lt;td&gt;Land&lt;/td&gt;\\n      &lt;td&gt;4438.549821&lt;/td&gt;\\n    &lt;/tr&gt;\\n    &lt;tr&gt;\\n      &lt;th&gt;2&lt;/th&gt;\\n      &lt;td&gt;Road&lt;/td&gt;\\n      &lt;td&gt;12747.436975&lt;/td&gt;\\n    &lt;/tr&gt;\\n  &lt;/tbody&gt;\\n&lt;/table&gt;\"},\"id\":\"1029\",\"type\":\"panel.models.markup.HTML\"},{\"attributes\":{\"margin\":[5,5,5,5],\"name\":\"HSpacer02245\",\"sizing_mode\":\"stretch_width\"},\"id\":\"1027\",\"type\":\"Spacer\"},{\"attributes\":{\"children\":[{\"id\":\"1022\"}],\"margin\":[0,0,0,0],\"name\":\"Row02248\"},\"id\":\"1021\",\"type\":\"Row\"},{\"attributes\":{\"end\":33600,\"margin\":[5,10,5,10],\"start\":1,\"step\":5,\"title\":\"Gi\\u00e1 nh\\u1ecf nh\\u1ea5t slider\",\"value\":33600},\"id\":\"1025\",\"type\":\"Slider\"},{\"attributes\":{\"children\":[{\"id\":\"1023\"},{\"id\":\"1028\"}],\"margin\":[0,0,0,0],\"name\":\"Column02247\"},\"id\":\"1022\",\"type\":\"Column\"},{\"attributes\":{\"client_comm_id\":\"abe66db4a18341adad0ca5438098bc94\",\"comm_id\":\"d3ec71b7e7a74abfadd9c76cd1f6054f\",\"plot_id\":\"1021\"},\"id\":\"1030\",\"type\":\"panel.models.comm_manager.CommManager\"},{\"attributes\":{\"end\":33600,\"margin\":[5,10,5,10],\"start\":1,\"step\":5,\"title\":\"Gi\\u00e1 nh\\u1ecf nh\\u1ea5t slider\",\"value\":1},\"id\":\"1026\",\"type\":\"Slider\"}],\"root_ids\":[\"1021\",\"1030\"]},\"title\":\"Bokeh Application\",\"version\":\"2.4.3\"}};\n",
       "    var render_items = [{\"docid\":\"cc446a6f-5518-4e2f-8082-30eea694a7fa\",\"root_ids\":[\"1021\"],\"roots\":{\"1021\":\"d5985b79-4a25-41f2-a1d9-01062cd5703d\"}}];\n",
       "    root.Bokeh.embed.embed_items_notebook(docs_json, render_items);\n",
       "  }\n",
       "  if (root.Bokeh !== undefined && root.Bokeh.Panel !== undefined && ( root['Tabulator'] !== undefined)) {\n",
       "    embed_document(root);\n",
       "  } else {\n",
       "    var attempts = 0;\n",
       "    var timer = setInterval(function(root) {\n",
       "      if (root.Bokeh !== undefined && root.Bokeh.Panel !== undefined && (root['Tabulator'] !== undefined)) {\n",
       "        clearInterval(timer);\n",
       "        embed_document(root);\n",
       "      } else if (document.readyState == \"complete\") {\n",
       "        attempts++;\n",
       "        if (attempts > 200) {\n",
       "          clearInterval(timer);\n",
       "          console.log(\"Bokeh: ERROR: Unable to run BokehJS code because BokehJS library is missing\");\n",
       "        }\n",
       "      }\n",
       "    }, 25, root)\n",
       "  }\n",
       "})(window);</script>"
      ],
      "text/plain": [
       "<hvplot.interactive.Interactive at 0x2b27937dd80>"
      ]
     },
     "execution_count": 19,
     "metadata": {
      "application/vnd.holoviews_exec.v0+json": {
       "id": "1021"
      }
     },
     "output_type": "execute_result"
    }
   ],
   "source": [
    "gia_theloai = ( \n",
    "    idf[(idf.gia <= gia_lon_nhat_slider) & \n",
    "        (idf.gia >= gia_nho_nhat_slider) &\n",
    "        (idf.noi_that == noi_that_radio)]\n",
    "    .groupby(['the_loai'])['gia'].mean()\n",
    "    .to_frame()\n",
    "    .reset_index()  \n",
    "    .reset_index(drop=True)\n",
    ")\n",
    "gia_theloai"
   ]
  },
  {
   "cell_type": "code",
   "execution_count": 20,
   "id": "0d2a2073",
   "metadata": {},
   "outputs": [
    {
     "data": {},
     "metadata": {},
     "output_type": "display_data"
    },
    {
     "data": {},
     "metadata": {},
     "output_type": "display_data"
    },
    {
     "data": {
      "application/vnd.holoviews_exec.v0+json": "",
      "text/html": [
       "<div id='1031'>\n",
       "  <div class=\"bk-root\" id=\"81b983f2-06b3-4bab-87e3-12bfcf6f9fd9\" data-root-id=\"1031\"></div>\n",
       "</div>\n",
       "<script type=\"application/javascript\">(function(root) {\n",
       "  function embed_document(root) {\n",
       "    var docs_json = {\"e9a39007-7916-4b94-b31c-dec7c670a7c2\":{\"defs\":[{\"extends\":null,\"module\":null,\"name\":\"ReactiveHTML1\",\"overrides\":[],\"properties\":[]},{\"extends\":null,\"module\":null,\"name\":\"FlexBox1\",\"overrides\":[],\"properties\":[{\"default\":\"flex-start\",\"kind\":null,\"name\":\"align_content\"},{\"default\":\"flex-start\",\"kind\":null,\"name\":\"align_items\"},{\"default\":\"row\",\"kind\":null,\"name\":\"flex_direction\"},{\"default\":\"wrap\",\"kind\":null,\"name\":\"flex_wrap\"},{\"default\":\"flex-start\",\"kind\":null,\"name\":\"justify_content\"}]},{\"extends\":null,\"module\":null,\"name\":\"GridStack1\",\"overrides\":[],\"properties\":[{\"default\":\"warn\",\"kind\":null,\"name\":\"mode\"},{\"default\":null,\"kind\":null,\"name\":\"ncols\"},{\"default\":null,\"kind\":null,\"name\":\"nrows\"},{\"default\":true,\"kind\":null,\"name\":\"allow_resize\"},{\"default\":true,\"kind\":null,\"name\":\"allow_drag\"},{\"default\":[],\"kind\":null,\"name\":\"state\"}]},{\"extends\":null,\"module\":null,\"name\":\"click1\",\"overrides\":[],\"properties\":[{\"default\":\"\",\"kind\":null,\"name\":\"terminal_output\"},{\"default\":\"\",\"kind\":null,\"name\":\"debug_name\"},{\"default\":0,\"kind\":null,\"name\":\"clears\"}]},{\"extends\":null,\"module\":null,\"name\":\"NotificationAreaBase1\",\"overrides\":[],\"properties\":[{\"default\":\"bottom-right\",\"kind\":null,\"name\":\"position\"},{\"default\":0,\"kind\":null,\"name\":\"_clear\"}]},{\"extends\":null,\"module\":null,\"name\":\"NotificationArea1\",\"overrides\":[],\"properties\":[{\"default\":[],\"kind\":null,\"name\":\"notifications\"},{\"default\":\"bottom-right\",\"kind\":null,\"name\":\"position\"},{\"default\":0,\"kind\":null,\"name\":\"_clear\"},{\"default\":[{\"background\":\"#ffc107\",\"icon\":{\"className\":\"fas fa-exclamation-triangle\",\"color\":\"white\",\"tagName\":\"i\"},\"type\":\"warning\"},{\"background\":\"#007bff\",\"icon\":{\"className\":\"fas fa-info-circle\",\"color\":\"white\",\"tagName\":\"i\"},\"type\":\"info\"}],\"kind\":null,\"name\":\"types\"}]},{\"extends\":null,\"module\":null,\"name\":\"Notification\",\"overrides\":[],\"properties\":[{\"default\":null,\"kind\":null,\"name\":\"background\"},{\"default\":3000,\"kind\":null,\"name\":\"duration\"},{\"default\":null,\"kind\":null,\"name\":\"icon\"},{\"default\":\"\",\"kind\":null,\"name\":\"message\"},{\"default\":null,\"kind\":null,\"name\":\"notification_type\"},{\"default\":false,\"kind\":null,\"name\":\"_destroyed\"}]},{\"extends\":null,\"module\":null,\"name\":\"TemplateActions1\",\"overrides\":[],\"properties\":[{\"default\":0,\"kind\":null,\"name\":\"open_modal\"},{\"default\":0,\"kind\":null,\"name\":\"close_modal\"}]},{\"extends\":null,\"module\":null,\"name\":\"MaterialTemplateActions1\",\"overrides\":[],\"properties\":[{\"default\":0,\"kind\":null,\"name\":\"open_modal\"},{\"default\":0,\"kind\":null,\"name\":\"close_modal\"}]}],\"roots\":{\"references\":[{\"attributes\":{},\"id\":\"1058\",\"type\":\"SaveTool\"},{\"attributes\":{\"client_comm_id\":\"18a9e00699804c17aaf252e1998fd5a1\",\"comm_id\":\"089af6295fcb4e138e1a41a34b3d5297\",\"plot_id\":\"1031\"},\"id\":\"1126\",\"type\":\"panel.models.comm_manager.CommManager\"},{\"attributes\":{\"overlay\":{\"id\":\"1063\"}},\"id\":\"1061\",\"type\":\"BoxZoomTool\"},{\"attributes\":{},\"id\":\"1062\",\"type\":\"ResetTool\"},{\"attributes\":{\"axis_label\":\"the_loai\",\"coordinates\":null,\"formatter\":{\"id\":\"1081\"},\"group\":null,\"major_label_orientation\":0.7853981633974483,\"major_label_policy\":{\"id\":\"1082\"},\"ticker\":{\"id\":\"1052\"}},\"id\":\"1051\",\"type\":\"CategoricalAxis\"},{\"attributes\":{\"bottom_units\":\"screen\",\"coordinates\":null,\"fill_alpha\":0.5,\"fill_color\":\"lightgrey\",\"group\":null,\"left_units\":\"screen\",\"level\":\"overlay\",\"line_alpha\":1.0,\"line_color\":\"black\",\"line_dash\":[4,4],\"line_width\":2,\"right_units\":\"screen\",\"syncable\":false,\"top_units\":\"screen\"},\"id\":\"1063\",\"type\":\"BoxAnnotation\"},{\"attributes\":{\"end\":33600,\"margin\":[5,10,5,10],\"start\":1,\"step\":5,\"title\":\"Gi\\u00e1 nh\\u1ecf nh\\u1ea5t slider\",\"value\":33600},\"id\":\"1035\",\"type\":\"Slider\"},{\"attributes\":{\"fill_color\":{\"value\":\"#30a2da\"},\"hatch_color\":{\"value\":\"#30a2da\"},\"line_width\":{\"value\":2},\"top\":{\"field\":\"gia\"},\"width\":{\"value\":0.8},\"x\":{\"field\":\"the_loai\"}},\"id\":\"1074\",\"type\":\"VBar\"},{\"attributes\":{},\"id\":\"1049\",\"type\":\"LinearScale\"},{\"attributes\":{},\"id\":\"1082\",\"type\":\"AllLabels\"},{\"attributes\":{},\"id\":\"1085\",\"type\":\"AllLabels\"},{\"attributes\":{\"end\":33600,\"margin\":[5,10,5,10],\"start\":1,\"step\":5,\"title\":\"Gi\\u00e1 nh\\u1ecf nh\\u1ea5t slider\",\"value\":1},\"id\":\"1036\",\"type\":\"Slider\"},{\"attributes\":{\"tools\":[{\"id\":\"1041\"},{\"id\":\"1058\"},{\"id\":\"1059\"},{\"id\":\"1060\"},{\"id\":\"1061\"},{\"id\":\"1062\"}]},\"id\":\"1064\",\"type\":\"Toolbar\"},{\"attributes\":{},\"id\":\"1084\",\"type\":\"BasicTickFormatter\"},{\"attributes\":{\"data\":{\"gia\":{\"__ndarray__\":\"3eVV03PrpEDimBbBjFaxQPSwyO635chA\",\"dtype\":\"float64\",\"order\":\"little\",\"shape\":[3]},\"the_loai\":[\"Apartment\",\"Land\",\"Road\"]},\"selected\":{\"id\":\"1072\"},\"selection_policy\":{\"id\":\"1093\"}},\"id\":\"1071\",\"type\":\"ColumnDataSource\"},{\"attributes\":{\"children\":[{\"id\":\"1035\"},{\"id\":\"1036\"}],\"margin\":[0,0,0,0],\"name\":\"Column02429\"},\"id\":\"1034\",\"type\":\"Column\"},{\"attributes\":{},\"id\":\"1072\",\"type\":\"Selection\"},{\"attributes\":{\"children\":[{\"id\":\"1032\"}],\"margin\":[0,0,0,0],\"name\":\"Row02597\"},\"id\":\"1031\",\"type\":\"Row\"},{\"attributes\":{\"coordinates\":null,\"group\":null,\"text\":\"Bi\\u1ebfn \\u0111\\u1ed5i trung b\\u00ecnh gi\\u00e1 nh\\u00e0 theo lo\\u1ea1i nh\\u00e0\",\"text_color\":\"black\",\"text_font_size\":\"12pt\"},\"id\":\"1043\",\"type\":\"Title\"},{\"attributes\":{\"source\":{\"id\":\"1071\"}},\"id\":\"1078\",\"type\":\"CDSView\"},{\"attributes\":{\"fill_alpha\":{\"value\":0.2},\"fill_color\":{\"value\":\"#30a2da\"},\"hatch_alpha\":{\"value\":0.2},\"hatch_color\":{\"value\":\"#30a2da\"},\"line_alpha\":{\"value\":0.2},\"line_width\":{\"value\":2},\"top\":{\"field\":\"gia\"},\"width\":{\"value\":0.8},\"x\":{\"field\":\"the_loai\"}},\"id\":\"1076\",\"type\":\"VBar\"},{\"attributes\":{\"children\":[{\"id\":\"1033\"},{\"id\":\"1038\"}],\"margin\":[0,0,0,0],\"name\":\"Column02596\"},\"id\":\"1032\",\"type\":\"Column\"},{\"attributes\":{},\"id\":\"1052\",\"type\":\"CategoricalTicker\"},{\"attributes\":{\"margin\":[5,5,5,5],\"name\":\"HSpacer02594\",\"sizing_mode\":\"stretch_width\"},\"id\":\"1037\",\"type\":\"Spacer\"},{\"attributes\":{},\"id\":\"1047\",\"type\":\"CategoricalScale\"},{\"attributes\":{\"coordinates\":null,\"data_source\":{\"id\":\"1071\"},\"glyph\":{\"id\":\"1074\"},\"group\":null,\"hover_glyph\":null,\"muted_glyph\":{\"id\":\"1076\"},\"nonselection_glyph\":{\"id\":\"1075\"},\"selection_glyph\":{\"id\":\"1079\"},\"view\":{\"id\":\"1078\"}},\"id\":\"1077\",\"type\":\"GlyphRenderer\"},{\"attributes\":{\"fill_alpha\":{\"value\":0.1},\"fill_color\":{\"value\":\"#30a2da\"},\"hatch_alpha\":{\"value\":0.1},\"hatch_color\":{\"value\":\"#30a2da\"},\"line_alpha\":{\"value\":0.1},\"line_width\":{\"value\":2},\"top\":{\"field\":\"gia\"},\"width\":{\"value\":0.8},\"x\":{\"field\":\"the_loai\"}},\"id\":\"1075\",\"type\":\"VBar\"},{\"attributes\":{\"children\":[{\"id\":\"1042\"}],\"margin\":[0,0,0,0],\"name\":\"Row02434\"},\"id\":\"1038\",\"type\":\"Row\"},{\"attributes\":{\"end\":13754.408049894917,\"reset_end\":13754.408049894917,\"reset_start\":0.0,\"tags\":[[[\"gia\",\"gia\",null]]]},\"id\":\"1040\",\"type\":\"Range1d\"},{\"attributes\":{\"factors\":[\"Apartment\",\"Land\",\"Road\"],\"tags\":[[[\"the_loai\",\"the_loai\",null]]]},\"id\":\"1039\",\"type\":\"FactorRange\"},{\"attributes\":{},\"id\":\"1081\",\"type\":\"CategoricalTickFormatter\"},{\"attributes\":{\"callback\":null,\"renderers\":[{\"id\":\"1077\"}],\"tags\":[\"hv_created\"],\"tooltips\":[[\"the_loai\",\"@{the_loai}\"],[\"gia\",\"@{gia}\"]]},\"id\":\"1041\",\"type\":\"HoverTool\"},{\"attributes\":{\"children\":[{\"id\":\"1034\"},{\"id\":\"1037\"}],\"margin\":[0,0,0,0],\"name\":\"Row02595\"},\"id\":\"1033\",\"type\":\"Row\"},{\"attributes\":{\"below\":[{\"id\":\"1051\"}],\"center\":[{\"id\":\"1053\"},{\"id\":\"1057\"}],\"height\":300,\"left\":[{\"id\":\"1054\"}],\"margin\":[5,5,5,5],\"min_border_bottom\":10,\"min_border_left\":10,\"min_border_right\":10,\"min_border_top\":10,\"renderers\":[{\"id\":\"1077\"}],\"sizing_mode\":\"fixed\",\"title\":{\"id\":\"1043\"},\"toolbar\":{\"id\":\"1064\"},\"width\":700,\"x_range\":{\"id\":\"1039\"},\"x_scale\":{\"id\":\"1047\"},\"y_range\":{\"id\":\"1040\"},\"y_scale\":{\"id\":\"1049\"}},\"id\":\"1042\",\"subtype\":\"Figure\",\"type\":\"Plot\"},{\"attributes\":{\"axis\":{\"id\":\"1051\"},\"coordinates\":null,\"grid_line_color\":null,\"group\":null,\"ticker\":null},\"id\":\"1053\",\"type\":\"Grid\"},{\"attributes\":{},\"id\":\"1059\",\"type\":\"PanTool\"},{\"attributes\":{\"axis\":{\"id\":\"1054\"},\"coordinates\":null,\"dimension\":1,\"grid_line_color\":null,\"group\":null,\"ticker\":null},\"id\":\"1057\",\"type\":\"Grid\"},{\"attributes\":{\"bottom\":{\"value\":0},\"fill_alpha\":{\"value\":1.0},\"fill_color\":{\"value\":\"#30a2da\"},\"hatch_alpha\":{\"value\":1.0},\"hatch_color\":{\"value\":\"#30a2da\"},\"hatch_scale\":{\"value\":12.0},\"hatch_weight\":{\"value\":1.0},\"line_alpha\":{\"value\":1.0},\"line_cap\":{\"value\":\"butt\"},\"line_color\":{\"value\":\"black\"},\"line_dash\":{\"value\":[]},\"line_dash_offset\":{\"value\":0},\"line_join\":{\"value\":\"bevel\"},\"line_width\":{\"value\":2},\"top\":{\"field\":\"gia\"},\"width\":{\"value\":0.8},\"x\":{\"field\":\"the_loai\"}},\"id\":\"1079\",\"type\":\"VBar\"},{\"attributes\":{},\"id\":\"1093\",\"type\":\"UnionRenderers\"},{\"attributes\":{\"axis_label\":\"gia\",\"coordinates\":null,\"formatter\":{\"id\":\"1084\"},\"group\":null,\"major_label_policy\":{\"id\":\"1085\"},\"ticker\":{\"id\":\"1055\"}},\"id\":\"1054\",\"type\":\"LinearAxis\"},{\"attributes\":{},\"id\":\"1055\",\"type\":\"BasicTicker\"},{\"attributes\":{},\"id\":\"1060\",\"type\":\"WheelZoomTool\"}],\"root_ids\":[\"1031\",\"1126\"]},\"title\":\"Bokeh Application\",\"version\":\"2.4.3\"}};\n",
       "    var render_items = [{\"docid\":\"e9a39007-7916-4b94-b31c-dec7c670a7c2\",\"root_ids\":[\"1031\"],\"roots\":{\"1031\":\"81b983f2-06b3-4bab-87e3-12bfcf6f9fd9\"}}];\n",
       "    root.Bokeh.embed.embed_items_notebook(docs_json, render_items);\n",
       "  }\n",
       "  if (root.Bokeh !== undefined && root.Bokeh.Panel !== undefined && ( root['Tabulator'] !== undefined)) {\n",
       "    embed_document(root);\n",
       "  } else {\n",
       "    var attempts = 0;\n",
       "    var timer = setInterval(function(root) {\n",
       "      if (root.Bokeh !== undefined && root.Bokeh.Panel !== undefined && (root['Tabulator'] !== undefined)) {\n",
       "        clearInterval(timer);\n",
       "        embed_document(root);\n",
       "      } else if (document.readyState == \"complete\") {\n",
       "        attempts++;\n",
       "        if (attempts > 200) {\n",
       "          clearInterval(timer);\n",
       "          console.log(\"Bokeh: ERROR: Unable to run BokehJS code because BokehJS library is missing\");\n",
       "        }\n",
       "      }\n",
       "    }, 25, root)\n",
       "  }\n",
       "})(window);</script>"
      ],
      "text/plain": [
       "<hvplot.interactive.Interactive at 0x2b2551fc790>"
      ]
     },
     "execution_count": 20,
     "metadata": {
      "application/vnd.holoviews_exec.v0+json": {
       "id": "1031"
      }
     },
     "output_type": "execute_result"
    }
   ],
   "source": [
    "gia_theloai_plot = gia_theloai.hvplot(kind='bar', x='the_loai', y='gia',line_width=2, title=\"Biến đổi trung bình giá nhà theo loại nhà\",rot=45)\n",
    "gia_theloai_plot"
   ]
  },
  {
   "cell_type": "code",
   "execution_count": 43,
   "id": "45914448",
   "metadata": {},
   "outputs": [
    {
     "data": {},
     "metadata": {},
     "output_type": "display_data"
    },
    {
     "data": {
      "application/vnd.holoviews_exec.v0+json": "",
      "text/html": [
       "<div id='15036'>\n",
       "  <div class=\"bk-root\" id=\"b91f75dd-b948-4592-be63-1215c9455c56\" data-root-id=\"15036\"></div>\n",
       "</div>\n",
       "<script type=\"application/javascript\">(function(root) {\n",
       "  function embed_document(root) {\n",
       "    var docs_json = {\"668de545-4beb-483b-91bd-c590dd3beab4\":{\"defs\":[{\"extends\":null,\"module\":null,\"name\":\"ReactiveHTML1\",\"overrides\":[],\"properties\":[]},{\"extends\":null,\"module\":null,\"name\":\"FlexBox1\",\"overrides\":[],\"properties\":[{\"default\":\"flex-start\",\"kind\":null,\"name\":\"align_content\"},{\"default\":\"flex-start\",\"kind\":null,\"name\":\"align_items\"},{\"default\":\"row\",\"kind\":null,\"name\":\"flex_direction\"},{\"default\":\"wrap\",\"kind\":null,\"name\":\"flex_wrap\"},{\"default\":\"flex-start\",\"kind\":null,\"name\":\"justify_content\"}]},{\"extends\":null,\"module\":null,\"name\":\"GridStack1\",\"overrides\":[],\"properties\":[{\"default\":\"warn\",\"kind\":null,\"name\":\"mode\"},{\"default\":null,\"kind\":null,\"name\":\"ncols\"},{\"default\":null,\"kind\":null,\"name\":\"nrows\"},{\"default\":true,\"kind\":null,\"name\":\"allow_resize\"},{\"default\":true,\"kind\":null,\"name\":\"allow_drag\"},{\"default\":[],\"kind\":null,\"name\":\"state\"}]},{\"extends\":null,\"module\":null,\"name\":\"click1\",\"overrides\":[],\"properties\":[{\"default\":\"\",\"kind\":null,\"name\":\"terminal_output\"},{\"default\":\"\",\"kind\":null,\"name\":\"debug_name\"},{\"default\":0,\"kind\":null,\"name\":\"clears\"}]},{\"extends\":null,\"module\":null,\"name\":\"NotificationAreaBase1\",\"overrides\":[],\"properties\":[{\"default\":\"bottom-right\",\"kind\":null,\"name\":\"position\"},{\"default\":0,\"kind\":null,\"name\":\"_clear\"}]},{\"extends\":null,\"module\":null,\"name\":\"NotificationArea1\",\"overrides\":[],\"properties\":[{\"default\":[],\"kind\":null,\"name\":\"notifications\"},{\"default\":\"bottom-right\",\"kind\":null,\"name\":\"position\"},{\"default\":0,\"kind\":null,\"name\":\"_clear\"},{\"default\":[{\"background\":\"#ffc107\",\"icon\":{\"className\":\"fas fa-exclamation-triangle\",\"color\":\"white\",\"tagName\":\"i\"},\"type\":\"warning\"},{\"background\":\"#007bff\",\"icon\":{\"className\":\"fas fa-info-circle\",\"color\":\"white\",\"tagName\":\"i\"},\"type\":\"info\"}],\"kind\":null,\"name\":\"types\"}]},{\"extends\":null,\"module\":null,\"name\":\"Notification\",\"overrides\":[],\"properties\":[{\"default\":null,\"kind\":null,\"name\":\"background\"},{\"default\":3000,\"kind\":null,\"name\":\"duration\"},{\"default\":null,\"kind\":null,\"name\":\"icon\"},{\"default\":\"\",\"kind\":null,\"name\":\"message\"},{\"default\":null,\"kind\":null,\"name\":\"notification_type\"},{\"default\":false,\"kind\":null,\"name\":\"_destroyed\"}]},{\"extends\":null,\"module\":null,\"name\":\"TemplateActions1\",\"overrides\":[],\"properties\":[{\"default\":0,\"kind\":null,\"name\":\"open_modal\"},{\"default\":0,\"kind\":null,\"name\":\"close_modal\"}]},{\"extends\":null,\"module\":null,\"name\":\"MaterialTemplateActions1\",\"overrides\":[],\"properties\":[{\"default\":0,\"kind\":null,\"name\":\"open_modal\"},{\"default\":0,\"kind\":null,\"name\":\"close_modal\"}]}],\"roots\":{\"references\":[{\"attributes\":{\"end\":33600,\"margin\":[5,10,5,10],\"start\":1,\"step\":5,\"title\":\"Gi\\u00e1 nh\\u1ecf nh\\u1ea5t slider\",\"value\":33600},\"id\":\"15040\",\"type\":\"Slider\"},{\"attributes\":{\"children\":[{\"id\":\"15037\"}],\"margin\":[0,0,0,0],\"name\":\"Row29680\"},\"id\":\"15036\",\"type\":\"Row\"},{\"attributes\":{\"end\":33600,\"margin\":[5,10,5,10],\"start\":1,\"step\":5,\"title\":\"Gi\\u00e1 nh\\u1ecf nh\\u1ea5t slider\",\"value\":1},\"id\":\"15041\",\"type\":\"Slider\"},{\"attributes\":{\"children\":[{\"id\":\"15038\"},{\"id\":\"15044\"}],\"margin\":[0,0,0,0],\"name\":\"Column29679\"},\"id\":\"15037\",\"type\":\"Column\"},{\"attributes\":{\"margin\":[5,10,5,10],\"options\":[\"kh\\u00f4ng\",\"Ng\\u00f5 4 \\u00f4 t\\u00f4 tr\\u1edf l\\u00ean\",\"Ng\\u00f5 2 \\u00f4 t\\u00f4 tr\\u00e1nh\",\"Ng\\u00f5 1 \\u00f4 t\\u00f4\",\"Ng\\u00f5 ng\\u00e1ch\",\"Ng\\u00f5 3 \\u00f4 t\\u00f4 tr\\u00e1nh\",\"Ng\\u00f5 4 \\u00f4 t\\u00f4 tr\\u00e1nh\",\"M\\u1eb7t ph\\u1ed1 - M\\u1eb7t \\u0111\\u01b0\\u1eddng\"],\"value\":\"Ng\\u00f5 2 \\u00f4 t\\u00f4 tr\\u00e1nh\"},\"id\":\"15042\",\"type\":\"panel.models.widgets.CustomSelect\"},{\"attributes\":{\"children\":[{\"id\":\"15040\"},{\"id\":\"15041\"},{\"id\":\"15042\"}],\"margin\":[0,0,0,0],\"name\":\"Column29642\"},\"id\":\"15039\",\"type\":\"Column\"},{\"attributes\":{\"margin\":[5,5,5,5],\"name\":\"HSpacer29677\",\"sizing_mode\":\"stretch_width\"},\"id\":\"15043\",\"type\":\"Spacer\"},{\"attributes\":{\"client_comm_id\":\"ba778d0725f040359f464ba15fd522c3\",\"comm_id\":\"ef69441b0df5405db8ffc7c699b9601b\",\"plot_id\":\"15036\"},\"id\":\"15046\",\"type\":\"panel.models.comm_manager.CommManager\"},{\"attributes\":{\"children\":[{\"id\":\"15045\"}],\"margin\":[0,0,0,0],\"name\":\"Row29647\"},\"id\":\"15044\",\"type\":\"Row\"},{\"attributes\":{\"children\":[{\"id\":\"15039\"},{\"id\":\"15043\"}],\"margin\":[0,0,0,0],\"name\":\"Row29678\"},\"id\":\"15038\",\"type\":\"Row\"},{\"attributes\":{\"margin\":[5,5,5,5],\"name\":\"DataFrame29675\",\"text\":\"&lt;table border=&quot;0&quot; class=&quot;dataframe panel-df&quot;&gt;\\n  &lt;thead&gt;\\n    &lt;tr style=&quot;text-align: right;&quot;&gt;\\n      &lt;th&gt;&lt;/th&gt;\\n      &lt;th&gt;the_loai&lt;/th&gt;\\n      &lt;th&gt;phong_ngu&lt;/th&gt;\\n    &lt;/tr&gt;\\n  &lt;/thead&gt;\\n  &lt;tbody&gt;\\n    &lt;tr&gt;\\n      &lt;th&gt;0&lt;/th&gt;\\n      &lt;td&gt;Apartment&lt;/td&gt;\\n      &lt;td&gt;58&lt;/td&gt;\\n    &lt;/tr&gt;\\n    &lt;tr&gt;\\n      &lt;th&gt;1&lt;/th&gt;\\n      &lt;td&gt;Land&lt;/td&gt;\\n      &lt;td&gt;461&lt;/td&gt;\\n    &lt;/tr&gt;\\n    &lt;tr&gt;\\n      &lt;th&gt;2&lt;/th&gt;\\n      &lt;td&gt;Road&lt;/td&gt;\\n      &lt;td&gt;467&lt;/td&gt;\\n    &lt;/tr&gt;\\n  &lt;/tbody&gt;\\n&lt;/table&gt;\"},\"id\":\"15045\",\"type\":\"panel.models.markup.HTML\"}],\"root_ids\":[\"15036\",\"15046\"]},\"title\":\"Bokeh Application\",\"version\":\"2.4.3\"}};\n",
       "    var render_items = [{\"docid\":\"668de545-4beb-483b-91bd-c590dd3beab4\",\"root_ids\":[\"15036\"],\"roots\":{\"15036\":\"b91f75dd-b948-4592-be63-1215c9455c56\"}}];\n",
       "    root.Bokeh.embed.embed_items_notebook(docs_json, render_items);\n",
       "  }\n",
       "  if (root.Bokeh !== undefined && root.Bokeh.Panel !== undefined && ( root['Tabulator'] !== undefined)) {\n",
       "    embed_document(root);\n",
       "  } else {\n",
       "    var attempts = 0;\n",
       "    var timer = setInterval(function(root) {\n",
       "      if (root.Bokeh !== undefined && root.Bokeh.Panel !== undefined && (root['Tabulator'] !== undefined)) {\n",
       "        clearInterval(timer);\n",
       "        embed_document(root);\n",
       "      } else if (document.readyState == \"complete\") {\n",
       "        attempts++;\n",
       "        if (attempts > 200) {\n",
       "          clearInterval(timer);\n",
       "          console.log(\"Bokeh: ERROR: Unable to run BokehJS code because BokehJS library is missing\");\n",
       "        }\n",
       "      }\n",
       "    }, 25, root)\n",
       "  }\n",
       "})(window);</script>"
      ],
      "text/plain": [
       "<hvplot.interactive.Interactive at 0x2b27aeab850>"
      ]
     },
     "execution_count": 43,
     "metadata": {
      "application/vnd.holoviews_exec.v0+json": {
       "id": "15036"
      }
     },
     "output_type": "execute_result"
    }
   ],
   "source": [
    "phong_ngu_the_loai = ( \n",
    "    idf[(idf.gia <= gia_lon_nhat_slider) & \n",
    "        (idf.gia >= gia_nho_nhat_slider)]\n",
    "    .groupby(['the_loai'])['phong_ngu'].count()\n",
    "    .to_frame()\n",
    "    .reset_index()  \n",
    "    .reset_index(drop=True)\n",
    ")\n",
    "phong_ngu_the_loai"
   ]
  },
  {
   "cell_type": "code",
   "execution_count": 22,
   "id": "9345a945",
   "metadata": {},
   "outputs": [
    {
     "data": {},
     "metadata": {},
     "output_type": "display_data"
    },
    {
     "data": {},
     "metadata": {},
     "output_type": "display_data"
    },
    {
     "data": {
      "application/vnd.holoviews_exec.v0+json": "",
      "text/html": [
       "<div id='1187'>\n",
       "  <div class=\"bk-root\" id=\"ea9e5313-8ec9-4c8b-8c82-eaac47cb645e\" data-root-id=\"1187\"></div>\n",
       "</div>\n",
       "<script type=\"application/javascript\">(function(root) {\n",
       "  function embed_document(root) {\n",
       "    var docs_json = {\"1df4d4f1-15c1-4d2f-9401-3e61e98dcf59\":{\"defs\":[{\"extends\":null,\"module\":null,\"name\":\"ReactiveHTML1\",\"overrides\":[],\"properties\":[]},{\"extends\":null,\"module\":null,\"name\":\"FlexBox1\",\"overrides\":[],\"properties\":[{\"default\":\"flex-start\",\"kind\":null,\"name\":\"align_content\"},{\"default\":\"flex-start\",\"kind\":null,\"name\":\"align_items\"},{\"default\":\"row\",\"kind\":null,\"name\":\"flex_direction\"},{\"default\":\"wrap\",\"kind\":null,\"name\":\"flex_wrap\"},{\"default\":\"flex-start\",\"kind\":null,\"name\":\"justify_content\"}]},{\"extends\":null,\"module\":null,\"name\":\"GridStack1\",\"overrides\":[],\"properties\":[{\"default\":\"warn\",\"kind\":null,\"name\":\"mode\"},{\"default\":null,\"kind\":null,\"name\":\"ncols\"},{\"default\":null,\"kind\":null,\"name\":\"nrows\"},{\"default\":true,\"kind\":null,\"name\":\"allow_resize\"},{\"default\":true,\"kind\":null,\"name\":\"allow_drag\"},{\"default\":[],\"kind\":null,\"name\":\"state\"}]},{\"extends\":null,\"module\":null,\"name\":\"click1\",\"overrides\":[],\"properties\":[{\"default\":\"\",\"kind\":null,\"name\":\"terminal_output\"},{\"default\":\"\",\"kind\":null,\"name\":\"debug_name\"},{\"default\":0,\"kind\":null,\"name\":\"clears\"}]},{\"extends\":null,\"module\":null,\"name\":\"NotificationAreaBase1\",\"overrides\":[],\"properties\":[{\"default\":\"bottom-right\",\"kind\":null,\"name\":\"position\"},{\"default\":0,\"kind\":null,\"name\":\"_clear\"}]},{\"extends\":null,\"module\":null,\"name\":\"NotificationArea1\",\"overrides\":[],\"properties\":[{\"default\":[],\"kind\":null,\"name\":\"notifications\"},{\"default\":\"bottom-right\",\"kind\":null,\"name\":\"position\"},{\"default\":0,\"kind\":null,\"name\":\"_clear\"},{\"default\":[{\"background\":\"#ffc107\",\"icon\":{\"className\":\"fas fa-exclamation-triangle\",\"color\":\"white\",\"tagName\":\"i\"},\"type\":\"warning\"},{\"background\":\"#007bff\",\"icon\":{\"className\":\"fas fa-info-circle\",\"color\":\"white\",\"tagName\":\"i\"},\"type\":\"info\"}],\"kind\":null,\"name\":\"types\"}]},{\"extends\":null,\"module\":null,\"name\":\"Notification\",\"overrides\":[],\"properties\":[{\"default\":null,\"kind\":null,\"name\":\"background\"},{\"default\":3000,\"kind\":null,\"name\":\"duration\"},{\"default\":null,\"kind\":null,\"name\":\"icon\"},{\"default\":\"\",\"kind\":null,\"name\":\"message\"},{\"default\":null,\"kind\":null,\"name\":\"notification_type\"},{\"default\":false,\"kind\":null,\"name\":\"_destroyed\"}]},{\"extends\":null,\"module\":null,\"name\":\"TemplateActions1\",\"overrides\":[],\"properties\":[{\"default\":0,\"kind\":null,\"name\":\"open_modal\"},{\"default\":0,\"kind\":null,\"name\":\"close_modal\"}]},{\"extends\":null,\"module\":null,\"name\":\"MaterialTemplateActions1\",\"overrides\":[],\"properties\":[{\"default\":0,\"kind\":null,\"name\":\"open_modal\"},{\"default\":0,\"kind\":null,\"name\":\"close_modal\"}]}],\"roots\":{\"references\":[{\"attributes\":{\"end\":48925.0,\"reset_end\":48925.0,\"reset_start\":0.0,\"tags\":[[[\"phong_ngu\",\"phong_ngu\",null]]]},\"id\":\"1196\",\"type\":\"Range1d\"},{\"attributes\":{},\"id\":\"1249\",\"type\":\"UnionRenderers\"},{\"attributes\":{\"axis\":{\"id\":\"1207\"},\"coordinates\":null,\"grid_line_color\":null,\"group\":null,\"ticker\":null},\"id\":\"1209\",\"type\":\"Grid\"},{\"attributes\":{\"children\":[{\"id\":\"1188\"}],\"margin\":[0,0,0,0],\"name\":\"Row03649\"},\"id\":\"1187\",\"type\":\"Row\"},{\"attributes\":{\"axis_label\":\"the_loai\",\"coordinates\":null,\"formatter\":{\"id\":\"1237\"},\"group\":null,\"major_label_orientation\":0.7853981633974483,\"major_label_policy\":{\"id\":\"1238\"},\"ticker\":{\"id\":\"1208\"}},\"id\":\"1207\",\"type\":\"CategoricalAxis\"},{\"attributes\":{\"axis_label\":\"phong_ngu\",\"coordinates\":null,\"formatter\":{\"id\":\"1240\"},\"group\":null,\"major_label_policy\":{\"id\":\"1241\"},\"ticker\":{\"id\":\"1211\"}},\"id\":\"1210\",\"type\":\"LinearAxis\"},{\"attributes\":{},\"id\":\"1208\",\"type\":\"CategoricalTicker\"},{\"attributes\":{},\"id\":\"1216\",\"type\":\"WheelZoomTool\"},{\"attributes\":{},\"id\":\"1215\",\"type\":\"PanTool\"},{\"attributes\":{\"axis\":{\"id\":\"1210\"},\"coordinates\":null,\"dimension\":1,\"grid_line_color\":null,\"group\":null,\"ticker\":null},\"id\":\"1213\",\"type\":\"Grid\"},{\"attributes\":{},\"id\":\"1211\",\"type\":\"BasicTicker\"},{\"attributes\":{},\"id\":\"1214\",\"type\":\"SaveTool\"},{\"attributes\":{},\"id\":\"1241\",\"type\":\"AllLabels\"},{\"attributes\":{},\"id\":\"1203\",\"type\":\"CategoricalScale\"},{\"attributes\":{\"overlay\":{\"id\":\"1219\"}},\"id\":\"1217\",\"type\":\"BoxZoomTool\"},{\"attributes\":{\"client_comm_id\":\"1a66da7ea5eb40abb083d9360022fbbf\",\"comm_id\":\"c1a204c28265439eb5edd77973f0156c\",\"plot_id\":\"1187\"},\"id\":\"1282\",\"type\":\"panel.models.comm_manager.CommManager\"},{\"attributes\":{},\"id\":\"1218\",\"type\":\"ResetTool\"},{\"attributes\":{\"bottom\":{\"value\":0},\"fill_alpha\":{\"value\":1.0},\"fill_color\":{\"value\":\"#30a2da\"},\"hatch_alpha\":{\"value\":1.0},\"hatch_color\":{\"value\":\"#30a2da\"},\"hatch_scale\":{\"value\":12.0},\"hatch_weight\":{\"value\":1.0},\"line_alpha\":{\"value\":1.0},\"line_cap\":{\"value\":\"butt\"},\"line_color\":{\"value\":\"black\"},\"line_dash\":{\"value\":[]},\"line_dash_offset\":{\"value\":0},\"line_join\":{\"value\":\"bevel\"},\"line_width\":{\"value\":2},\"top\":{\"field\":\"phong_ngu\"},\"width\":{\"value\":0.8},\"x\":{\"field\":\"the_loai\"}},\"id\":\"1235\",\"type\":\"VBar\"},{\"attributes\":{\"bottom_units\":\"screen\",\"coordinates\":null,\"fill_alpha\":0.5,\"fill_color\":\"lightgrey\",\"group\":null,\"left_units\":\"screen\",\"level\":\"overlay\",\"line_alpha\":1.0,\"line_color\":\"black\",\"line_dash\":[4,4],\"line_width\":2,\"right_units\":\"screen\",\"syncable\":false,\"top_units\":\"screen\"},\"id\":\"1219\",\"type\":\"BoxAnnotation\"},{\"attributes\":{},\"id\":\"1238\",\"type\":\"AllLabels\"},{\"attributes\":{\"margin\":[5,5,5,5],\"name\":\"HSpacer03646\",\"sizing_mode\":\"stretch_width\"},\"id\":\"1193\",\"type\":\"Spacer\"},{\"attributes\":{\"children\":[{\"id\":\"1189\"},{\"id\":\"1194\"}],\"margin\":[0,0,0,0],\"name\":\"Column03648\"},\"id\":\"1188\",\"type\":\"Column\"},{\"attributes\":{\"tools\":[{\"id\":\"1197\"},{\"id\":\"1214\"},{\"id\":\"1215\"},{\"id\":\"1216\"},{\"id\":\"1217\"},{\"id\":\"1218\"}]},\"id\":\"1220\",\"type\":\"Toolbar\"},{\"attributes\":{\"coordinates\":null,\"group\":null,\"text\":\"Bi\\u1ebfn \\u0111\\u1ed5i s\\u1ed1 l\\u01b0\\u1ee3ng ph\\u00f2ng ng\\u1ee7 theo lo\\u1ea1i nh\\u00e0\",\"text_color\":\"black\",\"text_font_size\":\"12pt\"},\"id\":\"1199\",\"type\":\"Title\"},{\"attributes\":{\"data\":{\"phong_ngu\":[29323,18466,46156],\"the_loai\":[\"Apartment\",\"Land\",\"Road\"]},\"selected\":{\"id\":\"1228\"},\"selection_policy\":{\"id\":\"1249\"}},\"id\":\"1227\",\"type\":\"ColumnDataSource\"},{\"attributes\":{\"factors\":[\"Apartment\",\"Land\",\"Road\"],\"tags\":[[[\"the_loai\",\"the_loai\",null]]]},\"id\":\"1195\",\"type\":\"FactorRange\"},{\"attributes\":{\"end\":33600,\"margin\":[5,10,5,10],\"start\":1,\"step\":5,\"title\":\"Gi\\u00e1 nh\\u1ecf nh\\u1ea5t slider\",\"value\":1},\"id\":\"1192\",\"type\":\"Slider\"},{\"attributes\":{},\"id\":\"1228\",\"type\":\"Selection\"},{\"attributes\":{\"children\":[{\"id\":\"1198\"}],\"margin\":[0,0,0,0],\"name\":\"Row03486\"},\"id\":\"1194\",\"type\":\"Row\"},{\"attributes\":{\"source\":{\"id\":\"1227\"}},\"id\":\"1234\",\"type\":\"CDSView\"},{\"attributes\":{\"fill_alpha\":{\"value\":0.2},\"fill_color\":{\"value\":\"#30a2da\"},\"hatch_alpha\":{\"value\":0.2},\"hatch_color\":{\"value\":\"#30a2da\"},\"line_alpha\":{\"value\":0.2},\"line_width\":{\"value\":2},\"top\":{\"field\":\"phong_ngu\"},\"width\":{\"value\":0.8},\"x\":{\"field\":\"the_loai\"}},\"id\":\"1232\",\"type\":\"VBar\"},{\"attributes\":{\"end\":33600,\"margin\":[5,10,5,10],\"start\":1,\"step\":5,\"title\":\"Gi\\u00e1 nh\\u1ecf nh\\u1ea5t slider\",\"value\":33600},\"id\":\"1191\",\"type\":\"Slider\"},{\"attributes\":{\"below\":[{\"id\":\"1207\"}],\"center\":[{\"id\":\"1209\"},{\"id\":\"1213\"}],\"height\":300,\"left\":[{\"id\":\"1210\"}],\"margin\":[5,5,5,5],\"min_border_bottom\":10,\"min_border_left\":10,\"min_border_right\":10,\"min_border_top\":10,\"renderers\":[{\"id\":\"1233\"}],\"sizing_mode\":\"fixed\",\"title\":{\"id\":\"1199\"},\"toolbar\":{\"id\":\"1220\"},\"width\":700,\"x_range\":{\"id\":\"1195\"},\"x_scale\":{\"id\":\"1203\"},\"y_range\":{\"id\":\"1196\"},\"y_scale\":{\"id\":\"1205\"}},\"id\":\"1198\",\"subtype\":\"Figure\",\"type\":\"Plot\"},{\"attributes\":{\"children\":[{\"id\":\"1191\"},{\"id\":\"1192\"}],\"margin\":[0,0,0,0],\"name\":\"Column03481\"},\"id\":\"1190\",\"type\":\"Column\"},{\"attributes\":{},\"id\":\"1240\",\"type\":\"BasicTickFormatter\"},{\"attributes\":{\"children\":[{\"id\":\"1190\"},{\"id\":\"1193\"}],\"margin\":[0,0,0,0],\"name\":\"Row03647\"},\"id\":\"1189\",\"type\":\"Row\"},{\"attributes\":{\"coordinates\":null,\"data_source\":{\"id\":\"1227\"},\"glyph\":{\"id\":\"1230\"},\"group\":null,\"hover_glyph\":null,\"muted_glyph\":{\"id\":\"1232\"},\"nonselection_glyph\":{\"id\":\"1231\"},\"selection_glyph\":{\"id\":\"1235\"},\"view\":{\"id\":\"1234\"}},\"id\":\"1233\",\"type\":\"GlyphRenderer\"},{\"attributes\":{\"fill_color\":{\"value\":\"#30a2da\"},\"hatch_color\":{\"value\":\"#30a2da\"},\"line_width\":{\"value\":2},\"top\":{\"field\":\"phong_ngu\"},\"width\":{\"value\":0.8},\"x\":{\"field\":\"the_loai\"}},\"id\":\"1230\",\"type\":\"VBar\"},{\"attributes\":{\"fill_alpha\":{\"value\":0.1},\"fill_color\":{\"value\":\"#30a2da\"},\"hatch_alpha\":{\"value\":0.1},\"hatch_color\":{\"value\":\"#30a2da\"},\"line_alpha\":{\"value\":0.1},\"line_width\":{\"value\":2},\"top\":{\"field\":\"phong_ngu\"},\"width\":{\"value\":0.8},\"x\":{\"field\":\"the_loai\"}},\"id\":\"1231\",\"type\":\"VBar\"},{\"attributes\":{\"callback\":null,\"renderers\":[{\"id\":\"1233\"}],\"tags\":[\"hv_created\"],\"tooltips\":[[\"the_loai\",\"@{the_loai}\"],[\"phong_ngu\",\"@{phong_ngu}\"]]},\"id\":\"1197\",\"type\":\"HoverTool\"},{\"attributes\":{},\"id\":\"1205\",\"type\":\"LinearScale\"},{\"attributes\":{},\"id\":\"1237\",\"type\":\"CategoricalTickFormatter\"}],\"root_ids\":[\"1187\",\"1282\"]},\"title\":\"Bokeh Application\",\"version\":\"2.4.3\"}};\n",
       "    var render_items = [{\"docid\":\"1df4d4f1-15c1-4d2f-9401-3e61e98dcf59\",\"root_ids\":[\"1187\"],\"roots\":{\"1187\":\"ea9e5313-8ec9-4c8b-8c82-eaac47cb645e\"}}];\n",
       "    root.Bokeh.embed.embed_items_notebook(docs_json, render_items);\n",
       "  }\n",
       "  if (root.Bokeh !== undefined && root.Bokeh.Panel !== undefined && ( root['Tabulator'] !== undefined)) {\n",
       "    embed_document(root);\n",
       "  } else {\n",
       "    var attempts = 0;\n",
       "    var timer = setInterval(function(root) {\n",
       "      if (root.Bokeh !== undefined && root.Bokeh.Panel !== undefined && (root['Tabulator'] !== undefined)) {\n",
       "        clearInterval(timer);\n",
       "        embed_document(root);\n",
       "      } else if (document.readyState == \"complete\") {\n",
       "        attempts++;\n",
       "        if (attempts > 200) {\n",
       "          clearInterval(timer);\n",
       "          console.log(\"Bokeh: ERROR: Unable to run BokehJS code because BokehJS library is missing\");\n",
       "        }\n",
       "      }\n",
       "    }, 25, root)\n",
       "  }\n",
       "})(window);</script>"
      ],
      "text/plain": [
       "<hvplot.interactive.Interactive at 0x2b27945b700>"
      ]
     },
     "execution_count": 22,
     "metadata": {
      "application/vnd.holoviews_exec.v0+json": {
       "id": "1187"
      }
     },
     "output_type": "execute_result"
    }
   ],
   "source": [
    "phong_ngu_the_loai_plot = phong_ngu_the_loai.hvplot(kind='bar', x='the_loai', y='phong_ngu',line_width=2, title=\"Biến đổi số lượng phòng ngủ theo loại nhà\",rot=45)\n",
    "phong_ngu_the_loai_plot"
   ]
  },
  {
   "cell_type": "code",
   "execution_count": 23,
   "id": "18f3b519",
   "metadata": {},
   "outputs": [
    {
     "data": {},
     "metadata": {},
     "output_type": "display_data"
    },
    {
     "data": {
      "application/vnd.holoviews_exec.v0+json": "",
      "text/html": [
       "<div id='1333'>\n",
       "  <div class=\"bk-root\" id=\"a8bbe3d8-f8e4-4614-a081-7597c04f15e3\" data-root-id=\"1333\"></div>\n",
       "</div>\n",
       "<script type=\"application/javascript\">(function(root) {\n",
       "  function embed_document(root) {\n",
       "    var docs_json = {\"c7a9290a-6da0-445a-a5de-ac0dd926d071\":{\"defs\":[{\"extends\":null,\"module\":null,\"name\":\"ReactiveHTML1\",\"overrides\":[],\"properties\":[]},{\"extends\":null,\"module\":null,\"name\":\"FlexBox1\",\"overrides\":[],\"properties\":[{\"default\":\"flex-start\",\"kind\":null,\"name\":\"align_content\"},{\"default\":\"flex-start\",\"kind\":null,\"name\":\"align_items\"},{\"default\":\"row\",\"kind\":null,\"name\":\"flex_direction\"},{\"default\":\"wrap\",\"kind\":null,\"name\":\"flex_wrap\"},{\"default\":\"flex-start\",\"kind\":null,\"name\":\"justify_content\"}]},{\"extends\":null,\"module\":null,\"name\":\"GridStack1\",\"overrides\":[],\"properties\":[{\"default\":\"warn\",\"kind\":null,\"name\":\"mode\"},{\"default\":null,\"kind\":null,\"name\":\"ncols\"},{\"default\":null,\"kind\":null,\"name\":\"nrows\"},{\"default\":true,\"kind\":null,\"name\":\"allow_resize\"},{\"default\":true,\"kind\":null,\"name\":\"allow_drag\"},{\"default\":[],\"kind\":null,\"name\":\"state\"}]},{\"extends\":null,\"module\":null,\"name\":\"click1\",\"overrides\":[],\"properties\":[{\"default\":\"\",\"kind\":null,\"name\":\"terminal_output\"},{\"default\":\"\",\"kind\":null,\"name\":\"debug_name\"},{\"default\":0,\"kind\":null,\"name\":\"clears\"}]},{\"extends\":null,\"module\":null,\"name\":\"NotificationAreaBase1\",\"overrides\":[],\"properties\":[{\"default\":\"bottom-right\",\"kind\":null,\"name\":\"position\"},{\"default\":0,\"kind\":null,\"name\":\"_clear\"}]},{\"extends\":null,\"module\":null,\"name\":\"NotificationArea1\",\"overrides\":[],\"properties\":[{\"default\":[],\"kind\":null,\"name\":\"notifications\"},{\"default\":\"bottom-right\",\"kind\":null,\"name\":\"position\"},{\"default\":0,\"kind\":null,\"name\":\"_clear\"},{\"default\":[{\"background\":\"#ffc107\",\"icon\":{\"className\":\"fas fa-exclamation-triangle\",\"color\":\"white\",\"tagName\":\"i\"},\"type\":\"warning\"},{\"background\":\"#007bff\",\"icon\":{\"className\":\"fas fa-info-circle\",\"color\":\"white\",\"tagName\":\"i\"},\"type\":\"info\"}],\"kind\":null,\"name\":\"types\"}]},{\"extends\":null,\"module\":null,\"name\":\"Notification\",\"overrides\":[],\"properties\":[{\"default\":null,\"kind\":null,\"name\":\"background\"},{\"default\":3000,\"kind\":null,\"name\":\"duration\"},{\"default\":null,\"kind\":null,\"name\":\"icon\"},{\"default\":\"\",\"kind\":null,\"name\":\"message\"},{\"default\":null,\"kind\":null,\"name\":\"notification_type\"},{\"default\":false,\"kind\":null,\"name\":\"_destroyed\"}]},{\"extends\":null,\"module\":null,\"name\":\"TemplateActions1\",\"overrides\":[],\"properties\":[{\"default\":0,\"kind\":null,\"name\":\"open_modal\"},{\"default\":0,\"kind\":null,\"name\":\"close_modal\"}]},{\"extends\":null,\"module\":null,\"name\":\"MaterialTemplateActions1\",\"overrides\":[],\"properties\":[{\"default\":0,\"kind\":null,\"name\":\"open_modal\"},{\"default\":0,\"kind\":null,\"name\":\"close_modal\"}]}],\"roots\":{\"references\":[{\"attributes\":{\"margin\":[5,5,5,5],\"name\":\"HSpacer04349\",\"sizing_mode\":\"stretch_width\"},\"id\":\"1339\",\"type\":\"Spacer\"},{\"attributes\":{\"end\":33600,\"margin\":[5,10,5,10],\"start\":1,\"step\":5,\"title\":\"Gi\\u00e1 nh\\u1ecf nh\\u1ea5t slider\",\"value\":33600},\"id\":\"1337\",\"type\":\"Slider\"},{\"attributes\":{\"children\":[{\"id\":\"1335\"},{\"id\":\"1340\"}],\"margin\":[0,0,0,0],\"name\":\"Column04351\"},\"id\":\"1334\",\"type\":\"Column\"},{\"attributes\":{\"children\":[{\"id\":\"1336\"},{\"id\":\"1339\"}],\"margin\":[0,0,0,0],\"name\":\"Row04350\"},\"id\":\"1335\",\"type\":\"Row\"},{\"attributes\":{\"end\":33600,\"margin\":[5,10,5,10],\"start\":1,\"step\":5,\"title\":\"Gi\\u00e1 nh\\u1ecf nh\\u1ea5t slider\",\"value\":1},\"id\":\"1338\",\"type\":\"Slider\"},{\"attributes\":{\"children\":[{\"id\":\"1337\"},{\"id\":\"1338\"}],\"margin\":[0,0,0,0],\"name\":\"Column04317\"},\"id\":\"1336\",\"type\":\"Column\"},{\"attributes\":{\"client_comm_id\":\"ffa4fa8da69345e19ac4eebf592fc41a\",\"comm_id\":\"0ada29c9791d4c6db2fbc18162a70251\",\"plot_id\":\"1333\"},\"id\":\"1342\",\"type\":\"panel.models.comm_manager.CommManager\"},{\"attributes\":{\"margin\":[5,5,5,5],\"name\":\"DataFrame04347\",\"text\":\"&lt;table border=&quot;0&quot; class=&quot;dataframe panel-df&quot;&gt;\\n  &lt;thead&gt;\\n    &lt;tr style=&quot;text-align: right;&quot;&gt;\\n      &lt;th&gt;&lt;/th&gt;\\n      &lt;th&gt;the_loai&lt;/th&gt;\\n      &lt;th&gt;dien_tich&lt;/th&gt;\\n    &lt;/tr&gt;\\n  &lt;/thead&gt;\\n  &lt;tbody&gt;\\n    &lt;tr&gt;\\n      &lt;th&gt;0&lt;/th&gt;\\n      &lt;td&gt;Apartment&lt;/td&gt;\\n      &lt;td&gt;79.199447&lt;/td&gt;\\n    &lt;/tr&gt;\\n    &lt;tr&gt;\\n      &lt;th&gt;1&lt;/th&gt;\\n      &lt;td&gt;Land&lt;/td&gt;\\n      &lt;td&gt;74.424726&lt;/td&gt;\\n    &lt;/tr&gt;\\n    &lt;tr&gt;\\n      &lt;th&gt;2&lt;/th&gt;\\n      &lt;td&gt;Road&lt;/td&gt;\\n      &lt;td&gt;67.152281&lt;/td&gt;\\n    &lt;/tr&gt;\\n  &lt;/tbody&gt;\\n&lt;/table&gt;\"},\"id\":\"1341\",\"type\":\"panel.models.markup.HTML\"},{\"attributes\":{\"children\":[{\"id\":\"1334\"}],\"margin\":[0,0,0,0],\"name\":\"Row04352\"},\"id\":\"1333\",\"type\":\"Row\"},{\"attributes\":{\"children\":[{\"id\":\"1341\"}],\"margin\":[0,0,0,0],\"name\":\"Row04322\"},\"id\":\"1340\",\"type\":\"Row\"}],\"root_ids\":[\"1333\",\"1342\"]},\"title\":\"Bokeh Application\",\"version\":\"2.4.3\"}};\n",
       "    var render_items = [{\"docid\":\"c7a9290a-6da0-445a-a5de-ac0dd926d071\",\"root_ids\":[\"1333\"],\"roots\":{\"1333\":\"a8bbe3d8-f8e4-4614-a081-7597c04f15e3\"}}];\n",
       "    root.Bokeh.embed.embed_items_notebook(docs_json, render_items);\n",
       "  }\n",
       "  if (root.Bokeh !== undefined && root.Bokeh.Panel !== undefined && ( root['Tabulator'] !== undefined)) {\n",
       "    embed_document(root);\n",
       "  } else {\n",
       "    var attempts = 0;\n",
       "    var timer = setInterval(function(root) {\n",
       "      if (root.Bokeh !== undefined && root.Bokeh.Panel !== undefined && (root['Tabulator'] !== undefined)) {\n",
       "        clearInterval(timer);\n",
       "        embed_document(root);\n",
       "      } else if (document.readyState == \"complete\") {\n",
       "        attempts++;\n",
       "        if (attempts > 200) {\n",
       "          clearInterval(timer);\n",
       "          console.log(\"Bokeh: ERROR: Unable to run BokehJS code because BokehJS library is missing\");\n",
       "        }\n",
       "      }\n",
       "    }, 25, root)\n",
       "  }\n",
       "})(window);</script>"
      ],
      "text/plain": [
       "<hvplot.interactive.Interactive at 0x2b2551fc130>"
      ]
     },
     "execution_count": 23,
     "metadata": {
      "application/vnd.holoviews_exec.v0+json": {
       "id": "1333"
      }
     },
     "output_type": "execute_result"
    }
   ],
   "source": [
    "dien_tich_the_loai = ( \n",
    "    idf[(idf.gia <= gia_lon_nhat_slider) & \n",
    "        (idf.gia >= gia_nho_nhat_slider)]\n",
    "    .groupby(['the_loai'])['dien_tich'].mean()\n",
    "    .to_frame()\n",
    "    .reset_index()  \n",
    "    .reset_index(drop=True)\n",
    ")\n",
    "dien_tich_the_loai"
   ]
  },
  {
   "cell_type": "code",
   "execution_count": 24,
   "id": "3f7528c7",
   "metadata": {},
   "outputs": [
    {
     "data": {},
     "metadata": {},
     "output_type": "display_data"
    },
    {
     "data": {},
     "metadata": {},
     "output_type": "display_data"
    },
    {
     "data": {
      "application/vnd.holoviews_exec.v0+json": "",
      "text/html": [
       "<div id='1343'>\n",
       "  <div class=\"bk-root\" id=\"1ce2ad15-4abe-4c5d-abee-afdd09d5083e\" data-root-id=\"1343\"></div>\n",
       "</div>\n",
       "<script type=\"application/javascript\">(function(root) {\n",
       "  function embed_document(root) {\n",
       "    var docs_json = {\"79769f22-35c1-45fa-9e16-8b1d5c8f9e39\":{\"defs\":[{\"extends\":null,\"module\":null,\"name\":\"ReactiveHTML1\",\"overrides\":[],\"properties\":[]},{\"extends\":null,\"module\":null,\"name\":\"FlexBox1\",\"overrides\":[],\"properties\":[{\"default\":\"flex-start\",\"kind\":null,\"name\":\"align_content\"},{\"default\":\"flex-start\",\"kind\":null,\"name\":\"align_items\"},{\"default\":\"row\",\"kind\":null,\"name\":\"flex_direction\"},{\"default\":\"wrap\",\"kind\":null,\"name\":\"flex_wrap\"},{\"default\":\"flex-start\",\"kind\":null,\"name\":\"justify_content\"}]},{\"extends\":null,\"module\":null,\"name\":\"GridStack1\",\"overrides\":[],\"properties\":[{\"default\":\"warn\",\"kind\":null,\"name\":\"mode\"},{\"default\":null,\"kind\":null,\"name\":\"ncols\"},{\"default\":null,\"kind\":null,\"name\":\"nrows\"},{\"default\":true,\"kind\":null,\"name\":\"allow_resize\"},{\"default\":true,\"kind\":null,\"name\":\"allow_drag\"},{\"default\":[],\"kind\":null,\"name\":\"state\"}]},{\"extends\":null,\"module\":null,\"name\":\"click1\",\"overrides\":[],\"properties\":[{\"default\":\"\",\"kind\":null,\"name\":\"terminal_output\"},{\"default\":\"\",\"kind\":null,\"name\":\"debug_name\"},{\"default\":0,\"kind\":null,\"name\":\"clears\"}]},{\"extends\":null,\"module\":null,\"name\":\"NotificationAreaBase1\",\"overrides\":[],\"properties\":[{\"default\":\"bottom-right\",\"kind\":null,\"name\":\"position\"},{\"default\":0,\"kind\":null,\"name\":\"_clear\"}]},{\"extends\":null,\"module\":null,\"name\":\"NotificationArea1\",\"overrides\":[],\"properties\":[{\"default\":[],\"kind\":null,\"name\":\"notifications\"},{\"default\":\"bottom-right\",\"kind\":null,\"name\":\"position\"},{\"default\":0,\"kind\":null,\"name\":\"_clear\"},{\"default\":[{\"background\":\"#ffc107\",\"icon\":{\"className\":\"fas fa-exclamation-triangle\",\"color\":\"white\",\"tagName\":\"i\"},\"type\":\"warning\"},{\"background\":\"#007bff\",\"icon\":{\"className\":\"fas fa-info-circle\",\"color\":\"white\",\"tagName\":\"i\"},\"type\":\"info\"}],\"kind\":null,\"name\":\"types\"}]},{\"extends\":null,\"module\":null,\"name\":\"Notification\",\"overrides\":[],\"properties\":[{\"default\":null,\"kind\":null,\"name\":\"background\"},{\"default\":3000,\"kind\":null,\"name\":\"duration\"},{\"default\":null,\"kind\":null,\"name\":\"icon\"},{\"default\":\"\",\"kind\":null,\"name\":\"message\"},{\"default\":null,\"kind\":null,\"name\":\"notification_type\"},{\"default\":false,\"kind\":null,\"name\":\"_destroyed\"}]},{\"extends\":null,\"module\":null,\"name\":\"TemplateActions1\",\"overrides\":[],\"properties\":[{\"default\":0,\"kind\":null,\"name\":\"open_modal\"},{\"default\":0,\"kind\":null,\"name\":\"close_modal\"}]},{\"extends\":null,\"module\":null,\"name\":\"MaterialTemplateActions1\",\"overrides\":[],\"properties\":[{\"default\":0,\"kind\":null,\"name\":\"open_modal\"},{\"default\":0,\"kind\":null,\"name\":\"close_modal\"}]}],\"roots\":{\"references\":[{\"attributes\":{\"end\":80.40416384645968,\"reset_end\":80.40416384645968,\"reset_start\":0.0,\"tags\":[[[\"dien_tich\",\"dien_tich\",null]]]},\"id\":\"1352\",\"type\":\"Range1d\"},{\"attributes\":{},\"id\":\"1371\",\"type\":\"PanTool\"},{\"attributes\":{\"axis_label\":\"the_loai\",\"coordinates\":null,\"formatter\":{\"id\":\"1393\"},\"group\":null,\"major_label_orientation\":0.7853981633974483,\"major_label_policy\":{\"id\":\"1394\"},\"ticker\":{\"id\":\"1364\"}},\"id\":\"1363\",\"type\":\"CategoricalAxis\"},{\"attributes\":{\"children\":[{\"id\":\"1347\"},{\"id\":\"1348\"}],\"margin\":[0,0,0,0],\"name\":\"Column04533\"},\"id\":\"1346\",\"type\":\"Column\"},{\"attributes\":{\"axis\":{\"id\":\"1366\"},\"coordinates\":null,\"dimension\":1,\"grid_line_color\":null,\"group\":null,\"ticker\":null},\"id\":\"1369\",\"type\":\"Grid\"},{\"attributes\":{\"bottom\":{\"value\":0},\"fill_alpha\":{\"value\":1.0},\"fill_color\":{\"value\":\"#30a2da\"},\"hatch_alpha\":{\"value\":1.0},\"hatch_color\":{\"value\":\"#30a2da\"},\"hatch_scale\":{\"value\":12.0},\"hatch_weight\":{\"value\":1.0},\"line_alpha\":{\"value\":1.0},\"line_cap\":{\"value\":\"butt\"},\"line_color\":{\"value\":\"black\"},\"line_dash\":{\"value\":[]},\"line_dash_offset\":{\"value\":0},\"line_join\":{\"value\":\"bevel\"},\"line_width\":{\"value\":2},\"top\":{\"field\":\"dien_tich\"},\"width\":{\"value\":0.8},\"x\":{\"field\":\"the_loai\"}},\"id\":\"1391\",\"type\":\"VBar\"},{\"attributes\":{\"axis_label\":\"dien_tich\",\"coordinates\":null,\"formatter\":{\"id\":\"1396\"},\"group\":null,\"major_label_policy\":{\"id\":\"1397\"},\"ticker\":{\"id\":\"1367\"}},\"id\":\"1366\",\"type\":\"LinearAxis\"},{\"attributes\":{},\"id\":\"1367\",\"type\":\"BasicTicker\"},{\"attributes\":{},\"id\":\"1372\",\"type\":\"WheelZoomTool\"},{\"attributes\":{},\"id\":\"1370\",\"type\":\"SaveTool\"},{\"attributes\":{\"overlay\":{\"id\":\"1375\"}},\"id\":\"1373\",\"type\":\"BoxZoomTool\"},{\"attributes\":{},\"id\":\"1359\",\"type\":\"CategoricalScale\"},{\"attributes\":{},\"id\":\"1374\",\"type\":\"ResetTool\"},{\"attributes\":{\"client_comm_id\":\"d30ab9a6e3574ec58f06e79b473aa649\",\"comm_id\":\"c31274a7fb8846e5bd427a1522e4615e\",\"plot_id\":\"1343\"},\"id\":\"1438\",\"type\":\"panel.models.comm_manager.CommManager\"},{\"attributes\":{\"axis\":{\"id\":\"1363\"},\"coordinates\":null,\"grid_line_color\":null,\"group\":null,\"ticker\":null},\"id\":\"1365\",\"type\":\"Grid\"},{\"attributes\":{\"bottom_units\":\"screen\",\"coordinates\":null,\"fill_alpha\":0.5,\"fill_color\":\"lightgrey\",\"group\":null,\"left_units\":\"screen\",\"level\":\"overlay\",\"line_alpha\":1.0,\"line_color\":\"black\",\"line_dash\":[4,4],\"line_width\":2,\"right_units\":\"screen\",\"syncable\":false,\"top_units\":\"screen\"},\"id\":\"1375\",\"type\":\"BoxAnnotation\"},{\"attributes\":{},\"id\":\"1394\",\"type\":\"AllLabels\"},{\"attributes\":{\"margin\":[5,5,5,5],\"name\":\"HSpacer04698\",\"sizing_mode\":\"stretch_width\"},\"id\":\"1349\",\"type\":\"Spacer\"},{\"attributes\":{\"tools\":[{\"id\":\"1353\"},{\"id\":\"1370\"},{\"id\":\"1371\"},{\"id\":\"1372\"},{\"id\":\"1373\"},{\"id\":\"1374\"}]},\"id\":\"1376\",\"type\":\"Toolbar\"},{\"attributes\":{},\"id\":\"1396\",\"type\":\"BasicTickFormatter\"},{\"attributes\":{\"data\":{\"dien_tich\":{\"__ndarray__\":\"1Y9wvsPMU0AzmHq3LptSQGlBdfq+yVBA\",\"dtype\":\"float64\",\"order\":\"little\",\"shape\":[3]},\"the_loai\":[\"Apartment\",\"Land\",\"Road\"]},\"selected\":{\"id\":\"1384\"},\"selection_policy\":{\"id\":\"1405\"}},\"id\":\"1383\",\"type\":\"ColumnDataSource\"},{\"attributes\":{\"coordinates\":null,\"group\":null,\"text\":\"Bi\\u1ebfn \\u0111\\u1ed5i trung b\\u00ecnh di\\u1ec7n t\\u00edch theo lo\\u1ea1i nh\\u00e0\",\"text_color\":\"black\",\"text_font_size\":\"12pt\"},\"id\":\"1355\",\"type\":\"Title\"},{\"attributes\":{},\"id\":\"1384\",\"type\":\"Selection\"},{\"attributes\":{\"end\":33600,\"margin\":[5,10,5,10],\"start\":1,\"step\":5,\"title\":\"Gi\\u00e1 nh\\u1ecf nh\\u1ea5t slider\",\"value\":1},\"id\":\"1348\",\"type\":\"Slider\"},{\"attributes\":{\"factors\":[\"Apartment\",\"Land\",\"Road\"],\"tags\":[[[\"the_loai\",\"the_loai\",null]]]},\"id\":\"1351\",\"type\":\"FactorRange\"},{\"attributes\":{\"source\":{\"id\":\"1383\"}},\"id\":\"1390\",\"type\":\"CDSView\"},{\"attributes\":{\"children\":[{\"id\":\"1354\"}],\"margin\":[0,0,0,0],\"name\":\"Row04538\"},\"id\":\"1350\",\"type\":\"Row\"},{\"attributes\":{\"fill_alpha\":{\"value\":0.2},\"fill_color\":{\"value\":\"#30a2da\"},\"hatch_alpha\":{\"value\":0.2},\"hatch_color\":{\"value\":\"#30a2da\"},\"line_alpha\":{\"value\":0.2},\"line_width\":{\"value\":2},\"top\":{\"field\":\"dien_tich\"},\"width\":{\"value\":0.8},\"x\":{\"field\":\"the_loai\"}},\"id\":\"1388\",\"type\":\"VBar\"},{\"attributes\":{\"end\":33600,\"margin\":[5,10,5,10],\"start\":1,\"step\":5,\"title\":\"Gi\\u00e1 nh\\u1ecf nh\\u1ea5t slider\",\"value\":33600},\"id\":\"1347\",\"type\":\"Slider\"},{\"attributes\":{\"below\":[{\"id\":\"1363\"}],\"center\":[{\"id\":\"1365\"},{\"id\":\"1369\"}],\"height\":300,\"left\":[{\"id\":\"1366\"}],\"margin\":[5,5,5,5],\"min_border_bottom\":10,\"min_border_left\":10,\"min_border_right\":10,\"min_border_top\":10,\"renderers\":[{\"id\":\"1389\"}],\"sizing_mode\":\"fixed\",\"title\":{\"id\":\"1355\"},\"toolbar\":{\"id\":\"1376\"},\"width\":700,\"x_range\":{\"id\":\"1351\"},\"x_scale\":{\"id\":\"1359\"},\"y_range\":{\"id\":\"1352\"},\"y_scale\":{\"id\":\"1361\"}},\"id\":\"1354\",\"subtype\":\"Figure\",\"type\":\"Plot\"},{\"attributes\":{\"children\":[{\"id\":\"1345\"},{\"id\":\"1350\"}],\"margin\":[0,0,0,0],\"name\":\"Column04700\"},\"id\":\"1344\",\"type\":\"Column\"},{\"attributes\":{\"coordinates\":null,\"data_source\":{\"id\":\"1383\"},\"glyph\":{\"id\":\"1386\"},\"group\":null,\"hover_glyph\":null,\"muted_glyph\":{\"id\":\"1388\"},\"nonselection_glyph\":{\"id\":\"1387\"},\"selection_glyph\":{\"id\":\"1391\"},\"view\":{\"id\":\"1390\"}},\"id\":\"1389\",\"type\":\"GlyphRenderer\"},{\"attributes\":{\"children\":[{\"id\":\"1346\"},{\"id\":\"1349\"}],\"margin\":[0,0,0,0],\"name\":\"Row04699\"},\"id\":\"1345\",\"type\":\"Row\"},{\"attributes\":{\"fill_color\":{\"value\":\"#30a2da\"},\"hatch_color\":{\"value\":\"#30a2da\"},\"line_width\":{\"value\":2},\"top\":{\"field\":\"dien_tich\"},\"width\":{\"value\":0.8},\"x\":{\"field\":\"the_loai\"}},\"id\":\"1386\",\"type\":\"VBar\"},{\"attributes\":{\"fill_alpha\":{\"value\":0.1},\"fill_color\":{\"value\":\"#30a2da\"},\"hatch_alpha\":{\"value\":0.1},\"hatch_color\":{\"value\":\"#30a2da\"},\"line_alpha\":{\"value\":0.1},\"line_width\":{\"value\":2},\"top\":{\"field\":\"dien_tich\"},\"width\":{\"value\":0.8},\"x\":{\"field\":\"the_loai\"}},\"id\":\"1387\",\"type\":\"VBar\"},{\"attributes\":{\"callback\":null,\"renderers\":[{\"id\":\"1389\"}],\"tags\":[\"hv_created\"],\"tooltips\":[[\"the_loai\",\"@{the_loai}\"],[\"dien_tich\",\"@{dien_tich}\"]]},\"id\":\"1353\",\"type\":\"HoverTool\"},{\"attributes\":{},\"id\":\"1364\",\"type\":\"CategoricalTicker\"},{\"attributes\":{},\"id\":\"1393\",\"type\":\"CategoricalTickFormatter\"},{\"attributes\":{},\"id\":\"1361\",\"type\":\"LinearScale\"},{\"attributes\":{\"children\":[{\"id\":\"1344\"}],\"margin\":[0,0,0,0],\"name\":\"Row04701\"},\"id\":\"1343\",\"type\":\"Row\"},{\"attributes\":{},\"id\":\"1397\",\"type\":\"AllLabels\"},{\"attributes\":{},\"id\":\"1405\",\"type\":\"UnionRenderers\"}],\"root_ids\":[\"1343\",\"1438\"]},\"title\":\"Bokeh Application\",\"version\":\"2.4.3\"}};\n",
       "    var render_items = [{\"docid\":\"79769f22-35c1-45fa-9e16-8b1d5c8f9e39\",\"root_ids\":[\"1343\"],\"roots\":{\"1343\":\"1ce2ad15-4abe-4c5d-abee-afdd09d5083e\"}}];\n",
       "    root.Bokeh.embed.embed_items_notebook(docs_json, render_items);\n",
       "  }\n",
       "  if (root.Bokeh !== undefined && root.Bokeh.Panel !== undefined && ( root['Tabulator'] !== undefined)) {\n",
       "    embed_document(root);\n",
       "  } else {\n",
       "    var attempts = 0;\n",
       "    var timer = setInterval(function(root) {\n",
       "      if (root.Bokeh !== undefined && root.Bokeh.Panel !== undefined && (root['Tabulator'] !== undefined)) {\n",
       "        clearInterval(timer);\n",
       "        embed_document(root);\n",
       "      } else if (document.readyState == \"complete\") {\n",
       "        attempts++;\n",
       "        if (attempts > 200) {\n",
       "          clearInterval(timer);\n",
       "          console.log(\"Bokeh: ERROR: Unable to run BokehJS code because BokehJS library is missing\");\n",
       "        }\n",
       "      }\n",
       "    }, 25, root)\n",
       "  }\n",
       "})(window);</script>"
      ],
      "text/plain": [
       "<hvplot.interactive.Interactive at 0x2b279d57b80>"
      ]
     },
     "execution_count": 24,
     "metadata": {
      "application/vnd.holoviews_exec.v0+json": {
       "id": "1343"
      }
     },
     "output_type": "execute_result"
    }
   ],
   "source": [
    "dien_tich_the_loai_plot = dien_tich_the_loai.hvplot(kind='bar', x='the_loai', y='dien_tich',line_width=2, title=\"Biến đổi trung bình diện tích theo loại nhà\",rot=45)\n",
    "dien_tich_the_loai_plot"
   ]
  },
  {
   "cell_type": "code",
   "execution_count": 25,
   "id": "7be64940",
   "metadata": {},
   "outputs": [
    {
     "data": {},
     "metadata": {},
     "output_type": "display_data"
    },
    {
     "data": {
      "application/vnd.holoviews_exec.v0+json": "",
      "text/html": [
       "<div id='1489'>\n",
       "  <div class=\"bk-root\" id=\"2ae7ce5c-f300-40da-9120-ad6ae1ffecf4\" data-root-id=\"1489\"></div>\n",
       "</div>\n",
       "<script type=\"application/javascript\">(function(root) {\n",
       "  function embed_document(root) {\n",
       "    var docs_json = {\"4b0a6995-48fb-45fd-b563-19ee18044446\":{\"defs\":[{\"extends\":null,\"module\":null,\"name\":\"ReactiveHTML1\",\"overrides\":[],\"properties\":[]},{\"extends\":null,\"module\":null,\"name\":\"FlexBox1\",\"overrides\":[],\"properties\":[{\"default\":\"flex-start\",\"kind\":null,\"name\":\"align_content\"},{\"default\":\"flex-start\",\"kind\":null,\"name\":\"align_items\"},{\"default\":\"row\",\"kind\":null,\"name\":\"flex_direction\"},{\"default\":\"wrap\",\"kind\":null,\"name\":\"flex_wrap\"},{\"default\":\"flex-start\",\"kind\":null,\"name\":\"justify_content\"}]},{\"extends\":null,\"module\":null,\"name\":\"GridStack1\",\"overrides\":[],\"properties\":[{\"default\":\"warn\",\"kind\":null,\"name\":\"mode\"},{\"default\":null,\"kind\":null,\"name\":\"ncols\"},{\"default\":null,\"kind\":null,\"name\":\"nrows\"},{\"default\":true,\"kind\":null,\"name\":\"allow_resize\"},{\"default\":true,\"kind\":null,\"name\":\"allow_drag\"},{\"default\":[],\"kind\":null,\"name\":\"state\"}]},{\"extends\":null,\"module\":null,\"name\":\"click1\",\"overrides\":[],\"properties\":[{\"default\":\"\",\"kind\":null,\"name\":\"terminal_output\"},{\"default\":\"\",\"kind\":null,\"name\":\"debug_name\"},{\"default\":0,\"kind\":null,\"name\":\"clears\"}]},{\"extends\":null,\"module\":null,\"name\":\"NotificationAreaBase1\",\"overrides\":[],\"properties\":[{\"default\":\"bottom-right\",\"kind\":null,\"name\":\"position\"},{\"default\":0,\"kind\":null,\"name\":\"_clear\"}]},{\"extends\":null,\"module\":null,\"name\":\"NotificationArea1\",\"overrides\":[],\"properties\":[{\"default\":[],\"kind\":null,\"name\":\"notifications\"},{\"default\":\"bottom-right\",\"kind\":null,\"name\":\"position\"},{\"default\":0,\"kind\":null,\"name\":\"_clear\"},{\"default\":[{\"background\":\"#ffc107\",\"icon\":{\"className\":\"fas fa-exclamation-triangle\",\"color\":\"white\",\"tagName\":\"i\"},\"type\":\"warning\"},{\"background\":\"#007bff\",\"icon\":{\"className\":\"fas fa-info-circle\",\"color\":\"white\",\"tagName\":\"i\"},\"type\":\"info\"}],\"kind\":null,\"name\":\"types\"}]},{\"extends\":null,\"module\":null,\"name\":\"Notification\",\"overrides\":[],\"properties\":[{\"default\":null,\"kind\":null,\"name\":\"background\"},{\"default\":3000,\"kind\":null,\"name\":\"duration\"},{\"default\":null,\"kind\":null,\"name\":\"icon\"},{\"default\":\"\",\"kind\":null,\"name\":\"message\"},{\"default\":null,\"kind\":null,\"name\":\"notification_type\"},{\"default\":false,\"kind\":null,\"name\":\"_destroyed\"}]},{\"extends\":null,\"module\":null,\"name\":\"TemplateActions1\",\"overrides\":[],\"properties\":[{\"default\":0,\"kind\":null,\"name\":\"open_modal\"},{\"default\":0,\"kind\":null,\"name\":\"close_modal\"}]},{\"extends\":null,\"module\":null,\"name\":\"MaterialTemplateActions1\",\"overrides\":[],\"properties\":[{\"default\":0,\"kind\":null,\"name\":\"open_modal\"},{\"default\":0,\"kind\":null,\"name\":\"close_modal\"}]}],\"roots\":{\"references\":[{\"attributes\":{\"children\":[{\"id\":\"1493\"},{\"id\":\"1494\"}],\"margin\":[0,0,0,0],\"name\":\"Column05369\"},\"id\":\"1492\",\"type\":\"Column\"},{\"attributes\":{\"end\":33600,\"margin\":[5,10,5,10],\"start\":1,\"step\":5,\"title\":\"Gi\\u00e1 nh\\u1ecf nh\\u1ea5t slider\",\"value\":1},\"id\":\"1494\",\"type\":\"Slider\"},{\"attributes\":{\"margin\":[5,5,5,5],\"name\":\"HSpacer05401\",\"sizing_mode\":\"stretch_width\"},\"id\":\"1495\",\"type\":\"Spacer\"},{\"attributes\":{\"children\":[{\"id\":\"1492\"},{\"id\":\"1495\"}],\"margin\":[0,0,0,0],\"name\":\"Row05402\"},\"id\":\"1491\",\"type\":\"Row\"},{\"attributes\":{\"client_comm_id\":\"073483bdab8447ce9ddc9f9c4b639a89\",\"comm_id\":\"6708316398ed4889a9b09e9e76845c40\",\"plot_id\":\"1489\"},\"id\":\"1498\",\"type\":\"panel.models.comm_manager.CommManager\"},{\"attributes\":{\"children\":[{\"id\":\"1491\"},{\"id\":\"1496\"}],\"margin\":[0,0,0,0],\"name\":\"Column05403\"},\"id\":\"1490\",\"type\":\"Column\"},{\"attributes\":{\"margin\":[5,5,5,5],\"name\":\"DataFrame05399\",\"text\":\"&lt;table border=&quot;0&quot; class=&quot;dataframe panel-df&quot;&gt;\\n  &lt;thead&gt;\\n    &lt;tr style=&quot;text-align: right;&quot;&gt;\\n      &lt;th&gt;&lt;/th&gt;\\n      &lt;th&gt;the_loai&lt;/th&gt;\\n      &lt;th&gt;so_tang&lt;/th&gt;\\n    &lt;/tr&gt;\\n  &lt;/thead&gt;\\n  &lt;tbody&gt;\\n    &lt;tr&gt;\\n      &lt;th&gt;0&lt;/th&gt;\\n      &lt;td&gt;Apartment&lt;/td&gt;\\n      &lt;td&gt;29323&lt;/td&gt;\\n    &lt;/tr&gt;\\n    &lt;tr&gt;\\n      &lt;th&gt;1&lt;/th&gt;\\n      &lt;td&gt;Land&lt;/td&gt;\\n      &lt;td&gt;18466&lt;/td&gt;\\n    &lt;/tr&gt;\\n    &lt;tr&gt;\\n      &lt;th&gt;2&lt;/th&gt;\\n      &lt;td&gt;Road&lt;/td&gt;\\n      &lt;td&gt;46156&lt;/td&gt;\\n    &lt;/tr&gt;\\n  &lt;/tbody&gt;\\n&lt;/table&gt;\"},\"id\":\"1497\",\"type\":\"panel.models.markup.HTML\"},{\"attributes\":{\"children\":[{\"id\":\"1497\"}],\"margin\":[0,0,0,0],\"name\":\"Row05374\"},\"id\":\"1496\",\"type\":\"Row\"},{\"attributes\":{\"children\":[{\"id\":\"1490\"}],\"margin\":[0,0,0,0],\"name\":\"Row05404\"},\"id\":\"1489\",\"type\":\"Row\"},{\"attributes\":{\"end\":33600,\"margin\":[5,10,5,10],\"start\":1,\"step\":5,\"title\":\"Gi\\u00e1 nh\\u1ecf nh\\u1ea5t slider\",\"value\":33600},\"id\":\"1493\",\"type\":\"Slider\"}],\"root_ids\":[\"1489\",\"1498\"]},\"title\":\"Bokeh Application\",\"version\":\"2.4.3\"}};\n",
       "    var render_items = [{\"docid\":\"4b0a6995-48fb-45fd-b563-19ee18044446\",\"root_ids\":[\"1489\"],\"roots\":{\"1489\":\"2ae7ce5c-f300-40da-9120-ad6ae1ffecf4\"}}];\n",
       "    root.Bokeh.embed.embed_items_notebook(docs_json, render_items);\n",
       "  }\n",
       "  if (root.Bokeh !== undefined && root.Bokeh.Panel !== undefined && ( root['Tabulator'] !== undefined)) {\n",
       "    embed_document(root);\n",
       "  } else {\n",
       "    var attempts = 0;\n",
       "    var timer = setInterval(function(root) {\n",
       "      if (root.Bokeh !== undefined && root.Bokeh.Panel !== undefined && (root['Tabulator'] !== undefined)) {\n",
       "        clearInterval(timer);\n",
       "        embed_document(root);\n",
       "      } else if (document.readyState == \"complete\") {\n",
       "        attempts++;\n",
       "        if (attempts > 200) {\n",
       "          clearInterval(timer);\n",
       "          console.log(\"Bokeh: ERROR: Unable to run BokehJS code because BokehJS library is missing\");\n",
       "        }\n",
       "      }\n",
       "    }, 25, root)\n",
       "  }\n",
       "})(window);</script>"
      ],
      "text/plain": [
       "<hvplot.interactive.Interactive at 0x2b279da95a0>"
      ]
     },
     "execution_count": 25,
     "metadata": {
      "application/vnd.holoviews_exec.v0+json": {
       "id": "1489"
      }
     },
     "output_type": "execute_result"
    }
   ],
   "source": [
    "so_tang_the_loai = ( \n",
    "    idf[(idf.gia <= gia_lon_nhat_slider) & \n",
    "        (idf.gia >= gia_nho_nhat_slider)]\n",
    "    .groupby(['the_loai'])['so_tang'].count()\n",
    "    .to_frame()\n",
    "    .reset_index()  \n",
    "    .reset_index(drop=True)\n",
    ")\n",
    "so_tang_the_loai"
   ]
  },
  {
   "cell_type": "code",
   "execution_count": 26,
   "id": "3aea0889",
   "metadata": {},
   "outputs": [
    {
     "data": {},
     "metadata": {},
     "output_type": "display_data"
    },
    {
     "data": {},
     "metadata": {},
     "output_type": "display_data"
    },
    {
     "data": {
      "application/vnd.holoviews_exec.v0+json": "",
      "text/html": [
       "<div id='1499'>\n",
       "  <div class=\"bk-root\" id=\"bec398f2-e542-496b-af96-4496b476ad29\" data-root-id=\"1499\"></div>\n",
       "</div>\n",
       "<script type=\"application/javascript\">(function(root) {\n",
       "  function embed_document(root) {\n",
       "    var docs_json = {\"e0d5c94c-84b2-4e60-9866-95ad37059792\":{\"defs\":[{\"extends\":null,\"module\":null,\"name\":\"ReactiveHTML1\",\"overrides\":[],\"properties\":[]},{\"extends\":null,\"module\":null,\"name\":\"FlexBox1\",\"overrides\":[],\"properties\":[{\"default\":\"flex-start\",\"kind\":null,\"name\":\"align_content\"},{\"default\":\"flex-start\",\"kind\":null,\"name\":\"align_items\"},{\"default\":\"row\",\"kind\":null,\"name\":\"flex_direction\"},{\"default\":\"wrap\",\"kind\":null,\"name\":\"flex_wrap\"},{\"default\":\"flex-start\",\"kind\":null,\"name\":\"justify_content\"}]},{\"extends\":null,\"module\":null,\"name\":\"GridStack1\",\"overrides\":[],\"properties\":[{\"default\":\"warn\",\"kind\":null,\"name\":\"mode\"},{\"default\":null,\"kind\":null,\"name\":\"ncols\"},{\"default\":null,\"kind\":null,\"name\":\"nrows\"},{\"default\":true,\"kind\":null,\"name\":\"allow_resize\"},{\"default\":true,\"kind\":null,\"name\":\"allow_drag\"},{\"default\":[],\"kind\":null,\"name\":\"state\"}]},{\"extends\":null,\"module\":null,\"name\":\"click1\",\"overrides\":[],\"properties\":[{\"default\":\"\",\"kind\":null,\"name\":\"terminal_output\"},{\"default\":\"\",\"kind\":null,\"name\":\"debug_name\"},{\"default\":0,\"kind\":null,\"name\":\"clears\"}]},{\"extends\":null,\"module\":null,\"name\":\"NotificationAreaBase1\",\"overrides\":[],\"properties\":[{\"default\":\"bottom-right\",\"kind\":null,\"name\":\"position\"},{\"default\":0,\"kind\":null,\"name\":\"_clear\"}]},{\"extends\":null,\"module\":null,\"name\":\"NotificationArea1\",\"overrides\":[],\"properties\":[{\"default\":[],\"kind\":null,\"name\":\"notifications\"},{\"default\":\"bottom-right\",\"kind\":null,\"name\":\"position\"},{\"default\":0,\"kind\":null,\"name\":\"_clear\"},{\"default\":[{\"background\":\"#ffc107\",\"icon\":{\"className\":\"fas fa-exclamation-triangle\",\"color\":\"white\",\"tagName\":\"i\"},\"type\":\"warning\"},{\"background\":\"#007bff\",\"icon\":{\"className\":\"fas fa-info-circle\",\"color\":\"white\",\"tagName\":\"i\"},\"type\":\"info\"}],\"kind\":null,\"name\":\"types\"}]},{\"extends\":null,\"module\":null,\"name\":\"Notification\",\"overrides\":[],\"properties\":[{\"default\":null,\"kind\":null,\"name\":\"background\"},{\"default\":3000,\"kind\":null,\"name\":\"duration\"},{\"default\":null,\"kind\":null,\"name\":\"icon\"},{\"default\":\"\",\"kind\":null,\"name\":\"message\"},{\"default\":null,\"kind\":null,\"name\":\"notification_type\"},{\"default\":false,\"kind\":null,\"name\":\"_destroyed\"}]},{\"extends\":null,\"module\":null,\"name\":\"TemplateActions1\",\"overrides\":[],\"properties\":[{\"default\":0,\"kind\":null,\"name\":\"open_modal\"},{\"default\":0,\"kind\":null,\"name\":\"close_modal\"}]},{\"extends\":null,\"module\":null,\"name\":\"MaterialTemplateActions1\",\"overrides\":[],\"properties\":[{\"default\":0,\"kind\":null,\"name\":\"open_modal\"},{\"default\":0,\"kind\":null,\"name\":\"close_modal\"}]}],\"roots\":{\"references\":[{\"attributes\":{\"end\":48925.0,\"reset_end\":48925.0,\"reset_start\":0.0,\"tags\":[[[\"so_tang\",\"so_tang\",null]]]},\"id\":\"1508\",\"type\":\"Range1d\"},{\"attributes\":{},\"id\":\"1553\",\"type\":\"AllLabels\"},{\"attributes\":{\"children\":[{\"id\":\"1503\"},{\"id\":\"1504\"}],\"margin\":[0,0,0,0],\"name\":\"Column05585\"},\"id\":\"1502\",\"type\":\"Column\"},{\"attributes\":{},\"id\":\"1561\",\"type\":\"UnionRenderers\"},{\"attributes\":{\"axis_label\":\"the_loai\",\"coordinates\":null,\"formatter\":{\"id\":\"1549\"},\"group\":null,\"major_label_orientation\":0.7853981633974483,\"major_label_policy\":{\"id\":\"1550\"},\"ticker\":{\"id\":\"1520\"}},\"id\":\"1519\",\"type\":\"CategoricalAxis\"},{\"attributes\":{\"axis_label\":\"so_tang\",\"coordinates\":null,\"formatter\":{\"id\":\"1552\"},\"group\":null,\"major_label_policy\":{\"id\":\"1553\"},\"ticker\":{\"id\":\"1523\"}},\"id\":\"1522\",\"type\":\"LinearAxis\"},{\"attributes\":{\"fill_color\":{\"value\":\"#30a2da\"},\"hatch_color\":{\"value\":\"#30a2da\"},\"line_width\":{\"value\":2},\"top\":{\"field\":\"so_tang\"},\"width\":{\"value\":0.8},\"x\":{\"field\":\"the_loai\"}},\"id\":\"1542\",\"type\":\"VBar\"},{\"attributes\":{},\"id\":\"1528\",\"type\":\"WheelZoomTool\"},{\"attributes\":{\"children\":[{\"id\":\"1500\"}],\"margin\":[0,0,0,0],\"name\":\"Row05753\"},\"id\":\"1499\",\"type\":\"Row\"},{\"attributes\":{},\"id\":\"1527\",\"type\":\"PanTool\"},{\"attributes\":{\"axis\":{\"id\":\"1522\"},\"coordinates\":null,\"dimension\":1,\"grid_line_color\":null,\"group\":null,\"ticker\":null},\"id\":\"1525\",\"type\":\"Grid\"},{\"attributes\":{},\"id\":\"1523\",\"type\":\"BasicTicker\"},{\"attributes\":{\"client_comm_id\":\"f34030bd48144d9c9dfde6ffcfa9eca6\",\"comm_id\":\"3a2cc19c39e146d58a29f2370ff3b0de\",\"plot_id\":\"1499\"},\"id\":\"1594\",\"type\":\"panel.models.comm_manager.CommManager\"},{\"attributes\":{},\"id\":\"1526\",\"type\":\"SaveTool\"},{\"attributes\":{\"overlay\":{\"id\":\"1531\"}},\"id\":\"1529\",\"type\":\"BoxZoomTool\"},{\"attributes\":{\"data\":{\"so_tang\":[29323,18466,46156],\"the_loai\":[\"Apartment\",\"Land\",\"Road\"]},\"selected\":{\"id\":\"1540\"},\"selection_policy\":{\"id\":\"1561\"}},\"id\":\"1539\",\"type\":\"ColumnDataSource\"},{\"attributes\":{},\"id\":\"1530\",\"type\":\"ResetTool\"},{\"attributes\":{},\"id\":\"1552\",\"type\":\"BasicTickFormatter\"},{\"attributes\":{\"axis\":{\"id\":\"1519\"},\"coordinates\":null,\"grid_line_color\":null,\"group\":null,\"ticker\":null},\"id\":\"1521\",\"type\":\"Grid\"},{\"attributes\":{\"bottom_units\":\"screen\",\"coordinates\":null,\"fill_alpha\":0.5,\"fill_color\":\"lightgrey\",\"group\":null,\"left_units\":\"screen\",\"level\":\"overlay\",\"line_alpha\":1.0,\"line_color\":\"black\",\"line_dash\":[4,4],\"line_width\":2,\"right_units\":\"screen\",\"syncable\":false,\"top_units\":\"screen\"},\"id\":\"1531\",\"type\":\"BoxAnnotation\"},{\"attributes\":{},\"id\":\"1515\",\"type\":\"CategoricalScale\"},{\"attributes\":{\"margin\":[5,5,5,5],\"name\":\"HSpacer05750\",\"sizing_mode\":\"stretch_width\"},\"id\":\"1505\",\"type\":\"Spacer\"},{\"attributes\":{},\"id\":\"1550\",\"type\":\"AllLabels\"},{\"attributes\":{\"children\":[{\"id\":\"1510\"}],\"margin\":[0,0,0,0],\"name\":\"Row05590\"},\"id\":\"1506\",\"type\":\"Row\"},{\"attributes\":{\"end\":33600,\"margin\":[5,10,5,10],\"start\":1,\"step\":5,\"title\":\"Gi\\u00e1 nh\\u1ecf nh\\u1ea5t slider\",\"value\":1},\"id\":\"1504\",\"type\":\"Slider\"},{\"attributes\":{\"coordinates\":null,\"group\":null,\"text\":\"Bi\\u1ebfn \\u0111\\u1ed5i s\\u1ed1 l\\u01b0\\u1ee3ng t\\u1ea7ng theo lo\\u1ea1i nh\\u00e0\",\"text_color\":\"black\",\"text_font_size\":\"12pt\"},\"id\":\"1511\",\"type\":\"Title\"},{\"attributes\":{\"tools\":[{\"id\":\"1509\"},{\"id\":\"1526\"},{\"id\":\"1527\"},{\"id\":\"1528\"},{\"id\":\"1529\"},{\"id\":\"1530\"}]},\"id\":\"1532\",\"type\":\"Toolbar\"},{\"attributes\":{\"fill_alpha\":{\"value\":0.1},\"fill_color\":{\"value\":\"#30a2da\"},\"hatch_alpha\":{\"value\":0.1},\"hatch_color\":{\"value\":\"#30a2da\"},\"line_alpha\":{\"value\":0.1},\"line_width\":{\"value\":2},\"top\":{\"field\":\"so_tang\"},\"width\":{\"value\":0.8},\"x\":{\"field\":\"the_loai\"}},\"id\":\"1543\",\"type\":\"VBar\"},{\"attributes\":{\"end\":33600,\"margin\":[5,10,5,10],\"start\":1,\"step\":5,\"title\":\"Gi\\u00e1 nh\\u1ecf nh\\u1ea5t slider\",\"value\":33600},\"id\":\"1503\",\"type\":\"Slider\"},{\"attributes\":{\"factors\":[\"Apartment\",\"Land\",\"Road\"],\"tags\":[[[\"the_loai\",\"the_loai\",null]]]},\"id\":\"1507\",\"type\":\"FactorRange\"},{\"attributes\":{},\"id\":\"1540\",\"type\":\"Selection\"},{\"attributes\":{\"bottom\":{\"value\":0},\"fill_alpha\":{\"value\":1.0},\"fill_color\":{\"value\":\"#30a2da\"},\"hatch_alpha\":{\"value\":1.0},\"hatch_color\":{\"value\":\"#30a2da\"},\"hatch_scale\":{\"value\":12.0},\"hatch_weight\":{\"value\":1.0},\"line_alpha\":{\"value\":1.0},\"line_cap\":{\"value\":\"butt\"},\"line_color\":{\"value\":\"black\"},\"line_dash\":{\"value\":[]},\"line_dash_offset\":{\"value\":0},\"line_join\":{\"value\":\"bevel\"},\"line_width\":{\"value\":2},\"top\":{\"field\":\"so_tang\"},\"width\":{\"value\":0.8},\"x\":{\"field\":\"the_loai\"}},\"id\":\"1547\",\"type\":\"VBar\"},{\"attributes\":{\"coordinates\":null,\"data_source\":{\"id\":\"1539\"},\"glyph\":{\"id\":\"1542\"},\"group\":null,\"hover_glyph\":null,\"muted_glyph\":{\"id\":\"1544\"},\"nonselection_glyph\":{\"id\":\"1543\"},\"selection_glyph\":{\"id\":\"1547\"},\"view\":{\"id\":\"1546\"}},\"id\":\"1545\",\"type\":\"GlyphRenderer\"},{\"attributes\":{\"children\":[{\"id\":\"1501\"},{\"id\":\"1506\"}],\"margin\":[0,0,0,0],\"name\":\"Column05752\"},\"id\":\"1500\",\"type\":\"Column\"},{\"attributes\":{\"source\":{\"id\":\"1539\"}},\"id\":\"1546\",\"type\":\"CDSView\"},{\"attributes\":{\"children\":[{\"id\":\"1502\"},{\"id\":\"1505\"}],\"margin\":[0,0,0,0],\"name\":\"Row05751\"},\"id\":\"1501\",\"type\":\"Row\"},{\"attributes\":{\"below\":[{\"id\":\"1519\"}],\"center\":[{\"id\":\"1521\"},{\"id\":\"1525\"}],\"height\":300,\"left\":[{\"id\":\"1522\"}],\"margin\":[5,5,5,5],\"min_border_bottom\":10,\"min_border_left\":10,\"min_border_right\":10,\"min_border_top\":10,\"renderers\":[{\"id\":\"1545\"}],\"sizing_mode\":\"fixed\",\"title\":{\"id\":\"1511\"},\"toolbar\":{\"id\":\"1532\"},\"width\":700,\"x_range\":{\"id\":\"1507\"},\"x_scale\":{\"id\":\"1515\"},\"y_range\":{\"id\":\"1508\"},\"y_scale\":{\"id\":\"1517\"}},\"id\":\"1510\",\"subtype\":\"Figure\",\"type\":\"Plot\"},{\"attributes\":{\"fill_alpha\":{\"value\":0.2},\"fill_color\":{\"value\":\"#30a2da\"},\"hatch_alpha\":{\"value\":0.2},\"hatch_color\":{\"value\":\"#30a2da\"},\"line_alpha\":{\"value\":0.2},\"line_width\":{\"value\":2},\"top\":{\"field\":\"so_tang\"},\"width\":{\"value\":0.8},\"x\":{\"field\":\"the_loai\"}},\"id\":\"1544\",\"type\":\"VBar\"},{\"attributes\":{\"callback\":null,\"renderers\":[{\"id\":\"1545\"}],\"tags\":[\"hv_created\"],\"tooltips\":[[\"the_loai\",\"@{the_loai}\"],[\"so_tang\",\"@{so_tang}\"]]},\"id\":\"1509\",\"type\":\"HoverTool\"},{\"attributes\":{},\"id\":\"1520\",\"type\":\"CategoricalTicker\"},{\"attributes\":{},\"id\":\"1517\",\"type\":\"LinearScale\"},{\"attributes\":{},\"id\":\"1549\",\"type\":\"CategoricalTickFormatter\"}],\"root_ids\":[\"1499\",\"1594\"]},\"title\":\"Bokeh Application\",\"version\":\"2.4.3\"}};\n",
       "    var render_items = [{\"docid\":\"e0d5c94c-84b2-4e60-9866-95ad37059792\",\"root_ids\":[\"1499\"],\"roots\":{\"1499\":\"bec398f2-e542-496b-af96-4496b476ad29\"}}];\n",
       "    root.Bokeh.embed.embed_items_notebook(docs_json, render_items);\n",
       "  }\n",
       "  if (root.Bokeh !== undefined && root.Bokeh.Panel !== undefined && ( root['Tabulator'] !== undefined)) {\n",
       "    embed_document(root);\n",
       "  } else {\n",
       "    var attempts = 0;\n",
       "    var timer = setInterval(function(root) {\n",
       "      if (root.Bokeh !== undefined && root.Bokeh.Panel !== undefined && (root['Tabulator'] !== undefined)) {\n",
       "        clearInterval(timer);\n",
       "        embed_document(root);\n",
       "      } else if (document.readyState == \"complete\") {\n",
       "        attempts++;\n",
       "        if (attempts > 200) {\n",
       "          clearInterval(timer);\n",
       "          console.log(\"Bokeh: ERROR: Unable to run BokehJS code because BokehJS library is missing\");\n",
       "        }\n",
       "      }\n",
       "    }, 25, root)\n",
       "  }\n",
       "})(window);</script>"
      ],
      "text/plain": [
       "<hvplot.interactive.Interactive at 0x2b279df4190>"
      ]
     },
     "execution_count": 26,
     "metadata": {
      "application/vnd.holoviews_exec.v0+json": {
       "id": "1499"
      }
     },
     "output_type": "execute_result"
    }
   ],
   "source": [
    "so_tang_the_loai_plot = so_tang_the_loai.hvplot(kind='bar', x='the_loai', y='so_tang',line_width=2, title=\"Biến đổi số lượng tầng theo loại nhà\",rot=45)\n",
    "so_tang_the_loai_plot"
   ]
  },
  {
   "cell_type": "code",
   "execution_count": 44,
   "id": "924f93e8",
   "metadata": {},
   "outputs": [
    {
     "data": {},
     "metadata": {},
     "output_type": "display_data"
    },
    {
     "data": {
      "application/vnd.holoviews_exec.v0+json": "",
      "text/html": [
       "<div id='15047'>\n",
       "  <div class=\"bk-root\" id=\"58f923eb-bc86-46a2-b4c8-7fc37f3ee1fb\" data-root-id=\"15047\"></div>\n",
       "</div>\n",
       "<script type=\"application/javascript\">(function(root) {\n",
       "  function embed_document(root) {\n",
       "    var docs_json = {\"a45c0eaa-3773-4e6c-8c3f-39f5b9c4c741\":{\"defs\":[{\"extends\":null,\"module\":null,\"name\":\"ReactiveHTML1\",\"overrides\":[],\"properties\":[]},{\"extends\":null,\"module\":null,\"name\":\"FlexBox1\",\"overrides\":[],\"properties\":[{\"default\":\"flex-start\",\"kind\":null,\"name\":\"align_content\"},{\"default\":\"flex-start\",\"kind\":null,\"name\":\"align_items\"},{\"default\":\"row\",\"kind\":null,\"name\":\"flex_direction\"},{\"default\":\"wrap\",\"kind\":null,\"name\":\"flex_wrap\"},{\"default\":\"flex-start\",\"kind\":null,\"name\":\"justify_content\"}]},{\"extends\":null,\"module\":null,\"name\":\"GridStack1\",\"overrides\":[],\"properties\":[{\"default\":\"warn\",\"kind\":null,\"name\":\"mode\"},{\"default\":null,\"kind\":null,\"name\":\"ncols\"},{\"default\":null,\"kind\":null,\"name\":\"nrows\"},{\"default\":true,\"kind\":null,\"name\":\"allow_resize\"},{\"default\":true,\"kind\":null,\"name\":\"allow_drag\"},{\"default\":[],\"kind\":null,\"name\":\"state\"}]},{\"extends\":null,\"module\":null,\"name\":\"click1\",\"overrides\":[],\"properties\":[{\"default\":\"\",\"kind\":null,\"name\":\"terminal_output\"},{\"default\":\"\",\"kind\":null,\"name\":\"debug_name\"},{\"default\":0,\"kind\":null,\"name\":\"clears\"}]},{\"extends\":null,\"module\":null,\"name\":\"NotificationAreaBase1\",\"overrides\":[],\"properties\":[{\"default\":\"bottom-right\",\"kind\":null,\"name\":\"position\"},{\"default\":0,\"kind\":null,\"name\":\"_clear\"}]},{\"extends\":null,\"module\":null,\"name\":\"NotificationArea1\",\"overrides\":[],\"properties\":[{\"default\":[],\"kind\":null,\"name\":\"notifications\"},{\"default\":\"bottom-right\",\"kind\":null,\"name\":\"position\"},{\"default\":0,\"kind\":null,\"name\":\"_clear\"},{\"default\":[{\"background\":\"#ffc107\",\"icon\":{\"className\":\"fas fa-exclamation-triangle\",\"color\":\"white\",\"tagName\":\"i\"},\"type\":\"warning\"},{\"background\":\"#007bff\",\"icon\":{\"className\":\"fas fa-info-circle\",\"color\":\"white\",\"tagName\":\"i\"},\"type\":\"info\"}],\"kind\":null,\"name\":\"types\"}]},{\"extends\":null,\"module\":null,\"name\":\"Notification\",\"overrides\":[],\"properties\":[{\"default\":null,\"kind\":null,\"name\":\"background\"},{\"default\":3000,\"kind\":null,\"name\":\"duration\"},{\"default\":null,\"kind\":null,\"name\":\"icon\"},{\"default\":\"\",\"kind\":null,\"name\":\"message\"},{\"default\":null,\"kind\":null,\"name\":\"notification_type\"},{\"default\":false,\"kind\":null,\"name\":\"_destroyed\"}]},{\"extends\":null,\"module\":null,\"name\":\"TemplateActions1\",\"overrides\":[],\"properties\":[{\"default\":0,\"kind\":null,\"name\":\"open_modal\"},{\"default\":0,\"kind\":null,\"name\":\"close_modal\"}]},{\"extends\":null,\"module\":null,\"name\":\"MaterialTemplateActions1\",\"overrides\":[],\"properties\":[{\"default\":0,\"kind\":null,\"name\":\"open_modal\"},{\"default\":0,\"kind\":null,\"name\":\"close_modal\"}]}],\"roots\":{\"references\":[{\"attributes\":{\"client_comm_id\":\"fcae1a9b72374ac491cee67cc2403ae6\",\"comm_id\":\"063c686e07a4497b957155c2570311d1\",\"plot_id\":\"15047\"},\"id\":\"15057\",\"type\":\"panel.models.comm_manager.CommManager\"},{\"attributes\":{\"children\":[{\"id\":\"15050\"},{\"id\":\"15054\"}],\"margin\":[0,0,0,0],\"name\":\"Row30469\"},\"id\":\"15049\",\"type\":\"Row\"},{\"attributes\":{\"margin\":[5,5,5,5],\"name\":\"DataFrame30466\",\"text\":\"&lt;table border=&quot;0&quot; class=&quot;dataframe panel-df&quot;&gt;\\n  &lt;thead&gt;\\n    &lt;tr style=&quot;text-align: right;&quot;&gt;\\n      &lt;th&gt;&lt;/th&gt;\\n      &lt;th&gt;ten_quan&lt;/th&gt;\\n      &lt;th&gt;gia&lt;/th&gt;\\n    &lt;/tr&gt;\\n  &lt;/thead&gt;\\n  &lt;tbody&gt;\\n    &lt;tr&gt;\\n      &lt;th&gt;0&lt;/th&gt;\\n      &lt;td&gt;B\\u1eafc T\\u1eeb Li\\u00eam&lt;/td&gt;\\n      &lt;td&gt;7900.000000&lt;/td&gt;\\n    &lt;/tr&gt;\\n    &lt;tr&gt;\\n      &lt;th&gt;1&lt;/th&gt;\\n      &lt;td&gt;Huy\\u1ec7n Ba V\\u00ec&lt;/td&gt;\\n      &lt;td&gt;1480.000000&lt;/td&gt;\\n    &lt;/tr&gt;\\n    &lt;tr&gt;\\n      &lt;th&gt;2&lt;/th&gt;\\n      &lt;td&gt;Huy\\u1ec7n Ch\\u01b0\\u01a1ng M\\u1ef9&lt;/td&gt;\\n      &lt;td&gt;745.285714&lt;/td&gt;\\n    &lt;/tr&gt;\\n    &lt;tr&gt;\\n      &lt;th&gt;3&lt;/th&gt;\\n      &lt;td&gt;Huy\\u1ec7n Gia L\\u00e2m&lt;/td&gt;\\n      &lt;td&gt;3545.416667&lt;/td&gt;\\n    &lt;/tr&gt;\\n    &lt;tr&gt;\\n      &lt;th&gt;4&lt;/th&gt;\\n      &lt;td&gt;Huy\\u1ec7n Ho\\u00e0i \\u0110\\u1ee9c&lt;/td&gt;\\n      &lt;td&gt;3751.750000&lt;/td&gt;\\n    &lt;/tr&gt;\\n    &lt;tr&gt;\\n      &lt;th&gt;5&lt;/th&gt;\\n      &lt;td&gt;Huy\\u1ec7n M\\u00ea Linh&lt;/td&gt;\\n      &lt;td&gt;3222.500000&lt;/td&gt;\\n    &lt;/tr&gt;\\n    &lt;tr&gt;\\n      &lt;th&gt;6&lt;/th&gt;\\n      &lt;td&gt;Huy\\u1ec7n M\\u1ef9 \\u0110\\u1ee9c&lt;/td&gt;\\n      &lt;td&gt;2000.000000&lt;/td&gt;\\n    &lt;/tr&gt;\\n    &lt;tr&gt;\\n      &lt;th&gt;7&lt;/th&gt;\\n      &lt;td&gt;Huy\\u1ec7n Ph\\u00fac Th\\u1ecd&lt;/td&gt;\\n      &lt;td&gt;2983.857143&lt;/td&gt;\\n    &lt;/tr&gt;\\n    &lt;tr&gt;\\n      &lt;th&gt;8&lt;/th&gt;\\n      &lt;td&gt;Huy\\u1ec7n Qu\\u1ed1c Oai&lt;/td&gt;\\n      &lt;td&gt;1630.000000&lt;/td&gt;\\n    &lt;/tr&gt;\\n    &lt;tr&gt;\\n      &lt;th&gt;9&lt;/th&gt;\\n      &lt;td&gt;Huy\\u1ec7n S\\u00f3c S\\u01a1n&lt;/td&gt;\\n      &lt;td&gt;1244.500000&lt;/td&gt;\\n    &lt;/tr&gt;\\n    &lt;tr&gt;\\n      &lt;th&gt;10&lt;/th&gt;\\n      &lt;td&gt;Huy\\u1ec7n Thanh Oai&lt;/td&gt;\\n      &lt;td&gt;877.000000&lt;/td&gt;\\n    &lt;/tr&gt;\\n    &lt;tr&gt;\\n      &lt;th&gt;11&lt;/th&gt;\\n      &lt;td&gt;Huy\\u1ec7n Thanh Tr\\u00ec&lt;/td&gt;\\n      &lt;td&gt;3821.250000&lt;/td&gt;\\n    &lt;/tr&gt;\\n    &lt;tr&gt;\\n      &lt;th&gt;12&lt;/th&gt;\\n      &lt;td&gt;Huy\\u1ec7n Th\\u01b0\\u1eddng T\\u00edn&lt;/td&gt;\\n      &lt;td&gt;580.000000&lt;/td&gt;\\n    &lt;/tr&gt;\\n    &lt;tr&gt;\\n      &lt;th&gt;13&lt;/th&gt;\\n      &lt;td&gt;Huy\\u1ec7n Th\\u1ea1ch Th\\u1ea5t&lt;/td&gt;\\n      &lt;td&gt;1589.647059&lt;/td&gt;\\n    &lt;/tr&gt;\\n    &lt;tr&gt;\\n      &lt;th&gt;14&lt;/th&gt;\\n      &lt;td&gt;Huy\\u1ec7n \\u0110an Ph\\u01b0\\u1ee3ng&lt;/td&gt;\\n      &lt;td&gt;2538.666667&lt;/td&gt;\\n    &lt;/tr&gt;\\n    &lt;tr&gt;\\n      &lt;th&gt;15&lt;/th&gt;\\n      &lt;td&gt;Huy\\u1ec7n \\u0110\\u00f4ng Anh&lt;/td&gt;\\n      &lt;td&gt;2534.444444&lt;/td&gt;\\n    &lt;/tr&gt;\\n    &lt;tr&gt;\\n      &lt;th&gt;16&lt;/th&gt;\\n      &lt;td&gt;Qu\\u1eadn Ba \\u0110\\u00ecnh&lt;/td&gt;\\n      &lt;td&gt;18480.392157&lt;/td&gt;\\n    &lt;/tr&gt;\\n    &lt;tr&gt;\\n      &lt;th&gt;17&lt;/th&gt;\\n      &lt;td&gt;Qu\\u1eadn B\\u1eafc T\\u1eeb Li\\u00eam&lt;/td&gt;\\n      &lt;td&gt;5234.660000&lt;/td&gt;\\n    &lt;/tr&gt;\\n    &lt;tr&gt;\\n      &lt;th&gt;18&lt;/th&gt;\\n      &lt;td&gt;Qu\\u1eadn C\\u1ea7u Gi\\u1ea5y&lt;/td&gt;\\n      &lt;td&gt;8476.589744&lt;/td&gt;\\n    &lt;/tr&gt;\\n    &lt;tr&gt;\\n      &lt;th&gt;19&lt;/th&gt;\\n      &lt;td&gt;Qu\\u1eadn Hai B\\u00e0 Tr\\u01b0ng&lt;/td&gt;\\n      &lt;td&gt;10061.282051&lt;/td&gt;\\n    &lt;/tr&gt;\\n    &lt;tr&gt;\\n      &lt;th&gt;20&lt;/th&gt;\\n      &lt;td&gt;Qu\\u1eadn Ho\\u00e0n Ki\\u1ebfm&lt;/td&gt;\\n      &lt;td&gt;13905.882353&lt;/td&gt;\\n    &lt;/tr&gt;\\n    &lt;tr&gt;\\n      &lt;th&gt;21&lt;/th&gt;\\n      &lt;td&gt;Qu\\u1eadn Ho\\u00e0ng Mai&lt;/td&gt;\\n      &lt;td&gt;6000.295082&lt;/td&gt;\\n    &lt;/tr&gt;\\n    &lt;tr&gt;\\n      &lt;th&gt;22&lt;/th&gt;\\n      &lt;td&gt;Qu\\u1eadn H\\u00e0 \\u0110\\u00f4ng&lt;/td&gt;\\n      &lt;td&gt;4555.833333&lt;/td&gt;\\n    &lt;/tr&gt;\\n    &lt;tr&gt;\\n      &lt;th&gt;23&lt;/th&gt;\\n      &lt;td&gt;Qu\\u1eadn Long Bi\\u00ean&lt;/td&gt;\\n      &lt;td&gt;6341.346154&lt;/td&gt;\\n    &lt;/tr&gt;\\n    &lt;tr&gt;\\n      &lt;th&gt;24&lt;/th&gt;\\n      &lt;td&gt;Qu\\u1eadn Nam T\\u1eeb Li\\u00eam&lt;/td&gt;\\n      &lt;td&gt;6006.540541&lt;/td&gt;\\n    &lt;/tr&gt;\\n    &lt;tr&gt;\\n      &lt;th&gt;25&lt;/th&gt;\\n      &lt;td&gt;Qu\\u1eadn Thanh Xu\\u00e2n&lt;/td&gt;\\n      &lt;td&gt;8696.785714&lt;/td&gt;\\n    &lt;/tr&gt;\\n    &lt;tr&gt;\\n      &lt;th&gt;26&lt;/th&gt;\\n      &lt;td&gt;Qu\\u1eadn T\\u00e2y H\\u1ed3&lt;/td&gt;\\n      &lt;td&gt;9583.525424&lt;/td&gt;\\n    &lt;/tr&gt;\\n    &lt;tr&gt;\\n      &lt;th&gt;27&lt;/th&gt;\\n      &lt;td&gt;Qu\\u1eadn \\u0110\\u1ed1ng \\u0110a&lt;/td&gt;\\n      &lt;td&gt;10414.302632&lt;/td&gt;\\n    &lt;/tr&gt;\\n    &lt;tr&gt;\\n      &lt;th&gt;28&lt;/th&gt;\\n      &lt;td&gt;Th\\u1ecb x\\u00e3 S\\u01a1n T\\u00e2y&lt;/td&gt;\\n      &lt;td&gt;3257.380952&lt;/td&gt;\\n    &lt;/tr&gt;\\n  &lt;/tbody&gt;\\n&lt;/table&gt;\"},\"id\":\"15056\",\"type\":\"panel.models.markup.HTML\"},{\"attributes\":{\"margin\":[5,5,5,5],\"name\":\"HSpacer30468\",\"sizing_mode\":\"stretch_width\"},\"id\":\"15054\",\"type\":\"Spacer\"},{\"attributes\":{\"margin\":[5,10,5,10],\"options\":[\"kh\\u00f4ng\",\"Ng\\u00f5 4 \\u00f4 t\\u00f4 tr\\u1edf l\\u00ean\",\"Ng\\u00f5 2 \\u00f4 t\\u00f4 tr\\u00e1nh\",\"Ng\\u00f5 1 \\u00f4 t\\u00f4\",\"Ng\\u00f5 ng\\u00e1ch\",\"Ng\\u00f5 3 \\u00f4 t\\u00f4 tr\\u00e1nh\",\"Ng\\u00f5 4 \\u00f4 t\\u00f4 tr\\u00e1nh\",\"M\\u1eb7t ph\\u1ed1 - M\\u1eb7t \\u0111\\u01b0\\u1eddng\"],\"value\":\"Ng\\u00f5 2 \\u00f4 t\\u00f4 tr\\u00e1nh\"},\"id\":\"15053\",\"type\":\"panel.models.widgets.CustomSelect\"},{\"attributes\":{\"children\":[{\"id\":\"15048\"}],\"margin\":[0,0,0,0],\"name\":\"Row30471\"},\"id\":\"15047\",\"type\":\"Row\"},{\"attributes\":{\"end\":33600,\"margin\":[5,10,5,10],\"start\":1,\"step\":5,\"title\":\"Gi\\u00e1 nh\\u1ecf nh\\u1ea5t slider\",\"value\":1},\"id\":\"15052\",\"type\":\"Slider\"},{\"attributes\":{\"children\":[{\"id\":\"15049\"},{\"id\":\"15055\"}],\"margin\":[0,0,0,0],\"name\":\"Column30470\"},\"id\":\"15048\",\"type\":\"Column\"},{\"attributes\":{\"children\":[{\"id\":\"15051\"},{\"id\":\"15052\"},{\"id\":\"15053\"}],\"margin\":[0,0,0,0],\"name\":\"Column30433\"},\"id\":\"15050\",\"type\":\"Column\"},{\"attributes\":{\"children\":[{\"id\":\"15056\"}],\"margin\":[0,0,0,0],\"name\":\"Row30438\"},\"id\":\"15055\",\"type\":\"Row\"},{\"attributes\":{\"end\":33600,\"margin\":[5,10,5,10],\"start\":1,\"step\":5,\"title\":\"Gi\\u00e1 nh\\u1ecf nh\\u1ea5t slider\",\"value\":33600},\"id\":\"15051\",\"type\":\"Slider\"}],\"root_ids\":[\"15047\",\"15057\"]},\"title\":\"Bokeh Application\",\"version\":\"2.4.3\"}};\n",
       "    var render_items = [{\"docid\":\"a45c0eaa-3773-4e6c-8c3f-39f5b9c4c741\",\"root_ids\":[\"15047\"],\"roots\":{\"15047\":\"58f923eb-bc86-46a2-b4c8-7fc37f3ee1fb\"}}];\n",
       "    root.Bokeh.embed.embed_items_notebook(docs_json, render_items);\n",
       "  }\n",
       "  if (root.Bokeh !== undefined && root.Bokeh.Panel !== undefined && ( root['Tabulator'] !== undefined)) {\n",
       "    embed_document(root);\n",
       "  } else {\n",
       "    var attempts = 0;\n",
       "    var timer = setInterval(function(root) {\n",
       "      if (root.Bokeh !== undefined && root.Bokeh.Panel !== undefined && (root['Tabulator'] !== undefined)) {\n",
       "        clearInterval(timer);\n",
       "        embed_document(root);\n",
       "      } else if (document.readyState == \"complete\") {\n",
       "        attempts++;\n",
       "        if (attempts > 200) {\n",
       "          clearInterval(timer);\n",
       "          console.log(\"Bokeh: ERROR: Unable to run BokehJS code because BokehJS library is missing\");\n",
       "        }\n",
       "      }\n",
       "    }, 25, root)\n",
       "  }\n",
       "})(window);</script>"
      ],
      "text/plain": [
       "<hvplot.interactive.Interactive at 0x2b27a10c280>"
      ]
     },
     "execution_count": 44,
     "metadata": {
      "application/vnd.holoviews_exec.v0+json": {
       "id": "15047"
      }
     },
     "output_type": "execute_result"
    }
   ],
   "source": [
    "gia_tenquan = ( \n",
    "    idf[(idf.gia <= gia_lon_nhat_slider) & \n",
    "        (idf.gia >= gia_nho_nhat_slider) &\n",
    "        (idf.do_rong_duong_ml == duong_combobox)]\n",
    "    .groupby(['ten_quan'])['gia'].mean()\n",
    "    .to_frame()\n",
    "    .reset_index()  \n",
    "    .reset_index(drop=True)\n",
    ") \n",
    "gia_tenquan"
   ]
  },
  {
   "cell_type": "code",
   "execution_count": 45,
   "id": "ff6959c9",
   "metadata": {},
   "outputs": [
    {
     "data": {},
     "metadata": {},
     "output_type": "display_data"
    },
    {
     "data": {},
     "metadata": {},
     "output_type": "display_data"
    },
    {
     "data": {
      "application/vnd.holoviews_exec.v0+json": "",
      "text/html": [
       "<div id='15058'>\n",
       "  <div class=\"bk-root\" id=\"c6d93306-f250-4943-84ed-ee34b8d668ad\" data-root-id=\"15058\"></div>\n",
       "</div>\n",
       "<script type=\"application/javascript\">(function(root) {\n",
       "  function embed_document(root) {\n",
       "    var docs_json = {\"25d722ed-4347-4a82-b18f-18edeb6ff3c2\":{\"defs\":[{\"extends\":null,\"module\":null,\"name\":\"ReactiveHTML1\",\"overrides\":[],\"properties\":[]},{\"extends\":null,\"module\":null,\"name\":\"FlexBox1\",\"overrides\":[],\"properties\":[{\"default\":\"flex-start\",\"kind\":null,\"name\":\"align_content\"},{\"default\":\"flex-start\",\"kind\":null,\"name\":\"align_items\"},{\"default\":\"row\",\"kind\":null,\"name\":\"flex_direction\"},{\"default\":\"wrap\",\"kind\":null,\"name\":\"flex_wrap\"},{\"default\":\"flex-start\",\"kind\":null,\"name\":\"justify_content\"}]},{\"extends\":null,\"module\":null,\"name\":\"GridStack1\",\"overrides\":[],\"properties\":[{\"default\":\"warn\",\"kind\":null,\"name\":\"mode\"},{\"default\":null,\"kind\":null,\"name\":\"ncols\"},{\"default\":null,\"kind\":null,\"name\":\"nrows\"},{\"default\":true,\"kind\":null,\"name\":\"allow_resize\"},{\"default\":true,\"kind\":null,\"name\":\"allow_drag\"},{\"default\":[],\"kind\":null,\"name\":\"state\"}]},{\"extends\":null,\"module\":null,\"name\":\"click1\",\"overrides\":[],\"properties\":[{\"default\":\"\",\"kind\":null,\"name\":\"terminal_output\"},{\"default\":\"\",\"kind\":null,\"name\":\"debug_name\"},{\"default\":0,\"kind\":null,\"name\":\"clears\"}]},{\"extends\":null,\"module\":null,\"name\":\"NotificationAreaBase1\",\"overrides\":[],\"properties\":[{\"default\":\"bottom-right\",\"kind\":null,\"name\":\"position\"},{\"default\":0,\"kind\":null,\"name\":\"_clear\"}]},{\"extends\":null,\"module\":null,\"name\":\"NotificationArea1\",\"overrides\":[],\"properties\":[{\"default\":[],\"kind\":null,\"name\":\"notifications\"},{\"default\":\"bottom-right\",\"kind\":null,\"name\":\"position\"},{\"default\":0,\"kind\":null,\"name\":\"_clear\"},{\"default\":[{\"background\":\"#ffc107\",\"icon\":{\"className\":\"fas fa-exclamation-triangle\",\"color\":\"white\",\"tagName\":\"i\"},\"type\":\"warning\"},{\"background\":\"#007bff\",\"icon\":{\"className\":\"fas fa-info-circle\",\"color\":\"white\",\"tagName\":\"i\"},\"type\":\"info\"}],\"kind\":null,\"name\":\"types\"}]},{\"extends\":null,\"module\":null,\"name\":\"Notification\",\"overrides\":[],\"properties\":[{\"default\":null,\"kind\":null,\"name\":\"background\"},{\"default\":3000,\"kind\":null,\"name\":\"duration\"},{\"default\":null,\"kind\":null,\"name\":\"icon\"},{\"default\":\"\",\"kind\":null,\"name\":\"message\"},{\"default\":null,\"kind\":null,\"name\":\"notification_type\"},{\"default\":false,\"kind\":null,\"name\":\"_destroyed\"}]},{\"extends\":null,\"module\":null,\"name\":\"TemplateActions1\",\"overrides\":[],\"properties\":[{\"default\":0,\"kind\":null,\"name\":\"open_modal\"},{\"default\":0,\"kind\":null,\"name\":\"close_modal\"}]},{\"extends\":null,\"module\":null,\"name\":\"MaterialTemplateActions1\",\"overrides\":[],\"properties\":[{\"default\":0,\"kind\":null,\"name\":\"open_modal\"},{\"default\":0,\"kind\":null,\"name\":\"close_modal\"}]}],\"roots\":{\"references\":[{\"attributes\":{\"children\":[{\"id\":\"15061\"},{\"id\":\"15065\"}],\"margin\":[0,0,0,0],\"name\":\"Row30827\"},\"id\":\"15060\",\"type\":\"Row\"},{\"attributes\":{},\"id\":\"15086\",\"type\":\"SaveTool\"},{\"attributes\":{},\"id\":\"15087\",\"type\":\"PanTool\"},{\"attributes\":{\"children\":[{\"id\":\"15062\"},{\"id\":\"15063\"},{\"id\":\"15064\"}],\"margin\":[0,0,0,0],\"name\":\"Column30658\"},\"id\":\"15061\",\"type\":\"Column\"},{\"attributes\":{},\"id\":\"15088\",\"type\":\"WheelZoomTool\"},{\"attributes\":{\"margin\":[5,5,5,5],\"name\":\"HSpacer30826\",\"sizing_mode\":\"stretch_width\"},\"id\":\"15065\",\"type\":\"Spacer\"},{\"attributes\":{\"overlay\":{\"id\":\"15091\"}},\"id\":\"15089\",\"type\":\"BoxZoomTool\"},{\"attributes\":{},\"id\":\"15090\",\"type\":\"ResetTool\"},{\"attributes\":{\"axis\":{\"id\":\"15079\"},\"coordinates\":null,\"grid_line_color\":null,\"group\":null,\"ticker\":null},\"id\":\"15081\",\"type\":\"Grid\"},{\"attributes\":{\"bottom_units\":\"screen\",\"coordinates\":null,\"fill_alpha\":0.5,\"fill_color\":\"lightgrey\",\"group\":null,\"left_units\":\"screen\",\"level\":\"overlay\",\"line_alpha\":1.0,\"line_color\":\"black\",\"line_dash\":[4,4],\"line_width\":2,\"right_units\":\"screen\",\"syncable\":false,\"top_units\":\"screen\"},\"id\":\"15091\",\"type\":\"BoxAnnotation\"},{\"attributes\":{\"children\":[{\"id\":\"15059\"}],\"margin\":[0,0,0,0],\"name\":\"Row30829\"},\"id\":\"15058\",\"type\":\"Row\"},{\"attributes\":{},\"id\":\"15075\",\"type\":\"CategoricalScale\"},{\"attributes\":{\"children\":[{\"id\":\"15070\"}],\"margin\":[0,0,0,0],\"name\":\"Row30663\"},\"id\":\"15066\",\"type\":\"Row\"},{\"attributes\":{\"children\":[{\"id\":\"15060\"},{\"id\":\"15066\"}],\"margin\":[0,0,0,0],\"name\":\"Column30828\"},\"id\":\"15059\",\"type\":\"Column\"},{\"attributes\":{\"tools\":[{\"id\":\"15069\"},{\"id\":\"15086\"},{\"id\":\"15087\"},{\"id\":\"15088\"},{\"id\":\"15089\"},{\"id\":\"15090\"}]},\"id\":\"15092\",\"type\":\"Toolbar\"},{\"attributes\":{},\"id\":\"15112\",\"type\":\"BasicTickFormatter\"},{\"attributes\":{\"end\":33600,\"margin\":[5,10,5,10],\"start\":1,\"step\":5,\"title\":\"Gi\\u00e1 nh\\u1ecf nh\\u1ea5t slider\",\"value\":33600},\"id\":\"15062\",\"type\":\"Slider\"},{\"attributes\":{},\"id\":\"15110\",\"type\":\"AllLabels\"},{\"attributes\":{\"client_comm_id\":\"f6c7d07b21644bbe94230b0b2850682b\",\"comm_id\":\"5b7239abf0a34b0a9cae15e57ed22d94\",\"plot_id\":\"15058\"},\"id\":\"15154\",\"type\":\"panel.models.comm_manager.CommManager\"},{\"attributes\":{\"coordinates\":null,\"group\":null,\"text\":\"Bi\\u1ebfn \\u0111\\u1ed5i trung b\\u00ecnh gi\\u00e1 nh\\u00e0 theo qu\\u1eadn\",\"text_color\":\"black\",\"text_font_size\":\"12pt\"},\"id\":\"15071\",\"type\":\"Title\"},{\"attributes\":{\"bottom\":{\"value\":0},\"fill_alpha\":{\"value\":1.0},\"fill_color\":{\"value\":\"#30a2da\"},\"hatch_alpha\":{\"value\":1.0},\"hatch_color\":{\"value\":\"#30a2da\"},\"hatch_scale\":{\"value\":12.0},\"hatch_weight\":{\"value\":1.0},\"line_alpha\":{\"value\":1.0},\"line_cap\":{\"value\":\"butt\"},\"line_color\":{\"value\":\"black\"},\"line_dash\":{\"value\":[]},\"line_dash_offset\":{\"value\":0},\"line_join\":{\"value\":\"bevel\"},\"line_width\":{\"value\":2},\"top\":{\"field\":\"gia\"},\"width\":{\"value\":0.8},\"x\":{\"field\":\"ten_quan\"}},\"id\":\"15107\",\"type\":\"VBar\"},{\"attributes\":{\"factors\":[\"B\\u1eafc T\\u1eeb Li\\u00eam\",\"Huy\\u1ec7n Ba V\\u00ec\",\"Huy\\u1ec7n Ch\\u01b0\\u01a1ng M\\u1ef9\",\"Huy\\u1ec7n Gia L\\u00e2m\",\"Huy\\u1ec7n Ho\\u00e0i \\u0110\\u1ee9c\",\"Huy\\u1ec7n M\\u00ea Linh\",\"Huy\\u1ec7n M\\u1ef9 \\u0110\\u1ee9c\",\"Huy\\u1ec7n Ph\\u00fac Th\\u1ecd\",\"Huy\\u1ec7n Qu\\u1ed1c Oai\",\"Huy\\u1ec7n S\\u00f3c S\\u01a1n\",\"Huy\\u1ec7n Thanh Oai\",\"Huy\\u1ec7n Thanh Tr\\u00ec\",\"Huy\\u1ec7n Th\\u01b0\\u1eddng T\\u00edn\",\"Huy\\u1ec7n Th\\u1ea1ch Th\\u1ea5t\",\"Huy\\u1ec7n \\u0110an Ph\\u01b0\\u1ee3ng\",\"Huy\\u1ec7n \\u0110\\u00f4ng Anh\",\"Qu\\u1eadn Ba \\u0110\\u00ecnh\",\"Qu\\u1eadn B\\u1eafc T\\u1eeb Li\\u00eam\",\"Qu\\u1eadn C\\u1ea7u Gi\\u1ea5y\",\"Qu\\u1eadn Hai B\\u00e0 Tr\\u01b0ng\",\"Qu\\u1eadn Ho\\u00e0n Ki\\u1ebfm\",\"Qu\\u1eadn Ho\\u00e0ng Mai\",\"Qu\\u1eadn H\\u00e0 \\u0110\\u00f4ng\",\"Qu\\u1eadn Long Bi\\u00ean\",\"Qu\\u1eadn Nam T\\u1eeb Li\\u00eam\",\"Qu\\u1eadn Thanh Xu\\u00e2n\",\"Qu\\u1eadn T\\u00e2y H\\u1ed3\",\"Qu\\u1eadn \\u0110\\u1ed1ng \\u0110a\",\"Th\\u1ecb x\\u00e3 S\\u01a1n T\\u00e2y\"],\"tags\":[[[\"ten_quan\",\"ten_quan\",null]]]},\"id\":\"15067\",\"type\":\"FactorRange\"},{\"attributes\":{\"source\":{\"id\":\"15099\"}},\"id\":\"15106\",\"type\":\"CDSView\"},{\"attributes\":{\"fill_alpha\":{\"value\":0.2},\"fill_color\":{\"value\":\"#30a2da\"},\"hatch_alpha\":{\"value\":0.2},\"hatch_color\":{\"value\":\"#30a2da\"},\"line_alpha\":{\"value\":0.2},\"line_width\":{\"value\":2},\"top\":{\"field\":\"gia\"},\"width\":{\"value\":0.8},\"x\":{\"field\":\"ten_quan\"}},\"id\":\"15104\",\"type\":\"VBar\"},{\"attributes\":{\"data\":{\"gia\":{\"__ndarray__\":\"AAAAAADcvkAAAAAAACCXQCVJkiRJSodAVVVVVdWyq0AAAAAAgE+tQAAAAAAALalAAAAAAABAn0Dbtm3btk+nQAAAAAAAeJlAAAAAAAByk0AAAAAAAGiLQAAAAACA2q1AAAAAAAAggkCXlpaWltaYQFVVVVVV1aNAjuM4juPMo0AZGRkZGQzSQFyPwvWocrRAfcu3fEuOwEAapEEapKbDQPHw8PDwKMtA0uZ9iktwt0BVVVVV1cuxQJ7YiZ1YxbhAyWfdYIp2t0CSJEmSZPzAQOaxFUHDt8JAKK+hvCZXxEAMwzAMw3KpQA==\",\"dtype\":\"float64\",\"order\":\"little\",\"shape\":[29]},\"ten_quan\":[\"B\\u1eafc T\\u1eeb Li\\u00eam\",\"Huy\\u1ec7n Ba V\\u00ec\",\"Huy\\u1ec7n Ch\\u01b0\\u01a1ng M\\u1ef9\",\"Huy\\u1ec7n Gia L\\u00e2m\",\"Huy\\u1ec7n Ho\\u00e0i \\u0110\\u1ee9c\",\"Huy\\u1ec7n M\\u00ea Linh\",\"Huy\\u1ec7n M\\u1ef9 \\u0110\\u1ee9c\",\"Huy\\u1ec7n Ph\\u00fac Th\\u1ecd\",\"Huy\\u1ec7n Qu\\u1ed1c Oai\",\"Huy\\u1ec7n S\\u00f3c S\\u01a1n\",\"Huy\\u1ec7n Thanh Oai\",\"Huy\\u1ec7n Thanh Tr\\u00ec\",\"Huy\\u1ec7n Th\\u01b0\\u1eddng T\\u00edn\",\"Huy\\u1ec7n Th\\u1ea1ch Th\\u1ea5t\",\"Huy\\u1ec7n \\u0110an Ph\\u01b0\\u1ee3ng\",\"Huy\\u1ec7n \\u0110\\u00f4ng Anh\",\"Qu\\u1eadn Ba \\u0110\\u00ecnh\",\"Qu\\u1eadn B\\u1eafc T\\u1eeb Li\\u00eam\",\"Qu\\u1eadn C\\u1ea7u Gi\\u1ea5y\",\"Qu\\u1eadn Hai B\\u00e0 Tr\\u01b0ng\",\"Qu\\u1eadn Ho\\u00e0n Ki\\u1ebfm\",\"Qu\\u1eadn Ho\\u00e0ng Mai\",\"Qu\\u1eadn H\\u00e0 \\u0110\\u00f4ng\",\"Qu\\u1eadn Long Bi\\u00ean\",\"Qu\\u1eadn Nam T\\u1eeb Li\\u00eam\",\"Qu\\u1eadn Thanh Xu\\u00e2n\",\"Qu\\u1eadn T\\u00e2y H\\u1ed3\",\"Qu\\u1eadn \\u0110\\u1ed1ng \\u0110a\",\"Th\\u1ecb x\\u00e3 S\\u01a1n T\\u00e2y\"]},\"selected\":{\"id\":\"15100\"},\"selection_policy\":{\"id\":\"15121\"}},\"id\":\"15099\",\"type\":\"ColumnDataSource\"},{\"attributes\":{\"end\":33600,\"margin\":[5,10,5,10],\"start\":1,\"step\":5,\"title\":\"Gi\\u00e1 nh\\u1ecf nh\\u1ea5t slider\",\"value\":1},\"id\":\"15063\",\"type\":\"Slider\"},{\"attributes\":{\"margin\":[5,10,5,10],\"options\":[\"kh\\u00f4ng\",\"Ng\\u00f5 4 \\u00f4 t\\u00f4 tr\\u1edf l\\u00ean\",\"Ng\\u00f5 2 \\u00f4 t\\u00f4 tr\\u00e1nh\",\"Ng\\u00f5 1 \\u00f4 t\\u00f4\",\"Ng\\u00f5 ng\\u00e1ch\",\"Ng\\u00f5 3 \\u00f4 t\\u00f4 tr\\u00e1nh\",\"Ng\\u00f5 4 \\u00f4 t\\u00f4 tr\\u00e1nh\",\"M\\u1eb7t ph\\u1ed1 - M\\u1eb7t \\u0111\\u01b0\\u1eddng\"],\"value\":\"Ng\\u00f5 2 \\u00f4 t\\u00f4 tr\\u00e1nh\"},\"id\":\"15064\",\"type\":\"panel.models.widgets.CustomSelect\"},{\"attributes\":{\"coordinates\":null,\"data_source\":{\"id\":\"15099\"},\"glyph\":{\"id\":\"15102\"},\"group\":null,\"hover_glyph\":null,\"muted_glyph\":{\"id\":\"15104\"},\"nonselection_glyph\":{\"id\":\"15103\"},\"selection_glyph\":{\"id\":\"15107\"},\"view\":{\"id\":\"15106\"}},\"id\":\"15105\",\"type\":\"GlyphRenderer\"},{\"attributes\":{\"below\":[{\"id\":\"15079\"}],\"center\":[{\"id\":\"15081\"},{\"id\":\"15085\"}],\"height\":300,\"left\":[{\"id\":\"15082\"}],\"margin\":[5,5,5,5],\"min_border_bottom\":10,\"min_border_left\":10,\"min_border_right\":10,\"min_border_top\":10,\"renderers\":[{\"id\":\"15105\"}],\"sizing_mode\":\"fixed\",\"title\":{\"id\":\"15071\"},\"toolbar\":{\"id\":\"15092\"},\"width\":700,\"x_range\":{\"id\":\"15067\"},\"x_scale\":{\"id\":\"15075\"},\"y_range\":{\"id\":\"15068\"},\"y_scale\":{\"id\":\"15077\"}},\"id\":\"15070\",\"subtype\":\"Figure\",\"type\":\"Plot\"},{\"attributes\":{\"fill_alpha\":{\"value\":0.1},\"fill_color\":{\"value\":\"#30a2da\"},\"hatch_alpha\":{\"value\":0.1},\"hatch_color\":{\"value\":\"#30a2da\"},\"line_alpha\":{\"value\":0.1},\"line_width\":{\"value\":2},\"top\":{\"field\":\"gia\"},\"width\":{\"value\":0.8},\"x\":{\"field\":\"ten_quan\"}},\"id\":\"15103\",\"type\":\"VBar\"},{\"attributes\":{},\"id\":\"15100\",\"type\":\"Selection\"},{\"attributes\":{\"callback\":null,\"renderers\":[{\"id\":\"15105\"}],\"tags\":[\"hv_created\"],\"tooltips\":[[\"ten_quan\",\"@{ten_quan}\"],[\"gia\",\"@{gia}\"]]},\"id\":\"15069\",\"type\":\"HoverTool\"},{\"attributes\":{},\"id\":\"15080\",\"type\":\"CategoricalTicker\"},{\"attributes\":{},\"id\":\"15109\",\"type\":\"CategoricalTickFormatter\"},{\"attributes\":{},\"id\":\"15077\",\"type\":\"LinearScale\"},{\"attributes\":{},\"id\":\"15113\",\"type\":\"AllLabels\"},{\"attributes\":{\"end\":20270.43137254902,\"reset_end\":20270.43137254902,\"reset_start\":0.0,\"tags\":[[[\"gia\",\"gia\",null]]]},\"id\":\"15068\",\"type\":\"Range1d\"},{\"attributes\":{},\"id\":\"15121\",\"type\":\"UnionRenderers\"},{\"attributes\":{\"axis_label\":\"ten_quan\",\"coordinates\":null,\"formatter\":{\"id\":\"15109\"},\"group\":null,\"major_label_orientation\":1.5707963267948966,\"major_label_policy\":{\"id\":\"15110\"},\"ticker\":{\"id\":\"15080\"}},\"id\":\"15079\",\"type\":\"CategoricalAxis\"},{\"attributes\":{\"axis\":{\"id\":\"15082\"},\"coordinates\":null,\"dimension\":1,\"grid_line_color\":null,\"group\":null,\"ticker\":null},\"id\":\"15085\",\"type\":\"Grid\"},{\"attributes\":{\"axis_label\":\"gia\",\"coordinates\":null,\"formatter\":{\"id\":\"15112\"},\"group\":null,\"major_label_policy\":{\"id\":\"15113\"},\"ticker\":{\"id\":\"15083\"}},\"id\":\"15082\",\"type\":\"LinearAxis\"},{\"attributes\":{},\"id\":\"15083\",\"type\":\"BasicTicker\"},{\"attributes\":{\"fill_color\":{\"value\":\"#30a2da\"},\"hatch_color\":{\"value\":\"#30a2da\"},\"line_width\":{\"value\":2},\"top\":{\"field\":\"gia\"},\"width\":{\"value\":0.8},\"x\":{\"field\":\"ten_quan\"}},\"id\":\"15102\",\"type\":\"VBar\"}],\"root_ids\":[\"15058\",\"15154\"]},\"title\":\"Bokeh Application\",\"version\":\"2.4.3\"}};\n",
       "    var render_items = [{\"docid\":\"25d722ed-4347-4a82-b18f-18edeb6ff3c2\",\"root_ids\":[\"15058\"],\"roots\":{\"15058\":\"c6d93306-f250-4943-84ed-ee34b8d668ad\"}}];\n",
       "    root.Bokeh.embed.embed_items_notebook(docs_json, render_items);\n",
       "  }\n",
       "  if (root.Bokeh !== undefined && root.Bokeh.Panel !== undefined && ( root['Tabulator'] !== undefined)) {\n",
       "    embed_document(root);\n",
       "  } else {\n",
       "    var attempts = 0;\n",
       "    var timer = setInterval(function(root) {\n",
       "      if (root.Bokeh !== undefined && root.Bokeh.Panel !== undefined && (root['Tabulator'] !== undefined)) {\n",
       "        clearInterval(timer);\n",
       "        embed_document(root);\n",
       "      } else if (document.readyState == \"complete\") {\n",
       "        attempts++;\n",
       "        if (attempts > 200) {\n",
       "          clearInterval(timer);\n",
       "          console.log(\"Bokeh: ERROR: Unable to run BokehJS code because BokehJS library is missing\");\n",
       "        }\n",
       "      }\n",
       "    }, 25, root)\n",
       "  }\n",
       "})(window);</script>"
      ],
      "text/plain": [
       "<hvplot.interactive.Interactive at 0x2b27a10c310>"
      ]
     },
     "execution_count": 45,
     "metadata": {
      "application/vnd.holoviews_exec.v0+json": {
       "id": "15058"
      }
     },
     "output_type": "execute_result"
    }
   ],
   "source": [
    "gia_tenquan_plot = gia_tenquan.hvplot(kind='bar', x='ten_quan', y='gia',line_width=2, title=\"Biến đổi trung bình giá nhà theo quận\",rot=90)\n",
    "gia_tenquan_plot"
   ]
  },
  {
   "cell_type": "code",
   "execution_count": 29,
   "id": "29ccb01d",
   "metadata": {},
   "outputs": [
    {
     "data": {},
     "metadata": {},
     "output_type": "display_data"
    },
    {
     "data": {
      "application/vnd.holoviews_exec.v0+json": "",
      "text/html": [
       "<div id='1801'>\n",
       "  <div class=\"bk-root\" id=\"ed0a0b3e-ffe0-46eb-b0da-9f82128816b6\" data-root-id=\"1801\"></div>\n",
       "</div>\n",
       "<script type=\"application/javascript\">(function(root) {\n",
       "  function embed_document(root) {\n",
       "    var docs_json = {\"a8134a7e-06b7-4841-aa16-d6dbcc92c452\":{\"defs\":[{\"extends\":null,\"module\":null,\"name\":\"ReactiveHTML1\",\"overrides\":[],\"properties\":[]},{\"extends\":null,\"module\":null,\"name\":\"FlexBox1\",\"overrides\":[],\"properties\":[{\"default\":\"flex-start\",\"kind\":null,\"name\":\"align_content\"},{\"default\":\"flex-start\",\"kind\":null,\"name\":\"align_items\"},{\"default\":\"row\",\"kind\":null,\"name\":\"flex_direction\"},{\"default\":\"wrap\",\"kind\":null,\"name\":\"flex_wrap\"},{\"default\":\"flex-start\",\"kind\":null,\"name\":\"justify_content\"}]},{\"extends\":null,\"module\":null,\"name\":\"GridStack1\",\"overrides\":[],\"properties\":[{\"default\":\"warn\",\"kind\":null,\"name\":\"mode\"},{\"default\":null,\"kind\":null,\"name\":\"ncols\"},{\"default\":null,\"kind\":null,\"name\":\"nrows\"},{\"default\":true,\"kind\":null,\"name\":\"allow_resize\"},{\"default\":true,\"kind\":null,\"name\":\"allow_drag\"},{\"default\":[],\"kind\":null,\"name\":\"state\"}]},{\"extends\":null,\"module\":null,\"name\":\"click1\",\"overrides\":[],\"properties\":[{\"default\":\"\",\"kind\":null,\"name\":\"terminal_output\"},{\"default\":\"\",\"kind\":null,\"name\":\"debug_name\"},{\"default\":0,\"kind\":null,\"name\":\"clears\"}]},{\"extends\":null,\"module\":null,\"name\":\"NotificationAreaBase1\",\"overrides\":[],\"properties\":[{\"default\":\"bottom-right\",\"kind\":null,\"name\":\"position\"},{\"default\":0,\"kind\":null,\"name\":\"_clear\"}]},{\"extends\":null,\"module\":null,\"name\":\"NotificationArea1\",\"overrides\":[],\"properties\":[{\"default\":[],\"kind\":null,\"name\":\"notifications\"},{\"default\":\"bottom-right\",\"kind\":null,\"name\":\"position\"},{\"default\":0,\"kind\":null,\"name\":\"_clear\"},{\"default\":[{\"background\":\"#ffc107\",\"icon\":{\"className\":\"fas fa-exclamation-triangle\",\"color\":\"white\",\"tagName\":\"i\"},\"type\":\"warning\"},{\"background\":\"#007bff\",\"icon\":{\"className\":\"fas fa-info-circle\",\"color\":\"white\",\"tagName\":\"i\"},\"type\":\"info\"}],\"kind\":null,\"name\":\"types\"}]},{\"extends\":null,\"module\":null,\"name\":\"Notification\",\"overrides\":[],\"properties\":[{\"default\":null,\"kind\":null,\"name\":\"background\"},{\"default\":3000,\"kind\":null,\"name\":\"duration\"},{\"default\":null,\"kind\":null,\"name\":\"icon\"},{\"default\":\"\",\"kind\":null,\"name\":\"message\"},{\"default\":null,\"kind\":null,\"name\":\"notification_type\"},{\"default\":false,\"kind\":null,\"name\":\"_destroyed\"}]},{\"extends\":null,\"module\":null,\"name\":\"TemplateActions1\",\"overrides\":[],\"properties\":[{\"default\":0,\"kind\":null,\"name\":\"open_modal\"},{\"default\":0,\"kind\":null,\"name\":\"close_modal\"}]},{\"extends\":null,\"module\":null,\"name\":\"MaterialTemplateActions1\",\"overrides\":[],\"properties\":[{\"default\":0,\"kind\":null,\"name\":\"open_modal\"},{\"default\":0,\"kind\":null,\"name\":\"close_modal\"}]}],\"roots\":{\"references\":[{\"attributes\":{\"client_comm_id\":\"6fbdde1ae7cf4918950a54aa473336e1\",\"comm_id\":\"d56bd42fbe6447c18b87ea3030c78109\",\"plot_id\":\"1801\"},\"id\":\"1810\",\"type\":\"panel.models.comm_manager.CommManager\"},{\"attributes\":{\"children\":[{\"id\":\"1803\"},{\"id\":\"1808\"}],\"margin\":[0,0,0,0],\"name\":\"Column07507\"},\"id\":\"1802\",\"type\":\"Column\"},{\"attributes\":{\"margin\":[5,5,5,5],\"name\":\"HSpacer07505\",\"sizing_mode\":\"stretch_width\"},\"id\":\"1807\",\"type\":\"Spacer\"},{\"attributes\":{\"end\":33600,\"margin\":[5,10,5,10],\"start\":1,\"step\":5,\"title\":\"Gi\\u00e1 nh\\u1ecf nh\\u1ea5t slider\",\"value\":33600},\"id\":\"1805\",\"type\":\"Slider\"},{\"attributes\":{\"children\":[{\"id\":\"1805\"},{\"id\":\"1806\"}],\"margin\":[0,0,0,0],\"name\":\"Column07473\"},\"id\":\"1804\",\"type\":\"Column\"},{\"attributes\":{\"end\":33600,\"margin\":[5,10,5,10],\"start\":1,\"step\":5,\"title\":\"Gi\\u00e1 nh\\u1ecf nh\\u1ea5t slider\",\"value\":1},\"id\":\"1806\",\"type\":\"Slider\"},{\"attributes\":{\"children\":[{\"id\":\"1809\"}],\"margin\":[0,0,0,0],\"name\":\"Row07478\"},\"id\":\"1808\",\"type\":\"Row\"},{\"attributes\":{\"children\":[{\"id\":\"1802\"}],\"margin\":[0,0,0,0],\"name\":\"Row07508\"},\"id\":\"1801\",\"type\":\"Row\"},{\"attributes\":{\"margin\":[5,5,5,5],\"name\":\"DataFrame07503\",\"text\":\"&lt;table border=&quot;0&quot; class=&quot;dataframe panel-df&quot;&gt;\\n  &lt;thead&gt;\\n    &lt;tr style=&quot;text-align: right;&quot;&gt;\\n      &lt;th&gt;&lt;/th&gt;\\n      &lt;th&gt;so_do&lt;/th&gt;\\n      &lt;th&gt;gia&lt;/th&gt;\\n    &lt;/tr&gt;\\n  &lt;/thead&gt;\\n  &lt;tbody&gt;\\n    &lt;tr&gt;\\n      &lt;th&gt;0&lt;/th&gt;\\n      &lt;td&gt;c\\u00f3&lt;/td&gt;\\n      &lt;td&gt;8543.514477&lt;/td&gt;\\n    &lt;/tr&gt;\\n    &lt;tr&gt;\\n      &lt;th&gt;1&lt;/th&gt;\\n      &lt;td&gt;kh\\u00f4ng&lt;/td&gt;\\n      &lt;td&gt;7194.545874&lt;/td&gt;\\n    &lt;/tr&gt;\\n  &lt;/tbody&gt;\\n&lt;/table&gt;\"},\"id\":\"1809\",\"type\":\"panel.models.markup.HTML\"},{\"attributes\":{\"children\":[{\"id\":\"1804\"},{\"id\":\"1807\"}],\"margin\":[0,0,0,0],\"name\":\"Row07506\"},\"id\":\"1803\",\"type\":\"Row\"}],\"root_ids\":[\"1801\",\"1810\"]},\"title\":\"Bokeh Application\",\"version\":\"2.4.3\"}};\n",
       "    var render_items = [{\"docid\":\"a8134a7e-06b7-4841-aa16-d6dbcc92c452\",\"root_ids\":[\"1801\"],\"roots\":{\"1801\":\"ed0a0b3e-ffe0-46eb-b0da-9f82128816b6\"}}];\n",
       "    root.Bokeh.embed.embed_items_notebook(docs_json, render_items);\n",
       "  }\n",
       "  if (root.Bokeh !== undefined && root.Bokeh.Panel !== undefined && ( root['Tabulator'] !== undefined)) {\n",
       "    embed_document(root);\n",
       "  } else {\n",
       "    var attempts = 0;\n",
       "    var timer = setInterval(function(root) {\n",
       "      if (root.Bokeh !== undefined && root.Bokeh.Panel !== undefined && (root['Tabulator'] !== undefined)) {\n",
       "        clearInterval(timer);\n",
       "        embed_document(root);\n",
       "      } else if (document.readyState == \"complete\") {\n",
       "        attempts++;\n",
       "        if (attempts > 200) {\n",
       "          clearInterval(timer);\n",
       "          console.log(\"Bokeh: ERROR: Unable to run BokehJS code because BokehJS library is missing\");\n",
       "        }\n",
       "      }\n",
       "    }, 25, root)\n",
       "  }\n",
       "})(window);</script>"
      ],
      "text/plain": [
       "<hvplot.interactive.Interactive at 0x2b279d570a0>"
      ]
     },
     "execution_count": 29,
     "metadata": {
      "application/vnd.holoviews_exec.v0+json": {
       "id": "1801"
      }
     },
     "output_type": "execute_result"
    }
   ],
   "source": [
    "gia_sodo = ( \n",
    "    idf[(idf.gia <= gia_lon_nhat_slider) & \n",
    "        (idf.gia >= gia_nho_nhat_slider)]\n",
    "    .groupby(['so_do'])['gia'].mean()\n",
    "    .to_frame()\n",
    "    .reset_index()  \n",
    "    .reset_index(drop=True)\n",
    ") \n",
    "gia_sodo"
   ]
  },
  {
   "cell_type": "code",
   "execution_count": 30,
   "id": "aaed1b9f",
   "metadata": {},
   "outputs": [
    {
     "data": {},
     "metadata": {},
     "output_type": "display_data"
    },
    {
     "data": {},
     "metadata": {},
     "output_type": "display_data"
    },
    {
     "data": {
      "application/vnd.holoviews_exec.v0+json": "",
      "text/html": [
       "<div id='1811'>\n",
       "  <div class=\"bk-root\" id=\"48b92970-08ce-4956-866e-a1401f5bcfaa\" data-root-id=\"1811\"></div>\n",
       "</div>\n",
       "<script type=\"application/javascript\">(function(root) {\n",
       "  function embed_document(root) {\n",
       "    var docs_json = {\"1cf32bf1-9eb3-45f1-b812-08ad504c6d49\":{\"defs\":[{\"extends\":null,\"module\":null,\"name\":\"ReactiveHTML1\",\"overrides\":[],\"properties\":[]},{\"extends\":null,\"module\":null,\"name\":\"FlexBox1\",\"overrides\":[],\"properties\":[{\"default\":\"flex-start\",\"kind\":null,\"name\":\"align_content\"},{\"default\":\"flex-start\",\"kind\":null,\"name\":\"align_items\"},{\"default\":\"row\",\"kind\":null,\"name\":\"flex_direction\"},{\"default\":\"wrap\",\"kind\":null,\"name\":\"flex_wrap\"},{\"default\":\"flex-start\",\"kind\":null,\"name\":\"justify_content\"}]},{\"extends\":null,\"module\":null,\"name\":\"GridStack1\",\"overrides\":[],\"properties\":[{\"default\":\"warn\",\"kind\":null,\"name\":\"mode\"},{\"default\":null,\"kind\":null,\"name\":\"ncols\"},{\"default\":null,\"kind\":null,\"name\":\"nrows\"},{\"default\":true,\"kind\":null,\"name\":\"allow_resize\"},{\"default\":true,\"kind\":null,\"name\":\"allow_drag\"},{\"default\":[],\"kind\":null,\"name\":\"state\"}]},{\"extends\":null,\"module\":null,\"name\":\"click1\",\"overrides\":[],\"properties\":[{\"default\":\"\",\"kind\":null,\"name\":\"terminal_output\"},{\"default\":\"\",\"kind\":null,\"name\":\"debug_name\"},{\"default\":0,\"kind\":null,\"name\":\"clears\"}]},{\"extends\":null,\"module\":null,\"name\":\"NotificationAreaBase1\",\"overrides\":[],\"properties\":[{\"default\":\"bottom-right\",\"kind\":null,\"name\":\"position\"},{\"default\":0,\"kind\":null,\"name\":\"_clear\"}]},{\"extends\":null,\"module\":null,\"name\":\"NotificationArea1\",\"overrides\":[],\"properties\":[{\"default\":[],\"kind\":null,\"name\":\"notifications\"},{\"default\":\"bottom-right\",\"kind\":null,\"name\":\"position\"},{\"default\":0,\"kind\":null,\"name\":\"_clear\"},{\"default\":[{\"background\":\"#ffc107\",\"icon\":{\"className\":\"fas fa-exclamation-triangle\",\"color\":\"white\",\"tagName\":\"i\"},\"type\":\"warning\"},{\"background\":\"#007bff\",\"icon\":{\"className\":\"fas fa-info-circle\",\"color\":\"white\",\"tagName\":\"i\"},\"type\":\"info\"}],\"kind\":null,\"name\":\"types\"}]},{\"extends\":null,\"module\":null,\"name\":\"Notification\",\"overrides\":[],\"properties\":[{\"default\":null,\"kind\":null,\"name\":\"background\"},{\"default\":3000,\"kind\":null,\"name\":\"duration\"},{\"default\":null,\"kind\":null,\"name\":\"icon\"},{\"default\":\"\",\"kind\":null,\"name\":\"message\"},{\"default\":null,\"kind\":null,\"name\":\"notification_type\"},{\"default\":false,\"kind\":null,\"name\":\"_destroyed\"}]},{\"extends\":null,\"module\":null,\"name\":\"TemplateActions1\",\"overrides\":[],\"properties\":[{\"default\":0,\"kind\":null,\"name\":\"open_modal\"},{\"default\":0,\"kind\":null,\"name\":\"close_modal\"}]},{\"extends\":null,\"module\":null,\"name\":\"MaterialTemplateActions1\",\"overrides\":[],\"properties\":[{\"default\":0,\"kind\":null,\"name\":\"open_modal\"},{\"default\":0,\"kind\":null,\"name\":\"close_modal\"}]}],\"roots\":{\"references\":[{\"attributes\":{},\"id\":\"1839\",\"type\":\"PanTool\"},{\"attributes\":{\"fill_color\":{\"value\":\"#30a2da\"},\"hatch_color\":{\"value\":\"#30a2da\"},\"line_width\":{\"value\":2},\"top\":{\"field\":\"gia\"},\"width\":{\"value\":0.8},\"x\":{\"field\":\"so_do\"}},\"id\":\"1854\",\"type\":\"VBar\"},{\"attributes\":{\"axis\":{\"id\":\"1834\"},\"coordinates\":null,\"dimension\":1,\"grid_line_color\":null,\"group\":null,\"ticker\":null},\"id\":\"1837\",\"type\":\"Grid\"},{\"attributes\":{\"children\":[{\"id\":\"1812\"}],\"margin\":[0,0,0,0],\"name\":\"Row07857\"},\"id\":\"1811\",\"type\":\"Row\"},{\"attributes\":{},\"id\":\"1840\",\"type\":\"WheelZoomTool\"},{\"attributes\":{},\"id\":\"1827\",\"type\":\"CategoricalScale\"},{\"attributes\":{},\"id\":\"1838\",\"type\":\"SaveTool\"},{\"attributes\":{\"client_comm_id\":\"1918e1d09b1941a98c4f1483a40a4565\",\"comm_id\":\"31e110dd2c1e41df957cb8f76f25f296\",\"plot_id\":\"1811\"},\"id\":\"1906\",\"type\":\"panel.models.comm_manager.CommManager\"},{\"attributes\":{\"overlay\":{\"id\":\"1843\"}},\"id\":\"1841\",\"type\":\"BoxZoomTool\"},{\"attributes\":{},\"id\":\"1842\",\"type\":\"ResetTool\"},{\"attributes\":{},\"id\":\"1864\",\"type\":\"BasicTickFormatter\"},{\"attributes\":{\"axis\":{\"id\":\"1831\"},\"coordinates\":null,\"grid_line_color\":null,\"group\":null,\"ticker\":null},\"id\":\"1833\",\"type\":\"Grid\"},{\"attributes\":{\"bottom_units\":\"screen\",\"coordinates\":null,\"fill_alpha\":0.5,\"fill_color\":\"lightgrey\",\"group\":null,\"left_units\":\"screen\",\"level\":\"overlay\",\"line_alpha\":1.0,\"line_color\":\"black\",\"line_dash\":[4,4],\"line_width\":2,\"right_units\":\"screen\",\"syncable\":false,\"top_units\":\"screen\"},\"id\":\"1843\",\"type\":\"BoxAnnotation\"},{\"attributes\":{\"margin\":[5,5,5,5],\"name\":\"HSpacer07854\",\"sizing_mode\":\"stretch_width\"},\"id\":\"1817\",\"type\":\"Spacer\"},{\"attributes\":{\"fill_alpha\":{\"value\":0.1},\"fill_color\":{\"value\":\"#30a2da\"},\"hatch_alpha\":{\"value\":0.1},\"hatch_color\":{\"value\":\"#30a2da\"},\"line_alpha\":{\"value\":0.1},\"line_width\":{\"value\":2},\"top\":{\"field\":\"gia\"},\"width\":{\"value\":0.8},\"x\":{\"field\":\"so_do\"}},\"id\":\"1855\",\"type\":\"VBar\"},{\"attributes\":{\"tools\":[{\"id\":\"1821\"},{\"id\":\"1838\"},{\"id\":\"1839\"},{\"id\":\"1840\"},{\"id\":\"1841\"},{\"id\":\"1842\"}]},\"id\":\"1844\",\"type\":\"Toolbar\"},{\"attributes\":{\"children\":[{\"id\":\"1822\"}],\"margin\":[0,0,0,0],\"name\":\"Row07694\"},\"id\":\"1818\",\"type\":\"Row\"},{\"attributes\":{\"coordinates\":null,\"group\":null,\"text\":\"Bi\\u1ebfn \\u0111\\u1ed5i trung b\\u00ecnh gi\\u00e1 nh\\u00e0 theo qu\\u1eadn\",\"text_color\":\"black\",\"text_font_size\":\"12pt\"},\"id\":\"1823\",\"type\":\"Title\"},{\"attributes\":{\"end\":33600,\"margin\":[5,10,5,10],\"start\":1,\"step\":5,\"title\":\"Gi\\u00e1 nh\\u1ecf nh\\u1ea5t slider\",\"value\":1},\"id\":\"1816\",\"type\":\"Slider\"},{\"attributes\":{\"factors\":[\"c\\u00f3\",\"kh\\u00f4ng\"],\"tags\":[[[\"so_do\",\"so_do\",null]]]},\"id\":\"1819\",\"type\":\"FactorRange\"},{\"attributes\":{\"children\":[{\"id\":\"1815\"},{\"id\":\"1816\"}],\"margin\":[0,0,0,0],\"name\":\"Column07689\"},\"id\":\"1814\",\"type\":\"Column\"},{\"attributes\":{\"end\":33600,\"margin\":[5,10,5,10],\"start\":1,\"step\":5,\"title\":\"Gi\\u00e1 nh\\u1ecf nh\\u1ea5t slider\",\"value\":33600},\"id\":\"1815\",\"type\":\"Slider\"},{\"attributes\":{\"coordinates\":null,\"data_source\":{\"id\":\"1851\"},\"glyph\":{\"id\":\"1854\"},\"group\":null,\"hover_glyph\":null,\"muted_glyph\":{\"id\":\"1856\"},\"nonselection_glyph\":{\"id\":\"1855\"},\"selection_glyph\":{\"id\":\"1859\"},\"view\":{\"id\":\"1858\"}},\"id\":\"1857\",\"type\":\"GlyphRenderer\"},{\"attributes\":{\"children\":[{\"id\":\"1813\"},{\"id\":\"1818\"}],\"margin\":[0,0,0,0],\"name\":\"Column07856\"},\"id\":\"1812\",\"type\":\"Column\"},{\"attributes\":{\"source\":{\"id\":\"1851\"}},\"id\":\"1858\",\"type\":\"CDSView\"},{\"attributes\":{\"bottom\":{\"value\":0},\"fill_alpha\":{\"value\":1.0},\"fill_color\":{\"value\":\"#30a2da\"},\"hatch_alpha\":{\"value\":1.0},\"hatch_color\":{\"value\":\"#30a2da\"},\"hatch_scale\":{\"value\":12.0},\"hatch_weight\":{\"value\":1.0},\"line_alpha\":{\"value\":1.0},\"line_cap\":{\"value\":\"butt\"},\"line_color\":{\"value\":\"black\"},\"line_dash\":{\"value\":[]},\"line_dash_offset\":{\"value\":0},\"line_join\":{\"value\":\"bevel\"},\"line_width\":{\"value\":2},\"top\":{\"field\":\"gia\"},\"width\":{\"value\":0.8},\"x\":{\"field\":\"so_do\"}},\"id\":\"1859\",\"type\":\"VBar\"},{\"attributes\":{\"below\":[{\"id\":\"1831\"}],\"center\":[{\"id\":\"1833\"},{\"id\":\"1837\"}],\"height\":300,\"left\":[{\"id\":\"1834\"}],\"margin\":[5,5,5,5],\"min_border_bottom\":10,\"min_border_left\":10,\"min_border_right\":10,\"min_border_top\":10,\"renderers\":[{\"id\":\"1857\"}],\"sizing_mode\":\"fixed\",\"title\":{\"id\":\"1823\"},\"toolbar\":{\"id\":\"1844\"},\"width\":700,\"x_range\":{\"id\":\"1819\"},\"x_scale\":{\"id\":\"1827\"},\"y_range\":{\"id\":\"1820\"},\"y_scale\":{\"id\":\"1829\"}},\"id\":\"1822\",\"subtype\":\"Figure\",\"type\":\"Plot\"},{\"attributes\":{},\"id\":\"1865\",\"type\":\"AllLabels\"},{\"attributes\":{\"children\":[{\"id\":\"1814\"},{\"id\":\"1817\"}],\"margin\":[0,0,0,0],\"name\":\"Row07855\"},\"id\":\"1813\",\"type\":\"Row\"},{\"attributes\":{\"data\":{\"gia\":{\"__ndarray__\":\"yWhh2sGvwED8eGm+ixq8QA==\",\"dtype\":\"float64\",\"order\":\"little\",\"shape\":[2]},\"so_do\":[\"c\\u00f3\",\"kh\\u00f4ng\"]},\"selected\":{\"id\":\"1852\"},\"selection_policy\":{\"id\":\"1873\"}},\"id\":\"1851\",\"type\":\"ColumnDataSource\"},{\"attributes\":{\"fill_alpha\":{\"value\":0.2},\"fill_color\":{\"value\":\"#30a2da\"},\"hatch_alpha\":{\"value\":0.2},\"hatch_color\":{\"value\":\"#30a2da\"},\"line_alpha\":{\"value\":0.2},\"line_width\":{\"value\":2},\"top\":{\"field\":\"gia\"},\"width\":{\"value\":0.8},\"x\":{\"field\":\"so_do\"}},\"id\":\"1856\",\"type\":\"VBar\"},{\"attributes\":{},\"id\":\"1862\",\"type\":\"AllLabels\"},{\"attributes\":{},\"id\":\"1852\",\"type\":\"Selection\"},{\"attributes\":{\"callback\":null,\"renderers\":[{\"id\":\"1857\"}],\"tags\":[\"hv_created\"],\"tooltips\":[[\"so_do\",\"@{so_do}\"],[\"gia\",\"@{gia}\"]]},\"id\":\"1821\",\"type\":\"HoverTool\"},{\"attributes\":{},\"id\":\"1832\",\"type\":\"CategoricalTicker\"},{\"attributes\":{},\"id\":\"1829\",\"type\":\"LinearScale\"},{\"attributes\":{},\"id\":\"1861\",\"type\":\"CategoricalTickFormatter\"},{\"attributes\":{\"end\":8678.411337217882,\"reset_end\":8678.411337217882,\"reset_start\":0.0,\"tags\":[[[\"gia\",\"gia\",null]]]},\"id\":\"1820\",\"type\":\"Range1d\"},{\"attributes\":{\"axis_label\":\"gia\",\"coordinates\":null,\"formatter\":{\"id\":\"1864\"},\"group\":null,\"major_label_policy\":{\"id\":\"1865\"},\"ticker\":{\"id\":\"1835\"}},\"id\":\"1834\",\"type\":\"LinearAxis\"},{\"attributes\":{},\"id\":\"1873\",\"type\":\"UnionRenderers\"},{\"attributes\":{\"axis_label\":\"so_do\",\"coordinates\":null,\"formatter\":{\"id\":\"1861\"},\"group\":null,\"major_label_policy\":{\"id\":\"1862\"},\"ticker\":{\"id\":\"1832\"}},\"id\":\"1831\",\"type\":\"CategoricalAxis\"},{\"attributes\":{},\"id\":\"1835\",\"type\":\"BasicTicker\"}],\"root_ids\":[\"1811\",\"1906\"]},\"title\":\"Bokeh Application\",\"version\":\"2.4.3\"}};\n",
       "    var render_items = [{\"docid\":\"1cf32bf1-9eb3-45f1-b812-08ad504c6d49\",\"root_ids\":[\"1811\"],\"roots\":{\"1811\":\"48b92970-08ce-4956-866e-a1401f5bcfaa\"}}];\n",
       "    root.Bokeh.embed.embed_items_notebook(docs_json, render_items);\n",
       "  }\n",
       "  if (root.Bokeh !== undefined && root.Bokeh.Panel !== undefined && ( root['Tabulator'] !== undefined)) {\n",
       "    embed_document(root);\n",
       "  } else {\n",
       "    var attempts = 0;\n",
       "    var timer = setInterval(function(root) {\n",
       "      if (root.Bokeh !== undefined && root.Bokeh.Panel !== undefined && (root['Tabulator'] !== undefined)) {\n",
       "        clearInterval(timer);\n",
       "        embed_document(root);\n",
       "      } else if (document.readyState == \"complete\") {\n",
       "        attempts++;\n",
       "        if (attempts > 200) {\n",
       "          clearInterval(timer);\n",
       "          console.log(\"Bokeh: ERROR: Unable to run BokehJS code because BokehJS library is missing\");\n",
       "        }\n",
       "      }\n",
       "    }, 25, root)\n",
       "  }\n",
       "})(window);</script>"
      ],
      "text/plain": [
       "<hvplot.interactive.Interactive at 0x2b279c7f820>"
      ]
     },
     "execution_count": 30,
     "metadata": {
      "application/vnd.holoviews_exec.v0+json": {
       "id": "1811"
      }
     },
     "output_type": "execute_result"
    }
   ],
   "source": [
    "gia_sodo_plot = gia_sodo.hvplot(kind='bar', x='so_do', y='gia',line_width=2, title=\"Biến đổi trung bình giá nhà theo quận\")\n",
    "gia_sodo_plot"
   ]
  },
  {
   "cell_type": "code",
   "execution_count": 46,
   "id": "fe145ceb",
   "metadata": {},
   "outputs": [
    {
     "data": {},
     "metadata": {},
     "output_type": "display_data"
    },
    {
     "data": {
      "application/vnd.holoviews_exec.v0+json": "",
      "text/html": [
       "<div id='15205'>\n",
       "  <div class=\"bk-root\" id=\"680a80ce-cc90-47ce-998a-71c24bced81f\" data-root-id=\"15205\"></div>\n",
       "</div>\n",
       "<script type=\"application/javascript\">(function(root) {\n",
       "  function embed_document(root) {\n",
       "    var docs_json = {\"bb311cc1-5d79-49e9-ac07-2cd1cc20cb35\":{\"defs\":[{\"extends\":null,\"module\":null,\"name\":\"ReactiveHTML1\",\"overrides\":[],\"properties\":[]},{\"extends\":null,\"module\":null,\"name\":\"FlexBox1\",\"overrides\":[],\"properties\":[{\"default\":\"flex-start\",\"kind\":null,\"name\":\"align_content\"},{\"default\":\"flex-start\",\"kind\":null,\"name\":\"align_items\"},{\"default\":\"row\",\"kind\":null,\"name\":\"flex_direction\"},{\"default\":\"wrap\",\"kind\":null,\"name\":\"flex_wrap\"},{\"default\":\"flex-start\",\"kind\":null,\"name\":\"justify_content\"}]},{\"extends\":null,\"module\":null,\"name\":\"GridStack1\",\"overrides\":[],\"properties\":[{\"default\":\"warn\",\"kind\":null,\"name\":\"mode\"},{\"default\":null,\"kind\":null,\"name\":\"ncols\"},{\"default\":null,\"kind\":null,\"name\":\"nrows\"},{\"default\":true,\"kind\":null,\"name\":\"allow_resize\"},{\"default\":true,\"kind\":null,\"name\":\"allow_drag\"},{\"default\":[],\"kind\":null,\"name\":\"state\"}]},{\"extends\":null,\"module\":null,\"name\":\"click1\",\"overrides\":[],\"properties\":[{\"default\":\"\",\"kind\":null,\"name\":\"terminal_output\"},{\"default\":\"\",\"kind\":null,\"name\":\"debug_name\"},{\"default\":0,\"kind\":null,\"name\":\"clears\"}]},{\"extends\":null,\"module\":null,\"name\":\"NotificationAreaBase1\",\"overrides\":[],\"properties\":[{\"default\":\"bottom-right\",\"kind\":null,\"name\":\"position\"},{\"default\":0,\"kind\":null,\"name\":\"_clear\"}]},{\"extends\":null,\"module\":null,\"name\":\"NotificationArea1\",\"overrides\":[],\"properties\":[{\"default\":[],\"kind\":null,\"name\":\"notifications\"},{\"default\":\"bottom-right\",\"kind\":null,\"name\":\"position\"},{\"default\":0,\"kind\":null,\"name\":\"_clear\"},{\"default\":[{\"background\":\"#ffc107\",\"icon\":{\"className\":\"fas fa-exclamation-triangle\",\"color\":\"white\",\"tagName\":\"i\"},\"type\":\"warning\"},{\"background\":\"#007bff\",\"icon\":{\"className\":\"fas fa-info-circle\",\"color\":\"white\",\"tagName\":\"i\"},\"type\":\"info\"}],\"kind\":null,\"name\":\"types\"}]},{\"extends\":null,\"module\":null,\"name\":\"Notification\",\"overrides\":[],\"properties\":[{\"default\":null,\"kind\":null,\"name\":\"background\"},{\"default\":3000,\"kind\":null,\"name\":\"duration\"},{\"default\":null,\"kind\":null,\"name\":\"icon\"},{\"default\":\"\",\"kind\":null,\"name\":\"message\"},{\"default\":null,\"kind\":null,\"name\":\"notification_type\"},{\"default\":false,\"kind\":null,\"name\":\"_destroyed\"}]},{\"extends\":null,\"module\":null,\"name\":\"TemplateActions1\",\"overrides\":[],\"properties\":[{\"default\":0,\"kind\":null,\"name\":\"open_modal\"},{\"default\":0,\"kind\":null,\"name\":\"close_modal\"}]},{\"extends\":null,\"module\":null,\"name\":\"MaterialTemplateActions1\",\"overrides\":[],\"properties\":[{\"default\":0,\"kind\":null,\"name\":\"open_modal\"},{\"default\":0,\"kind\":null,\"name\":\"close_modal\"}]}],\"roots\":{\"references\":[{\"attributes\":{\"margin\":[5,5,5,5],\"name\":\"DataFrame31683\",\"text\":\"&lt;table border=&quot;0&quot; class=&quot;dataframe panel-df&quot;&gt;\\n  &lt;thead&gt;\\n    &lt;tr style=&quot;text-align: right;&quot;&gt;\\n      &lt;th&gt;&lt;/th&gt;\\n      &lt;th&gt;do_rong_duong_ml&lt;/th&gt;\\n      &lt;th&gt;gia&lt;/th&gt;\\n    &lt;/tr&gt;\\n  &lt;/thead&gt;\\n  &lt;tbody&gt;\\n    &lt;tr&gt;\\n      &lt;th&gt;0&lt;/th&gt;\\n      &lt;td&gt;M\\u1eb7t ph\\u1ed1 - M\\u1eb7t \\u0111\\u01b0\\u1eddng&lt;/td&gt;\\n      &lt;td&gt;12875.817297&lt;/td&gt;\\n    &lt;/tr&gt;\\n    &lt;tr&gt;\\n      &lt;th&gt;1&lt;/th&gt;\\n      &lt;td&gt;Ng\\u00f5 1 \\u00f4 t\\u00f4&lt;/td&gt;\\n      &lt;td&gt;4542.196078&lt;/td&gt;\\n    &lt;/tr&gt;\\n    &lt;tr&gt;\\n      &lt;th&gt;2&lt;/th&gt;\\n      &lt;td&gt;Ng\\u00f5 2 \\u00f4 t\\u00f4 tr\\u00e1nh&lt;/td&gt;\\n      &lt;td&gt;7104.140371&lt;/td&gt;\\n    &lt;/tr&gt;\\n    &lt;tr&gt;\\n      &lt;th&gt;3&lt;/th&gt;\\n      &lt;td&gt;Ng\\u00f5 3 \\u00f4 t\\u00f4 tr\\u00e1nh&lt;/td&gt;\\n      &lt;td&gt;7680.895753&lt;/td&gt;\\n    &lt;/tr&gt;\\n    &lt;tr&gt;\\n      &lt;th&gt;4&lt;/th&gt;\\n      &lt;td&gt;Ng\\u00f5 4 \\u00f4 t\\u00f4 tr\\u00e1nh&lt;/td&gt;\\n      &lt;td&gt;11208.229651&lt;/td&gt;\\n    &lt;/tr&gt;\\n    &lt;tr&gt;\\n      &lt;th&gt;5&lt;/th&gt;\\n      &lt;td&gt;Ng\\u00f5 4 \\u00f4 t\\u00f4 tr\\u1edf l\\u00ean&lt;/td&gt;\\n      &lt;td&gt;13878.152301&lt;/td&gt;\\n    &lt;/tr&gt;\\n    &lt;tr&gt;\\n      &lt;th&gt;6&lt;/th&gt;\\n      &lt;td&gt;Ng\\u00f5 ng\\u00e1ch&lt;/td&gt;\\n      &lt;td&gt;3982.986486&lt;/td&gt;\\n    &lt;/tr&gt;\\n    &lt;tr&gt;\\n      &lt;th&gt;7&lt;/th&gt;\\n      &lt;td&gt;kh\\u00f4ng&lt;/td&gt;\\n      &lt;td&gt;3954.393964&lt;/td&gt;\\n    &lt;/tr&gt;\\n  &lt;/tbody&gt;\\n&lt;/table&gt;\"},\"id\":\"15214\",\"type\":\"panel.models.markup.HTML\"},{\"attributes\":{\"end\":33600,\"margin\":[5,10,5,10],\"start\":1,\"step\":5,\"title\":\"Gi\\u00e1 nh\\u1ecf nh\\u1ea5t slider\",\"value\":1},\"id\":\"15210\",\"type\":\"Slider\"},{\"attributes\":{\"client_comm_id\":\"f9b1c4ffdf284e819f680cd21c8b2d45\",\"comm_id\":\"ba3692e649134b7f9504edc177c08eab\",\"plot_id\":\"15205\"},\"id\":\"15215\",\"type\":\"panel.models.comm_manager.CommManager\"},{\"attributes\":{\"children\":[{\"id\":\"15207\"},{\"id\":\"15213\"}],\"margin\":[0,0,0,0],\"name\":\"Column31687\"},\"id\":\"15206\",\"type\":\"Column\"},{\"attributes\":{\"children\":[{\"id\":\"15206\"}],\"margin\":[0,0,0,0],\"name\":\"Row31688\"},\"id\":\"15205\",\"type\":\"Row\"},{\"attributes\":{\"children\":[{\"id\":\"15208\"},{\"id\":\"15212\"}],\"margin\":[0,0,0,0],\"name\":\"Row31686\"},\"id\":\"15207\",\"type\":\"Row\"},{\"attributes\":{\"end\":33600,\"margin\":[5,10,5,10],\"start\":1,\"step\":5,\"title\":\"Gi\\u00e1 nh\\u1ecf nh\\u1ea5t slider\",\"value\":33600},\"id\":\"15209\",\"type\":\"Slider\"},{\"attributes\":{\"margin\":[5,5,5,5],\"name\":\"HSpacer31685\",\"sizing_mode\":\"stretch_width\"},\"id\":\"15212\",\"type\":\"Spacer\"},{\"attributes\":{\"children\":[{\"id\":\"15209\"},{\"id\":\"15210\"},{\"id\":\"15211\"}],\"margin\":[0,0,0,0],\"name\":\"Column31650\"},\"id\":\"15208\",\"type\":\"Column\"},{\"attributes\":{\"margin\":[5,10,5,10],\"options\":[\"KX\\u0110\",\"T\\u00e2y B\\u1eafc\",\"Nam\",\"\\u0110\\u00f4ng\",\"\\u0110\\u00f4ng Nam\",\"T\\u00e2y\",\"B\\u1eafc\",\"\\u0110\\u00f4ng nam\",\"\\u0110\\u00f4ng B\\u1eafc\",\"T\\u00e2y Nam\"],\"value\":\"KX\\u0110\"},\"id\":\"15211\",\"type\":\"panel.models.widgets.CustomSelect\"},{\"attributes\":{\"children\":[{\"id\":\"15214\"}],\"margin\":[0,0,0,0],\"name\":\"Row31655\"},\"id\":\"15213\",\"type\":\"Row\"}],\"root_ids\":[\"15205\",\"15215\"]},\"title\":\"Bokeh Application\",\"version\":\"2.4.3\"}};\n",
       "    var render_items = [{\"docid\":\"bb311cc1-5d79-49e9-ac07-2cd1cc20cb35\",\"root_ids\":[\"15205\"],\"roots\":{\"15205\":\"680a80ce-cc90-47ce-998a-71c24bced81f\"}}];\n",
       "    root.Bokeh.embed.embed_items_notebook(docs_json, render_items);\n",
       "  }\n",
       "  if (root.Bokeh !== undefined && root.Bokeh.Panel !== undefined && ( root['Tabulator'] !== undefined)) {\n",
       "    embed_document(root);\n",
       "  } else {\n",
       "    var attempts = 0;\n",
       "    var timer = setInterval(function(root) {\n",
       "      if (root.Bokeh !== undefined && root.Bokeh.Panel !== undefined && (root['Tabulator'] !== undefined)) {\n",
       "        clearInterval(timer);\n",
       "        embed_document(root);\n",
       "      } else if (document.readyState == \"complete\") {\n",
       "        attempts++;\n",
       "        if (attempts > 200) {\n",
       "          clearInterval(timer);\n",
       "          console.log(\"Bokeh: ERROR: Unable to run BokehJS code because BokehJS library is missing\");\n",
       "        }\n",
       "      }\n",
       "    }, 25, root)\n",
       "  }\n",
       "})(window);</script>"
      ],
      "text/plain": [
       "<hvplot.interactive.Interactive at 0x2b27a10c2e0>"
      ]
     },
     "execution_count": 46,
     "metadata": {
      "application/vnd.holoviews_exec.v0+json": {
       "id": "15205"
      }
     },
     "output_type": "execute_result"
    }
   ],
   "source": [
    "gia_duong = ( \n",
    "    idf[(idf.gia <= gia_lon_nhat_slider) & \n",
    "        (idf.gia >= gia_nho_nhat_slider) &\n",
    "        (idf.huong_nha == huongnha_combobox)]\n",
    "    .groupby(['do_rong_duong_ml'])['gia'].mean()\n",
    "    .to_frame()\n",
    "    .reset_index()  \n",
    "    .reset_index(drop=True)\n",
    ") \n",
    "gia_duong"
   ]
  },
  {
   "cell_type": "code",
   "execution_count": 47,
   "id": "4db12ce8",
   "metadata": {},
   "outputs": [
    {
     "data": {},
     "metadata": {},
     "output_type": "display_data"
    },
    {
     "data": {},
     "metadata": {},
     "output_type": "display_data"
    },
    {
     "data": {
      "application/vnd.holoviews_exec.v0+json": "",
      "text/html": [
       "<div id='15216'>\n",
       "  <div class=\"bk-root\" id=\"ad1a83e0-210b-4a82-b09d-99852a510149\" data-root-id=\"15216\"></div>\n",
       "</div>\n",
       "<script type=\"application/javascript\">(function(root) {\n",
       "  function embed_document(root) {\n",
       "    var docs_json = {\"5cbfb83a-5984-48ea-ad7b-ea5ab1ebf0e1\":{\"defs\":[{\"extends\":null,\"module\":null,\"name\":\"ReactiveHTML1\",\"overrides\":[],\"properties\":[]},{\"extends\":null,\"module\":null,\"name\":\"FlexBox1\",\"overrides\":[],\"properties\":[{\"default\":\"flex-start\",\"kind\":null,\"name\":\"align_content\"},{\"default\":\"flex-start\",\"kind\":null,\"name\":\"align_items\"},{\"default\":\"row\",\"kind\":null,\"name\":\"flex_direction\"},{\"default\":\"wrap\",\"kind\":null,\"name\":\"flex_wrap\"},{\"default\":\"flex-start\",\"kind\":null,\"name\":\"justify_content\"}]},{\"extends\":null,\"module\":null,\"name\":\"GridStack1\",\"overrides\":[],\"properties\":[{\"default\":\"warn\",\"kind\":null,\"name\":\"mode\"},{\"default\":null,\"kind\":null,\"name\":\"ncols\"},{\"default\":null,\"kind\":null,\"name\":\"nrows\"},{\"default\":true,\"kind\":null,\"name\":\"allow_resize\"},{\"default\":true,\"kind\":null,\"name\":\"allow_drag\"},{\"default\":[],\"kind\":null,\"name\":\"state\"}]},{\"extends\":null,\"module\":null,\"name\":\"click1\",\"overrides\":[],\"properties\":[{\"default\":\"\",\"kind\":null,\"name\":\"terminal_output\"},{\"default\":\"\",\"kind\":null,\"name\":\"debug_name\"},{\"default\":0,\"kind\":null,\"name\":\"clears\"}]},{\"extends\":null,\"module\":null,\"name\":\"NotificationAreaBase1\",\"overrides\":[],\"properties\":[{\"default\":\"bottom-right\",\"kind\":null,\"name\":\"position\"},{\"default\":0,\"kind\":null,\"name\":\"_clear\"}]},{\"extends\":null,\"module\":null,\"name\":\"NotificationArea1\",\"overrides\":[],\"properties\":[{\"default\":[],\"kind\":null,\"name\":\"notifications\"},{\"default\":\"bottom-right\",\"kind\":null,\"name\":\"position\"},{\"default\":0,\"kind\":null,\"name\":\"_clear\"},{\"default\":[{\"background\":\"#ffc107\",\"icon\":{\"className\":\"fas fa-exclamation-triangle\",\"color\":\"white\",\"tagName\":\"i\"},\"type\":\"warning\"},{\"background\":\"#007bff\",\"icon\":{\"className\":\"fas fa-info-circle\",\"color\":\"white\",\"tagName\":\"i\"},\"type\":\"info\"}],\"kind\":null,\"name\":\"types\"}]},{\"extends\":null,\"module\":null,\"name\":\"Notification\",\"overrides\":[],\"properties\":[{\"default\":null,\"kind\":null,\"name\":\"background\"},{\"default\":3000,\"kind\":null,\"name\":\"duration\"},{\"default\":null,\"kind\":null,\"name\":\"icon\"},{\"default\":\"\",\"kind\":null,\"name\":\"message\"},{\"default\":null,\"kind\":null,\"name\":\"notification_type\"},{\"default\":false,\"kind\":null,\"name\":\"_destroyed\"}]},{\"extends\":null,\"module\":null,\"name\":\"TemplateActions1\",\"overrides\":[],\"properties\":[{\"default\":0,\"kind\":null,\"name\":\"open_modal\"},{\"default\":0,\"kind\":null,\"name\":\"close_modal\"}]},{\"extends\":null,\"module\":null,\"name\":\"MaterialTemplateActions1\",\"overrides\":[],\"properties\":[{\"default\":0,\"kind\":null,\"name\":\"open_modal\"},{\"default\":0,\"kind\":null,\"name\":\"close_modal\"}]}],\"roots\":{\"references\":[{\"attributes\":{},\"id\":\"15241\",\"type\":\"BasicTicker\"},{\"attributes\":{},\"id\":\"15246\",\"type\":\"WheelZoomTool\"},{\"attributes\":{\"children\":[{\"id\":\"15219\"},{\"id\":\"15223\"}],\"margin\":[0,0,0,0],\"name\":\"Row32044\"},\"id\":\"15218\",\"type\":\"Row\"},{\"attributes\":{},\"id\":\"15244\",\"type\":\"SaveTool\"},{\"attributes\":{\"children\":[{\"id\":\"15220\"},{\"id\":\"15221\"},{\"id\":\"15222\"}],\"margin\":[0,0,0,0],\"name\":\"Column31875\"},\"id\":\"15219\",\"type\":\"Column\"},{\"attributes\":{\"overlay\":{\"id\":\"15249\"}},\"id\":\"15247\",\"type\":\"BoxZoomTool\"},{\"attributes\":{},\"id\":\"15248\",\"type\":\"ResetTool\"},{\"attributes\":{\"margin\":[5,5,5,5],\"name\":\"HSpacer32043\",\"sizing_mode\":\"stretch_width\"},\"id\":\"15223\",\"type\":\"Spacer\"},{\"attributes\":{\"children\":[{\"id\":\"15217\"}],\"margin\":[0,0,0,0],\"name\":\"Row32046\"},\"id\":\"15216\",\"type\":\"Row\"},{\"attributes\":{\"axis\":{\"id\":\"15237\"},\"coordinates\":null,\"grid_line_color\":null,\"group\":null,\"ticker\":null},\"id\":\"15239\",\"type\":\"Grid\"},{\"attributes\":{\"bottom_units\":\"screen\",\"coordinates\":null,\"fill_alpha\":0.5,\"fill_color\":\"lightgrey\",\"group\":null,\"left_units\":\"screen\",\"level\":\"overlay\",\"line_alpha\":1.0,\"line_color\":\"black\",\"line_dash\":[4,4],\"line_width\":2,\"right_units\":\"screen\",\"syncable\":false,\"top_units\":\"screen\"},\"id\":\"15249\",\"type\":\"BoxAnnotation\"},{\"attributes\":{},\"id\":\"15233\",\"type\":\"CategoricalScale\"},{\"attributes\":{\"children\":[{\"id\":\"15228\"}],\"margin\":[0,0,0,0],\"name\":\"Row31880\"},\"id\":\"15224\",\"type\":\"Row\"},{\"attributes\":{},\"id\":\"15279\",\"type\":\"UnionRenderers\"},{\"attributes\":{\"tools\":[{\"id\":\"15227\"},{\"id\":\"15244\"},{\"id\":\"15245\"},{\"id\":\"15246\"},{\"id\":\"15247\"},{\"id\":\"15248\"}]},\"id\":\"15250\",\"type\":\"Toolbar\"},{\"attributes\":{},\"id\":\"15270\",\"type\":\"BasicTickFormatter\"},{\"attributes\":{\"children\":[{\"id\":\"15218\"},{\"id\":\"15224\"}],\"margin\":[0,0,0,0],\"name\":\"Column32045\"},\"id\":\"15217\",\"type\":\"Column\"},{\"attributes\":{\"end\":33600,\"margin\":[5,10,5,10],\"start\":1,\"step\":5,\"title\":\"Gi\\u00e1 nh\\u1ecf nh\\u1ea5t slider\",\"value\":33600},\"id\":\"15220\",\"type\":\"Slider\"},{\"attributes\":{},\"id\":\"15268\",\"type\":\"AllLabels\"},{\"attributes\":{\"coordinates\":null,\"group\":null,\"text\":\"Bi\\u1ebfn \\u0111\\u1ed5i trung b\\u00ecnh gi\\u00e1 nh\\u00e0 theo lo\\u1ea1i \\u0111\\u1ed9 r\\u1ed3ng \\u0111\\u01b0\\u1eddng\",\"text_color\":\"black\",\"text_font_size\":\"12pt\"},\"id\":\"15229\",\"type\":\"Title\"},{\"attributes\":{\"bottom\":{\"value\":0},\"fill_alpha\":{\"value\":1.0},\"fill_color\":{\"value\":\"#30a2da\"},\"hatch_alpha\":{\"value\":1.0},\"hatch_color\":{\"value\":\"#30a2da\"},\"hatch_scale\":{\"value\":12.0},\"hatch_weight\":{\"value\":1.0},\"line_alpha\":{\"value\":1.0},\"line_cap\":{\"value\":\"butt\"},\"line_color\":{\"value\":\"black\"},\"line_dash\":{\"value\":[]},\"line_dash_offset\":{\"value\":0},\"line_join\":{\"value\":\"bevel\"},\"line_width\":{\"value\":2},\"top\":{\"field\":\"gia\"},\"width\":{\"value\":0.8},\"x\":{\"field\":\"do_rong_duong_ml\"}},\"id\":\"15265\",\"type\":\"VBar\"},{\"attributes\":{\"factors\":[\"M\\u1eb7t ph\\u1ed1 - M\\u1eb7t \\u0111\\u01b0\\u1eddng\",\"Ng\\u00f5 1 \\u00f4 t\\u00f4\",\"Ng\\u00f5 2 \\u00f4 t\\u00f4 tr\\u00e1nh\",\"Ng\\u00f5 3 \\u00f4 t\\u00f4 tr\\u00e1nh\",\"Ng\\u00f5 4 \\u00f4 t\\u00f4 tr\\u00e1nh\",\"Ng\\u00f5 4 \\u00f4 t\\u00f4 tr\\u1edf l\\u00ean\",\"Ng\\u00f5 ng\\u00e1ch\",\"kh\\u00f4ng\"],\"tags\":[[[\"do_rong_duong_ml\",\"do_rong_duong_ml\",null]]]},\"id\":\"15225\",\"type\":\"FactorRange\"},{\"attributes\":{\"source\":{\"id\":\"15257\"}},\"id\":\"15264\",\"type\":\"CDSView\"},{\"attributes\":{\"fill_alpha\":{\"value\":0.2},\"fill_color\":{\"value\":\"#30a2da\"},\"hatch_alpha\":{\"value\":0.2},\"hatch_color\":{\"value\":\"#30a2da\"},\"line_alpha\":{\"value\":0.2},\"line_width\":{\"value\":2},\"top\":{\"field\":\"gia\"},\"width\":{\"value\":0.8},\"x\":{\"field\":\"do_rong_duong_ml\"}},\"id\":\"15262\",\"type\":\"VBar\"},{\"attributes\":{\"data\":{\"do_rong_duong_ml\":[\"M\\u1eb7t ph\\u1ed1 - M\\u1eb7t \\u0111\\u01b0\\u1eddng\",\"Ng\\u00f5 1 \\u00f4 t\\u00f4\",\"Ng\\u00f5 2 \\u00f4 t\\u00f4 tr\\u00e1nh\",\"Ng\\u00f5 3 \\u00f4 t\\u00f4 tr\\u00e1nh\",\"Ng\\u00f5 4 \\u00f4 t\\u00f4 tr\\u00e1nh\",\"Ng\\u00f5 4 \\u00f4 t\\u00f4 tr\\u1edf l\\u00ean\",\"Ng\\u00f5 ng\\u00e1ch\",\"kh\\u00f4ng\"],\"gia\":{\"__ndarray__\":\"y30xneglyUAyMjIyMr6xQNtwXu8jwLtAjtAPUOUAvkDWlDVlHeTFQC2Hm34TG8tA0LrBFPkdr0BYBrC1yeSuQA==\",\"dtype\":\"float64\",\"order\":\"little\",\"shape\":[8]}},\"selected\":{\"id\":\"15258\"},\"selection_policy\":{\"id\":\"15279\"}},\"id\":\"15257\",\"type\":\"ColumnDataSource\"},{\"attributes\":{\"end\":33600,\"margin\":[5,10,5,10],\"start\":1,\"step\":5,\"title\":\"Gi\\u00e1 nh\\u1ecf nh\\u1ea5t slider\",\"value\":1},\"id\":\"15221\",\"type\":\"Slider\"},{\"attributes\":{\"margin\":[5,10,5,10],\"options\":[\"KX\\u0110\",\"T\\u00e2y B\\u1eafc\",\"Nam\",\"\\u0110\\u00f4ng\",\"\\u0110\\u00f4ng Nam\",\"T\\u00e2y\",\"B\\u1eafc\",\"\\u0110\\u00f4ng nam\",\"\\u0110\\u00f4ng B\\u1eafc\",\"T\\u00e2y Nam\"],\"value\":\"KX\\u0110\"},\"id\":\"15222\",\"type\":\"panel.models.widgets.CustomSelect\"},{\"attributes\":{\"coordinates\":null,\"data_source\":{\"id\":\"15257\"},\"glyph\":{\"id\":\"15260\"},\"group\":null,\"hover_glyph\":null,\"muted_glyph\":{\"id\":\"15262\"},\"nonselection_glyph\":{\"id\":\"15261\"},\"selection_glyph\":{\"id\":\"15265\"},\"view\":{\"id\":\"15264\"}},\"id\":\"15263\",\"type\":\"GlyphRenderer\"},{\"attributes\":{\"below\":[{\"id\":\"15237\"}],\"center\":[{\"id\":\"15239\"},{\"id\":\"15243\"}],\"height\":300,\"left\":[{\"id\":\"15240\"}],\"margin\":[5,5,5,5],\"min_border_bottom\":10,\"min_border_left\":10,\"min_border_right\":10,\"min_border_top\":10,\"renderers\":[{\"id\":\"15263\"}],\"sizing_mode\":\"fixed\",\"title\":{\"id\":\"15229\"},\"toolbar\":{\"id\":\"15250\"},\"width\":700,\"x_range\":{\"id\":\"15225\"},\"x_scale\":{\"id\":\"15233\"},\"y_range\":{\"id\":\"15226\"},\"y_scale\":{\"id\":\"15235\"}},\"id\":\"15228\",\"subtype\":\"Figure\",\"type\":\"Plot\"},{\"attributes\":{\"fill_alpha\":{\"value\":0.1},\"fill_color\":{\"value\":\"#30a2da\"},\"hatch_alpha\":{\"value\":0.1},\"hatch_color\":{\"value\":\"#30a2da\"},\"line_alpha\":{\"value\":0.1},\"line_width\":{\"value\":2},\"top\":{\"field\":\"gia\"},\"width\":{\"value\":0.8},\"x\":{\"field\":\"do_rong_duong_ml\"}},\"id\":\"15261\",\"type\":\"VBar\"},{\"attributes\":{},\"id\":\"15258\",\"type\":\"Selection\"},{\"attributes\":{\"callback\":null,\"renderers\":[{\"id\":\"15263\"}],\"tags\":[\"hv_created\"],\"tooltips\":[[\"do_rong_duong_ml\",\"@{do_rong_duong_ml}\"],[\"gia\",\"@{gia}\"]]},\"id\":\"15227\",\"type\":\"HoverTool\"},{\"attributes\":{},\"id\":\"15238\",\"type\":\"CategoricalTicker\"},{\"attributes\":{},\"id\":\"15267\",\"type\":\"CategoricalTickFormatter\"},{\"attributes\":{},\"id\":\"15235\",\"type\":\"LinearScale\"},{\"attributes\":{},\"id\":\"15271\",\"type\":\"AllLabels\"},{\"attributes\":{\"end\":14870.528134951617,\"reset_end\":14870.528134951617,\"reset_start\":0.0,\"tags\":[[[\"gia\",\"gia\",null]]]},\"id\":\"15226\",\"type\":\"Range1d\"},{\"attributes\":{},\"id\":\"15245\",\"type\":\"PanTool\"},{\"attributes\":{\"axis_label\":\"do_rong_duong_ml\",\"coordinates\":null,\"formatter\":{\"id\":\"15267\"},\"group\":null,\"major_label_orientation\":0.7853981633974483,\"major_label_policy\":{\"id\":\"15268\"},\"ticker\":{\"id\":\"15238\"}},\"id\":\"15237\",\"type\":\"CategoricalAxis\"},{\"attributes\":{\"axis\":{\"id\":\"15240\"},\"coordinates\":null,\"dimension\":1,\"grid_line_color\":null,\"group\":null,\"ticker\":null},\"id\":\"15243\",\"type\":\"Grid\"},{\"attributes\":{\"fill_color\":{\"value\":\"#30a2da\"},\"hatch_color\":{\"value\":\"#30a2da\"},\"line_width\":{\"value\":2},\"top\":{\"field\":\"gia\"},\"width\":{\"value\":0.8},\"x\":{\"field\":\"do_rong_duong_ml\"}},\"id\":\"15260\",\"type\":\"VBar\"},{\"attributes\":{\"client_comm_id\":\"96312774f03a47d587e9292f9a8b43a6\",\"comm_id\":\"c2293f7ab1da4dd09a02eec28c4b21bf\",\"plot_id\":\"15216\"},\"id\":\"15312\",\"type\":\"panel.models.comm_manager.CommManager\"},{\"attributes\":{\"axis_label\":\"gia\",\"coordinates\":null,\"formatter\":{\"id\":\"15270\"},\"group\":null,\"major_label_policy\":{\"id\":\"15271\"},\"ticker\":{\"id\":\"15241\"}},\"id\":\"15240\",\"type\":\"LinearAxis\"}],\"root_ids\":[\"15216\",\"15312\"]},\"title\":\"Bokeh Application\",\"version\":\"2.4.3\"}};\n",
       "    var render_items = [{\"docid\":\"5cbfb83a-5984-48ea-ad7b-ea5ab1ebf0e1\",\"root_ids\":[\"15216\"],\"roots\":{\"15216\":\"ad1a83e0-210b-4a82-b09d-99852a510149\"}}];\n",
       "    root.Bokeh.embed.embed_items_notebook(docs_json, render_items);\n",
       "  }\n",
       "  if (root.Bokeh !== undefined && root.Bokeh.Panel !== undefined && ( root['Tabulator'] !== undefined)) {\n",
       "    embed_document(root);\n",
       "  } else {\n",
       "    var attempts = 0;\n",
       "    var timer = setInterval(function(root) {\n",
       "      if (root.Bokeh !== undefined && root.Bokeh.Panel !== undefined && (root['Tabulator'] !== undefined)) {\n",
       "        clearInterval(timer);\n",
       "        embed_document(root);\n",
       "      } else if (document.readyState == \"complete\") {\n",
       "        attempts++;\n",
       "        if (attempts > 200) {\n",
       "          clearInterval(timer);\n",
       "          console.log(\"Bokeh: ERROR: Unable to run BokehJS code because BokehJS library is missing\");\n",
       "        }\n",
       "      }\n",
       "    }, 25, root)\n",
       "  }\n",
       "})(window);</script>"
      ],
      "text/plain": [
       "<hvplot.interactive.Interactive at 0x2b27a04f520>"
      ]
     },
     "execution_count": 47,
     "metadata": {
      "application/vnd.holoviews_exec.v0+json": {
       "id": "15216"
      }
     },
     "output_type": "execute_result"
    }
   ],
   "source": [
    "gia_duong_plot = gia_duong.hvplot(kind='bar', x='do_rong_duong_ml', y='gia',line_width=2, title=\"Biến đổi trung bình giá nhà theo loại độ rồng đường\",rot=45)\n",
    "gia_duong_plot"
   ]
  },
  {
   "cell_type": "code",
   "execution_count": 48,
   "id": "d2cf8a88",
   "metadata": {},
   "outputs": [
    {
     "data": {},
     "metadata": {},
     "output_type": "display_data"
    },
    {
     "data": {
      "application/vnd.holoviews_exec.v0+json": "",
      "text/html": [
       "<div id='15363'>\n",
       "  <div class=\"bk-root\" id=\"10703e20-b92f-4960-ad24-8c278e31b42e\" data-root-id=\"15363\"></div>\n",
       "</div>\n",
       "<script type=\"application/javascript\">(function(root) {\n",
       "  function embed_document(root) {\n",
       "    var docs_json = {\"183db3a4-fed3-466c-849e-4b667652d4ef\":{\"defs\":[{\"extends\":null,\"module\":null,\"name\":\"ReactiveHTML1\",\"overrides\":[],\"properties\":[]},{\"extends\":null,\"module\":null,\"name\":\"FlexBox1\",\"overrides\":[],\"properties\":[{\"default\":\"flex-start\",\"kind\":null,\"name\":\"align_content\"},{\"default\":\"flex-start\",\"kind\":null,\"name\":\"align_items\"},{\"default\":\"row\",\"kind\":null,\"name\":\"flex_direction\"},{\"default\":\"wrap\",\"kind\":null,\"name\":\"flex_wrap\"},{\"default\":\"flex-start\",\"kind\":null,\"name\":\"justify_content\"}]},{\"extends\":null,\"module\":null,\"name\":\"GridStack1\",\"overrides\":[],\"properties\":[{\"default\":\"warn\",\"kind\":null,\"name\":\"mode\"},{\"default\":null,\"kind\":null,\"name\":\"ncols\"},{\"default\":null,\"kind\":null,\"name\":\"nrows\"},{\"default\":true,\"kind\":null,\"name\":\"allow_resize\"},{\"default\":true,\"kind\":null,\"name\":\"allow_drag\"},{\"default\":[],\"kind\":null,\"name\":\"state\"}]},{\"extends\":null,\"module\":null,\"name\":\"click1\",\"overrides\":[],\"properties\":[{\"default\":\"\",\"kind\":null,\"name\":\"terminal_output\"},{\"default\":\"\",\"kind\":null,\"name\":\"debug_name\"},{\"default\":0,\"kind\":null,\"name\":\"clears\"}]},{\"extends\":null,\"module\":null,\"name\":\"NotificationAreaBase1\",\"overrides\":[],\"properties\":[{\"default\":\"bottom-right\",\"kind\":null,\"name\":\"position\"},{\"default\":0,\"kind\":null,\"name\":\"_clear\"}]},{\"extends\":null,\"module\":null,\"name\":\"NotificationArea1\",\"overrides\":[],\"properties\":[{\"default\":[],\"kind\":null,\"name\":\"notifications\"},{\"default\":\"bottom-right\",\"kind\":null,\"name\":\"position\"},{\"default\":0,\"kind\":null,\"name\":\"_clear\"},{\"default\":[{\"background\":\"#ffc107\",\"icon\":{\"className\":\"fas fa-exclamation-triangle\",\"color\":\"white\",\"tagName\":\"i\"},\"type\":\"warning\"},{\"background\":\"#007bff\",\"icon\":{\"className\":\"fas fa-info-circle\",\"color\":\"white\",\"tagName\":\"i\"},\"type\":\"info\"}],\"kind\":null,\"name\":\"types\"}]},{\"extends\":null,\"module\":null,\"name\":\"Notification\",\"overrides\":[],\"properties\":[{\"default\":null,\"kind\":null,\"name\":\"background\"},{\"default\":3000,\"kind\":null,\"name\":\"duration\"},{\"default\":null,\"kind\":null,\"name\":\"icon\"},{\"default\":\"\",\"kind\":null,\"name\":\"message\"},{\"default\":null,\"kind\":null,\"name\":\"notification_type\"},{\"default\":false,\"kind\":null,\"name\":\"_destroyed\"}]},{\"extends\":null,\"module\":null,\"name\":\"TemplateActions1\",\"overrides\":[],\"properties\":[{\"default\":0,\"kind\":null,\"name\":\"open_modal\"},{\"default\":0,\"kind\":null,\"name\":\"close_modal\"}]},{\"extends\":null,\"module\":null,\"name\":\"MaterialTemplateActions1\",\"overrides\":[],\"properties\":[{\"default\":0,\"kind\":null,\"name\":\"open_modal\"},{\"default\":0,\"kind\":null,\"name\":\"close_modal\"}]}],\"roots\":{\"references\":[{\"attributes\":{\"children\":[{\"id\":\"15365\"},{\"id\":\"15371\"}],\"margin\":[0,0,0,0],\"name\":\"Column32904\"},\"id\":\"15364\",\"type\":\"Column\"},{\"attributes\":{\"margin\":[5,5,5,5],\"name\":\"DataFrame32900\",\"text\":\"&lt;table border=&quot;0&quot; class=&quot;dataframe panel-df&quot;&gt;\\n  &lt;thead&gt;\\n    &lt;tr style=&quot;text-align: right;&quot;&gt;\\n      &lt;th&gt;&lt;/th&gt;\\n      &lt;th&gt;noi_that&lt;/th&gt;\\n      &lt;th&gt;gia&lt;/th&gt;\\n    &lt;/tr&gt;\\n  &lt;/thead&gt;\\n  &lt;tbody&gt;\\n    &lt;tr&gt;\\n      &lt;th&gt;0&lt;/th&gt;\\n      &lt;td&gt;cao c\\u1ea5p&lt;/td&gt;\\n      &lt;td&gt;7022.879708&lt;/td&gt;\\n    &lt;/tr&gt;\\n    &lt;tr&gt;\\n      &lt;th&gt;1&lt;/th&gt;\\n      &lt;td&gt;tr\\u1ed1ng&lt;/td&gt;\\n      &lt;td&gt;9200.889481&lt;/td&gt;\\n    &lt;/tr&gt;\\n    &lt;tr&gt;\\n      &lt;th&gt;2&lt;/th&gt;\\n      &lt;td&gt;t\\u1eb7ng&lt;/td&gt;\\n      &lt;td&gt;9076.625899&lt;/td&gt;\\n    &lt;/tr&gt;\\n    &lt;tr&gt;\\n      &lt;th&gt;3&lt;/th&gt;\\n      &lt;td&gt;\\u0111\\u1ea7y \\u0111\\u1ee7&lt;/td&gt;\\n      &lt;td&gt;5824.961083&lt;/td&gt;\\n    &lt;/tr&gt;\\n  &lt;/tbody&gt;\\n&lt;/table&gt;\"},\"id\":\"15372\",\"type\":\"panel.models.markup.HTML\"},{\"attributes\":{\"end\":33600,\"margin\":[5,10,5,10],\"start\":1,\"step\":5,\"title\":\"Gi\\u00e1 nh\\u1ecf nh\\u1ea5t slider\",\"value\":1},\"id\":\"15368\",\"type\":\"Slider\"},{\"attributes\":{\"margin\":[5,5,5,5],\"name\":\"HSpacer32902\",\"sizing_mode\":\"stretch_width\"},\"id\":\"15370\",\"type\":\"Spacer\"},{\"attributes\":{\"children\":[{\"id\":\"15367\"},{\"id\":\"15368\"},{\"id\":\"15369\"}],\"margin\":[0,0,0,0],\"name\":\"Column32867\"},\"id\":\"15366\",\"type\":\"Column\"},{\"attributes\":{\"client_comm_id\":\"b5f8c9f58153433f98fdc0d85670e91c\",\"comm_id\":\"e849795a09814ed7ad6fbfb2ec8c3007\",\"plot_id\":\"15363\"},\"id\":\"15373\",\"type\":\"panel.models.comm_manager.CommManager\"},{\"attributes\":{\"end\":33600,\"margin\":[5,10,5,10],\"start\":1,\"step\":5,\"title\":\"Gi\\u00e1 nh\\u1ecf nh\\u1ea5t slider\",\"value\":33600},\"id\":\"15367\",\"type\":\"Slider\"},{\"attributes\":{\"children\":[{\"id\":\"15366\"},{\"id\":\"15370\"}],\"margin\":[0,0,0,0],\"name\":\"Row32903\"},\"id\":\"15365\",\"type\":\"Row\"},{\"attributes\":{\"children\":[{\"id\":\"15372\"}],\"margin\":[0,0,0,0],\"name\":\"Row32872\"},\"id\":\"15371\",\"type\":\"Row\"},{\"attributes\":{\"children\":[{\"id\":\"15364\"}],\"margin\":[0,0,0,0],\"name\":\"Row32905\"},\"id\":\"15363\",\"type\":\"Row\"},{\"attributes\":{\"active\":0,\"button_type\":\"success\",\"labels\":[\"c\\u00f3\",\"kh\\u00f4ng\"],\"margin\":[5,10,5,10]},\"id\":\"15369\",\"type\":\"RadioButtonGroup\"}],\"root_ids\":[\"15363\",\"15373\"]},\"title\":\"Bokeh Application\",\"version\":\"2.4.3\"}};\n",
       "    var render_items = [{\"docid\":\"183db3a4-fed3-466c-849e-4b667652d4ef\",\"root_ids\":[\"15363\"],\"roots\":{\"15363\":\"10703e20-b92f-4960-ad24-8c278e31b42e\"}}];\n",
       "    root.Bokeh.embed.embed_items_notebook(docs_json, render_items);\n",
       "  }\n",
       "  if (root.Bokeh !== undefined && root.Bokeh.Panel !== undefined && ( root['Tabulator'] !== undefined)) {\n",
       "    embed_document(root);\n",
       "  } else {\n",
       "    var attempts = 0;\n",
       "    var timer = setInterval(function(root) {\n",
       "      if (root.Bokeh !== undefined && root.Bokeh.Panel !== undefined && (root['Tabulator'] !== undefined)) {\n",
       "        clearInterval(timer);\n",
       "        embed_document(root);\n",
       "      } else if (document.readyState == \"complete\") {\n",
       "        attempts++;\n",
       "        if (attempts > 200) {\n",
       "          clearInterval(timer);\n",
       "          console.log(\"Bokeh: ERROR: Unable to run BokehJS code because BokehJS library is missing\");\n",
       "        }\n",
       "      }\n",
       "    }, 25, root)\n",
       "  }\n",
       "})(window);</script>"
      ],
      "text/plain": [
       "<hvplot.interactive.Interactive at 0x2b2001dee00>"
      ]
     },
     "execution_count": 48,
     "metadata": {
      "application/vnd.holoviews_exec.v0+json": {
       "id": "15363"
      }
     },
     "output_type": "execute_result"
    }
   ],
   "source": [
    "gia_noithat = ( \n",
    "    idf[(idf.gia <= gia_lon_nhat_slider) & \n",
    "        (idf.gia >= gia_nho_nhat_slider) &\n",
    "        (idf.so_do ==so_do_radio)]\n",
    "    .groupby(['noi_that'])['gia'].mean()\n",
    "    .to_frame()\n",
    "    .reset_index()  \n",
    "    .reset_index(drop=True)\n",
    ") \n",
    "gia_noithat"
   ]
  },
  {
   "cell_type": "code",
   "execution_count": 49,
   "id": "57622b7b",
   "metadata": {},
   "outputs": [
    {
     "data": {},
     "metadata": {},
     "output_type": "display_data"
    },
    {
     "data": {},
     "metadata": {},
     "output_type": "display_data"
    },
    {
     "data": {
      "application/vnd.holoviews_exec.v0+json": "",
      "text/html": [
       "<div id='15380'>\n",
       "  <div class=\"bk-root\" id=\"70dc55a6-b56b-47f0-a591-a9dbb560b12a\" data-root-id=\"15380\"></div>\n",
       "</div>\n",
       "<script type=\"application/javascript\">(function(root) {\n",
       "  function embed_document(root) {\n",
       "    var docs_json = {\"f84e5d5c-b29f-46d4-b0ac-b1e72c533e8c\":{\"defs\":[{\"extends\":null,\"module\":null,\"name\":\"ReactiveHTML1\",\"overrides\":[],\"properties\":[]},{\"extends\":null,\"module\":null,\"name\":\"FlexBox1\",\"overrides\":[],\"properties\":[{\"default\":\"flex-start\",\"kind\":null,\"name\":\"align_content\"},{\"default\":\"flex-start\",\"kind\":null,\"name\":\"align_items\"},{\"default\":\"row\",\"kind\":null,\"name\":\"flex_direction\"},{\"default\":\"wrap\",\"kind\":null,\"name\":\"flex_wrap\"},{\"default\":\"flex-start\",\"kind\":null,\"name\":\"justify_content\"}]},{\"extends\":null,\"module\":null,\"name\":\"GridStack1\",\"overrides\":[],\"properties\":[{\"default\":\"warn\",\"kind\":null,\"name\":\"mode\"},{\"default\":null,\"kind\":null,\"name\":\"ncols\"},{\"default\":null,\"kind\":null,\"name\":\"nrows\"},{\"default\":true,\"kind\":null,\"name\":\"allow_resize\"},{\"default\":true,\"kind\":null,\"name\":\"allow_drag\"},{\"default\":[],\"kind\":null,\"name\":\"state\"}]},{\"extends\":null,\"module\":null,\"name\":\"click1\",\"overrides\":[],\"properties\":[{\"default\":\"\",\"kind\":null,\"name\":\"terminal_output\"},{\"default\":\"\",\"kind\":null,\"name\":\"debug_name\"},{\"default\":0,\"kind\":null,\"name\":\"clears\"}]},{\"extends\":null,\"module\":null,\"name\":\"NotificationAreaBase1\",\"overrides\":[],\"properties\":[{\"default\":\"bottom-right\",\"kind\":null,\"name\":\"position\"},{\"default\":0,\"kind\":null,\"name\":\"_clear\"}]},{\"extends\":null,\"module\":null,\"name\":\"NotificationArea1\",\"overrides\":[],\"properties\":[{\"default\":[],\"kind\":null,\"name\":\"notifications\"},{\"default\":\"bottom-right\",\"kind\":null,\"name\":\"position\"},{\"default\":0,\"kind\":null,\"name\":\"_clear\"},{\"default\":[{\"background\":\"#ffc107\",\"icon\":{\"className\":\"fas fa-exclamation-triangle\",\"color\":\"white\",\"tagName\":\"i\"},\"type\":\"warning\"},{\"background\":\"#007bff\",\"icon\":{\"className\":\"fas fa-info-circle\",\"color\":\"white\",\"tagName\":\"i\"},\"type\":\"info\"}],\"kind\":null,\"name\":\"types\"}]},{\"extends\":null,\"module\":null,\"name\":\"Notification\",\"overrides\":[],\"properties\":[{\"default\":null,\"kind\":null,\"name\":\"background\"},{\"default\":3000,\"kind\":null,\"name\":\"duration\"},{\"default\":null,\"kind\":null,\"name\":\"icon\"},{\"default\":\"\",\"kind\":null,\"name\":\"message\"},{\"default\":null,\"kind\":null,\"name\":\"notification_type\"},{\"default\":false,\"kind\":null,\"name\":\"_destroyed\"}]},{\"extends\":null,\"module\":null,\"name\":\"TemplateActions1\",\"overrides\":[],\"properties\":[{\"default\":0,\"kind\":null,\"name\":\"open_modal\"},{\"default\":0,\"kind\":null,\"name\":\"close_modal\"}]},{\"extends\":null,\"module\":null,\"name\":\"MaterialTemplateActions1\",\"overrides\":[],\"properties\":[{\"default\":0,\"kind\":null,\"name\":\"open_modal\"},{\"default\":0,\"kind\":null,\"name\":\"close_modal\"}]}],\"roots\":{\"references\":[{\"attributes\":{\"children\":[{\"id\":\"15383\"},{\"id\":\"15387\"}],\"margin\":[0,0,0,0],\"name\":\"Row33319\"},\"id\":\"15382\",\"type\":\"Row\"},{\"attributes\":{},\"id\":\"15408\",\"type\":\"SaveTool\"},{\"attributes\":{\"children\":[{\"id\":\"15382\"},{\"id\":\"15388\"}],\"margin\":[0,0,0,0],\"name\":\"Column33320\"},\"id\":\"15381\",\"type\":\"Column\"},{\"attributes\":{\"overlay\":{\"id\":\"15413\"}},\"id\":\"15411\",\"type\":\"BoxZoomTool\"},{\"attributes\":{\"children\":[{\"id\":\"15384\"},{\"id\":\"15385\"},{\"id\":\"15386\"}],\"margin\":[0,0,0,0],\"name\":\"Column33150\"},\"id\":\"15383\",\"type\":\"Column\"},{\"attributes\":{},\"id\":\"15412\",\"type\":\"ResetTool\"},{\"attributes\":{\"axis\":{\"id\":\"15401\"},\"coordinates\":null,\"grid_line_color\":null,\"group\":null,\"ticker\":null},\"id\":\"15403\",\"type\":\"Grid\"},{\"attributes\":{\"bottom_units\":\"screen\",\"coordinates\":null,\"fill_alpha\":0.5,\"fill_color\":\"lightgrey\",\"group\":null,\"left_units\":\"screen\",\"level\":\"overlay\",\"line_alpha\":1.0,\"line_color\":\"black\",\"line_dash\":[4,4],\"line_width\":2,\"right_units\":\"screen\",\"syncable\":false,\"top_units\":\"screen\"},\"id\":\"15413\",\"type\":\"BoxAnnotation\"},{\"attributes\":{},\"id\":\"15397\",\"type\":\"CategoricalScale\"},{\"attributes\":{\"children\":[{\"id\":\"15392\"}],\"margin\":[0,0,0,0],\"name\":\"Row33155\"},\"id\":\"15388\",\"type\":\"Row\"},{\"attributes\":{\"tools\":[{\"id\":\"15391\"},{\"id\":\"15408\"},{\"id\":\"15409\"},{\"id\":\"15410\"},{\"id\":\"15411\"},{\"id\":\"15412\"}]},\"id\":\"15414\",\"type\":\"Toolbar\"},{\"attributes\":{},\"id\":\"15434\",\"type\":\"BasicTickFormatter\"},{\"attributes\":{},\"id\":\"15432\",\"type\":\"AllLabels\"},{\"attributes\":{\"end\":33600,\"margin\":[5,10,5,10],\"start\":1,\"step\":5,\"title\":\"Gi\\u00e1 nh\\u1ecf nh\\u1ea5t slider\",\"value\":33600},\"id\":\"15384\",\"type\":\"Slider\"},{\"attributes\":{\"coordinates\":null,\"group\":null,\"text\":\"Bi\\u1ebfn \\u0111\\u1ed5i trung b\\u00ecnh gi\\u00e1 nh\\u00e0 theo s\\u1ee1 h\\u1eefu n\\u1ed9i th\\u1ea5t\",\"text_color\":\"black\",\"text_font_size\":\"12pt\"},\"id\":\"15393\",\"type\":\"Title\"},{\"attributes\":{\"bottom\":{\"value\":0},\"fill_alpha\":{\"value\":1.0},\"fill_color\":{\"value\":\"#30a2da\"},\"hatch_alpha\":{\"value\":1.0},\"hatch_color\":{\"value\":\"#30a2da\"},\"hatch_scale\":{\"value\":12.0},\"hatch_weight\":{\"value\":1.0},\"line_alpha\":{\"value\":1.0},\"line_cap\":{\"value\":\"butt\"},\"line_color\":{\"value\":\"black\"},\"line_dash\":{\"value\":[]},\"line_dash_offset\":{\"value\":0},\"line_join\":{\"value\":\"bevel\"},\"line_width\":{\"value\":2},\"top\":{\"field\":\"gia\"},\"width\":{\"value\":0.8},\"x\":{\"field\":\"noi_that\"}},\"id\":\"15429\",\"type\":\"VBar\"},{\"attributes\":{\"factors\":[\"cao c\\u1ea5p\",\"tr\\u1ed1ng\",\"t\\u1eb7ng\",\"\\u0111\\u1ea7y \\u0111\\u1ee7\"],\"tags\":[[[\"noi_that\",\"noi_that\",null]]]},\"id\":\"15389\",\"type\":\"FactorRange\"},{\"attributes\":{\"source\":{\"id\":\"15421\"}},\"id\":\"15428\",\"type\":\"CDSView\"},{\"attributes\":{\"fill_alpha\":{\"value\":0.2},\"fill_color\":{\"value\":\"#30a2da\"},\"hatch_alpha\":{\"value\":0.2},\"hatch_color\":{\"value\":\"#30a2da\"},\"line_alpha\":{\"value\":0.2},\"line_width\":{\"value\":2},\"top\":{\"field\":\"gia\"},\"width\":{\"value\":0.8},\"x\":{\"field\":\"noi_that\"}},\"id\":\"15426\",\"type\":\"VBar\"},{\"attributes\":{\"client_comm_id\":\"d8e1c9c08b144fba8fa421635aa0ba38\",\"comm_id\":\"b263b446970a48fa962a9ecefb1f117d\",\"plot_id\":\"15380\"},\"id\":\"15476\",\"type\":\"panel.models.comm_manager.CommManager\"},{\"attributes\":{\"data\":{\"gia\":{\"__ndarray__\":\"pR2GNOFuu0DJ8ILacfjBQFW2dx1QusFARaKNCfbAtkA=\",\"dtype\":\"float64\",\"order\":\"little\",\"shape\":[4]},\"noi_that\":[\"cao c\\u1ea5p\",\"tr\\u1ed1ng\",\"t\\u1eb7ng\",\"\\u0111\\u1ea7y \\u0111\\u1ee7\"]},\"selected\":{\"id\":\"15422\"},\"selection_policy\":{\"id\":\"15443\"}},\"id\":\"15421\",\"type\":\"ColumnDataSource\"},{\"attributes\":{\"end\":33600,\"margin\":[5,10,5,10],\"start\":1,\"step\":5,\"title\":\"Gi\\u00e1 nh\\u1ecf nh\\u1ea5t slider\",\"value\":1},\"id\":\"15385\",\"type\":\"Slider\"},{\"attributes\":{\"coordinates\":null,\"data_source\":{\"id\":\"15421\"},\"glyph\":{\"id\":\"15424\"},\"group\":null,\"hover_glyph\":null,\"muted_glyph\":{\"id\":\"15426\"},\"nonselection_glyph\":{\"id\":\"15425\"},\"selection_glyph\":{\"id\":\"15429\"},\"view\":{\"id\":\"15428\"}},\"id\":\"15427\",\"type\":\"GlyphRenderer\"},{\"attributes\":{\"below\":[{\"id\":\"15401\"}],\"center\":[{\"id\":\"15403\"},{\"id\":\"15407\"}],\"height\":300,\"left\":[{\"id\":\"15404\"}],\"margin\":[5,5,5,5],\"min_border_bottom\":10,\"min_border_left\":10,\"min_border_right\":10,\"min_border_top\":10,\"renderers\":[{\"id\":\"15427\"}],\"sizing_mode\":\"fixed\",\"title\":{\"id\":\"15393\"},\"toolbar\":{\"id\":\"15414\"},\"width\":700,\"x_range\":{\"id\":\"15389\"},\"x_scale\":{\"id\":\"15397\"},\"y_range\":{\"id\":\"15390\"},\"y_scale\":{\"id\":\"15399\"}},\"id\":\"15392\",\"subtype\":\"Figure\",\"type\":\"Plot\"},{\"attributes\":{\"active\":0,\"button_type\":\"success\",\"labels\":[\"c\\u00f3\",\"kh\\u00f4ng\"],\"margin\":[5,10,5,10]},\"id\":\"15386\",\"type\":\"RadioButtonGroup\"},{\"attributes\":{\"fill_alpha\":{\"value\":0.1},\"fill_color\":{\"value\":\"#30a2da\"},\"hatch_alpha\":{\"value\":0.1},\"hatch_color\":{\"value\":\"#30a2da\"},\"line_alpha\":{\"value\":0.1},\"line_width\":{\"value\":2},\"top\":{\"field\":\"gia\"},\"width\":{\"value\":0.8},\"x\":{\"field\":\"noi_that\"}},\"id\":\"15425\",\"type\":\"VBar\"},{\"attributes\":{},\"id\":\"15422\",\"type\":\"Selection\"},{\"attributes\":{\"margin\":[5,5,5,5],\"name\":\"HSpacer33318\",\"sizing_mode\":\"stretch_width\"},\"id\":\"15387\",\"type\":\"Spacer\"},{\"attributes\":{\"callback\":null,\"renderers\":[{\"id\":\"15427\"}],\"tags\":[\"hv_created\"],\"tooltips\":[[\"noi_that\",\"@{noi_that}\"],[\"gia\",\"@{gia}\"]]},\"id\":\"15391\",\"type\":\"HoverTool\"},{\"attributes\":{},\"id\":\"15402\",\"type\":\"CategoricalTicker\"},{\"attributes\":{},\"id\":\"15431\",\"type\":\"CategoricalTickFormatter\"},{\"attributes\":{},\"id\":\"15399\",\"type\":\"LinearScale\"},{\"attributes\":{},\"id\":\"15435\",\"type\":\"AllLabels\"},{\"attributes\":{},\"id\":\"15443\",\"type\":\"UnionRenderers\"},{\"attributes\":{\"end\":9538.482320708386,\"reset_end\":9538.482320708386,\"reset_start\":0.0,\"tags\":[[[\"gia\",\"gia\",null]]]},\"id\":\"15390\",\"type\":\"Range1d\"},{\"attributes\":{\"children\":[{\"id\":\"15381\"}],\"margin\":[0,0,0,0],\"name\":\"Row33321\"},\"id\":\"15380\",\"type\":\"Row\"},{\"attributes\":{},\"id\":\"15409\",\"type\":\"PanTool\"},{\"attributes\":{\"axis_label\":\"noi_that\",\"coordinates\":null,\"formatter\":{\"id\":\"15431\"},\"group\":null,\"major_label_orientation\":0.7853981633974483,\"major_label_policy\":{\"id\":\"15432\"},\"ticker\":{\"id\":\"15402\"}},\"id\":\"15401\",\"type\":\"CategoricalAxis\"},{\"attributes\":{\"axis\":{\"id\":\"15404\"},\"coordinates\":null,\"dimension\":1,\"grid_line_color\":null,\"group\":null,\"ticker\":null},\"id\":\"15407\",\"type\":\"Grid\"},{\"attributes\":{\"fill_color\":{\"value\":\"#30a2da\"},\"hatch_color\":{\"value\":\"#30a2da\"},\"line_width\":{\"value\":2},\"top\":{\"field\":\"gia\"},\"width\":{\"value\":0.8},\"x\":{\"field\":\"noi_that\"}},\"id\":\"15424\",\"type\":\"VBar\"},{\"attributes\":{\"axis_label\":\"gia\",\"coordinates\":null,\"formatter\":{\"id\":\"15434\"},\"group\":null,\"major_label_policy\":{\"id\":\"15435\"},\"ticker\":{\"id\":\"15405\"}},\"id\":\"15404\",\"type\":\"LinearAxis\"},{\"attributes\":{},\"id\":\"15405\",\"type\":\"BasicTicker\"},{\"attributes\":{},\"id\":\"15410\",\"type\":\"WheelZoomTool\"}],\"root_ids\":[\"15380\",\"15476\"]},\"title\":\"Bokeh Application\",\"version\":\"2.4.3\"}};\n",
       "    var render_items = [{\"docid\":\"f84e5d5c-b29f-46d4-b0ac-b1e72c533e8c\",\"root_ids\":[\"15380\"],\"roots\":{\"15380\":\"70dc55a6-b56b-47f0-a591-a9dbb560b12a\"}}];\n",
       "    root.Bokeh.embed.embed_items_notebook(docs_json, render_items);\n",
       "  }\n",
       "  if (root.Bokeh !== undefined && root.Bokeh.Panel !== undefined && ( root['Tabulator'] !== undefined)) {\n",
       "    embed_document(root);\n",
       "  } else {\n",
       "    var attempts = 0;\n",
       "    var timer = setInterval(function(root) {\n",
       "      if (root.Bokeh !== undefined && root.Bokeh.Panel !== undefined && (root['Tabulator'] !== undefined)) {\n",
       "        clearInterval(timer);\n",
       "        embed_document(root);\n",
       "      } else if (document.readyState == \"complete\") {\n",
       "        attempts++;\n",
       "        if (attempts > 200) {\n",
       "          clearInterval(timer);\n",
       "          console.log(\"Bokeh: ERROR: Unable to run BokehJS code because BokehJS library is missing\");\n",
       "        }\n",
       "      }\n",
       "    }, 25, root)\n",
       "  }\n",
       "})(window);</script>"
      ],
      "text/plain": [
       "<hvplot.interactive.Interactive at 0x2b20011b970>"
      ]
     },
     "execution_count": 49,
     "metadata": {
      "application/vnd.holoviews_exec.v0+json": {
       "id": "15380"
      }
     },
     "output_type": "execute_result"
    }
   ],
   "source": [
    "gia_noithat_plot = gia_noithat.hvplot(kind='bar', x='noi_that', y='gia',line_width=2, title=\"Biến đổi trung bình giá nhà theo sỡ hữu nội thất\",rot=45)\n",
    "gia_noithat_plot"
   ]
  },
  {
   "cell_type": "code",
   "execution_count": 35,
   "id": "621e61da",
   "metadata": {},
   "outputs": [],
   "source": [
    "left_panel = [\n",
    "    pn.pane.Markdown(\"# Giới thiệu\"),\n",
    "    pn.pane.Markdown(\"#### Đây là Dashboard phân tích dữ liệu giá nhà của \"),\n",
    "    pn.pane.Markdown(\"Người làm - Nguyễn Duy Đường Vũ\"), \n",
    "    pn.pane.PNG('nha.png', sizing_mode='scale_both'),\n",
    "    pn.pane.Markdown(\"## Settings\"), \n",
    "    pn.Row(gia_nho_nhat_slider, align=\"center\"),\n",
    "    pn.Row(gia_lon_nhat_slider, align=\"center\")\n",
    "    \n",
    "]"
   ]
  },
  {
   "cell_type": "code",
   "execution_count": 50,
   "id": "69469b23",
   "metadata": {},
   "outputs": [
    {
     "name": "stdout",
     "output_type": "stream",
     "text": [
      "Launching server at http://localhost:50119\n"
     ]
    },
    {
     "data": {
      "text/plain": [
       "<bokeh.server.server.Server at 0x2b200445750>"
      ]
     },
     "execution_count": 50,
     "metadata": {},
     "output_type": "execute_result"
    }
   ],
   "source": [
    "template = pn.template.FastListTemplate(\n",
    "    title=\"Dashboard\",\n",
    "    sidebar=left_panel,\n",
    "    main = [\n",
    "        pn.Row(\n",
    "            pn.Column(gia_sodo_plot.panel(width=400), margin=(0,5)),\n",
    "            pn.Column(dien_tich_the_loai_plot.panel(width=400), margin=(0,1)),\n",
    "        ),\n",
    "        \n",
    "        pn.Row(\n",
    "            pn.Column(so_tang_the_loai_plot.panel(width=400), margin=(0,5)),\n",
    "            pn.Column(phong_ngu_the_loai_plot.panel(width=400), margin=(0,1)),\n",
    "        ),\n",
    "        \n",
    "        pn.Row(\n",
    "            pn.Column(\n",
    "                pn.Row(duong_combobox),\n",
    "                pn.Row(gia_tenquan_plot.panel(width=1000))\n",
    "            ),\n",
    "        ),\n",
    "        \n",
    "        pn.Row(\n",
    "             pn.Column(                 \n",
    "                pn.Row(huongnha_combobox),\n",
    "                pn.Row(gia_duong_plot.panel(width=600))\n",
    "             ),\n",
    "        ),\n",
    "        \n",
    "        pn.Row(\n",
    "            pn.Column(                 \n",
    "                pn.Row(noi_that_radio),\n",
    "                pn.Row(gia_theloai_plot.panel(width=400), margin=(0,3))\n",
    "            ),\n",
    "                        \n",
    "            pn.Column(                 \n",
    "                pn.Row(so_do_radio),\n",
    "                pn.Row(gia_noithat_plot.panel(width=600), margin=(0,1))\n",
    "            ),\n",
    "        )\n",
    "    ]\n",
    ")\n",
    "template.show()"
   ]
  },
  {
   "cell_type": "code",
   "execution_count": null,
   "id": "22183a3f",
   "metadata": {},
   "outputs": [],
   "source": []
  }
 ],
 "metadata": {
  "kernelspec": {
   "display_name": "Python 3 (ipykernel)",
   "language": "python",
   "name": "python3"
  },
  "language_info": {
   "codemirror_mode": {
    "name": "ipython",
    "version": 3
   },
   "file_extension": ".py",
   "mimetype": "text/x-python",
   "name": "python",
   "nbconvert_exporter": "python",
   "pygments_lexer": "ipython3",
   "version": "3.10.5"
  }
 },
 "nbformat": 4,
 "nbformat_minor": 5
}
